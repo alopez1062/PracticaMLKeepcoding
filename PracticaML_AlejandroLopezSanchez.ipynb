{
 "cells": [
  {
   "cell_type": "markdown",
   "metadata": {},
   "source": [
    "# Práctica Machine Learning"
   ]
  },
  {
   "cell_type": "markdown",
   "metadata": {},
   "source": [
    "### Alumno: Alejandro López Sánchez\n",
    "\n",
    "### V Bootcamp Big Data y ML Keepcoding"
   ]
  },
  {
   "cell_type": "markdown",
   "metadata": {},
   "source": [
    "<span style=\"color:ROYALBLUE\"></span>"
   ]
  },
  {
   "cell_type": "markdown",
   "metadata": {},
   "source": [
    "<span style=\"color:ROYALBLUE\">Importamos las funciones y librerías necesarias</span>"
   ]
  },
  {
   "cell_type": "code",
   "execution_count": 1,
   "metadata": {},
   "outputs": [],
   "source": [
    "import pandas as pd\n",
    "from sklearn.model_selection import train_test_split\n",
    "import seaborn as sns\n",
    "import numpy as np\n",
    "import matplotlib.pyplot as plt\n",
    "from sklearn import preprocessing\n",
    "from sklearn.model_selection import GridSearchCV\n",
    "from sklearn.linear_model import Lasso\n",
    "from sklearn.ensemble import RandomForestRegressor\n",
    "from sklearn.feature_selection import f_regression, mutual_info_regression\n",
    "from sklearn.tree import DecisionTreeRegressor\n",
    "from sklearn.linear_model import LinearRegression\n",
    "from sklearn.linear_model import Ridge"
   ]
  },
  {
   "cell_type": "markdown",
   "metadata": {},
   "source": [
    "<span style=\"color:ROYALBLUE\">Vamos a cargar el dataset, utilizo el mismo que nos entrega el profesor para evitar problemas.</span>\n",
    "\n",
    "<span style=\"color:ROYALBLUE\">Dividimos el dataset en train y test lo primero para evitar malas prácticas.</span>"
   ]
  },
  {
   "cell_type": "code",
   "execution_count": 2,
   "metadata": {},
   "outputs": [
    {
     "name": "stdout",
     "output_type": "stream",
     "text": [
      "Dimensiones del dataset de training: (11824, 89)\n",
      "Dimensiones del dataset de test: (2956, 89)\n"
     ]
    }
   ],
   "source": [
    "df = pd.read_csv('./airbnb-listings-extract.csv', sep=';', decimal='.')\n",
    "train, test = train_test_split(df, test_size=0.2, shuffle=True, random_state=0)\n",
    "\n",
    "print(f'Dimensiones del dataset de training: {train.shape}')\n",
    "print(f'Dimensiones del dataset de test: {test.shape}')\n",
    "\n",
    "train.to_csv('./train.csv', sep=';', decimal='.', index=False)\n",
    "test.to_csv('./test.csv', sep=';', decimal='.', index=False)"
   ]
  },
  {
   "cell_type": "markdown",
   "metadata": {},
   "source": [
    "<span style=\"color:ROYALBLUE\">De aquí en adelante usaremos el dataframe de train.</span>"
   ]
  },
  {
   "cell_type": "code",
   "execution_count": 3,
   "metadata": {},
   "outputs": [],
   "source": [
    "df = pd.read_csv('./train.csv', sep=';', decimal='.')"
   ]
  },
  {
   "cell_type": "markdown",
   "metadata": {},
   "source": [
    "<span style=\"color:ROYALBLUE\">Realizamos un primer análisis exploratorio, para ver que columnas no vamos a necesitar.</span>"
   ]
  },
  {
   "cell_type": "code",
   "execution_count": 4,
   "metadata": {},
   "outputs": [
    {
     "data": {
      "text/html": [
       "<div>\n",
       "<style scoped>\n",
       "    .dataframe tbody tr th:only-of-type {\n",
       "        vertical-align: middle;\n",
       "    }\n",
       "\n",
       "    .dataframe tbody tr th {\n",
       "        vertical-align: top;\n",
       "    }\n",
       "\n",
       "    .dataframe thead th {\n",
       "        text-align: right;\n",
       "    }\n",
       "</style>\n",
       "<table border=\"1\" class=\"dataframe\">\n",
       "  <thead>\n",
       "    <tr style=\"text-align: right;\">\n",
       "      <th></th>\n",
       "      <th>ID</th>\n",
       "      <th>Listing Url</th>\n",
       "      <th>Scrape ID</th>\n",
       "      <th>Last Scraped</th>\n",
       "      <th>Name</th>\n",
       "      <th>Summary</th>\n",
       "      <th>Space</th>\n",
       "      <th>Description</th>\n",
       "      <th>Experiences Offered</th>\n",
       "      <th>Neighborhood Overview</th>\n",
       "      <th>...</th>\n",
       "      <th>Review Scores Communication</th>\n",
       "      <th>Review Scores Location</th>\n",
       "      <th>Review Scores Value</th>\n",
       "      <th>License</th>\n",
       "      <th>Jurisdiction Names</th>\n",
       "      <th>Cancellation Policy</th>\n",
       "      <th>Calculated host listings count</th>\n",
       "      <th>Reviews per Month</th>\n",
       "      <th>Geolocation</th>\n",
       "      <th>Features</th>\n",
       "    </tr>\n",
       "  </thead>\n",
       "  <tbody>\n",
       "    <tr>\n",
       "      <td>0</td>\n",
       "      <td>5994463</td>\n",
       "      <td>https://www.airbnb.com/rooms/5994463</td>\n",
       "      <td>20170407214119</td>\n",
       "      <td>2017-04-08</td>\n",
       "      <td>PISO ATOCHA- FLAT NEAR ATOCHA  .</td>\n",
       "      <td>Piso recién reformado cómoda habitación con ba...</td>\n",
       "      <td>Un piso muy cómodo en Jerónimos, una de las zo...</td>\n",
       "      <td>Piso recién reformado cómoda habitación con ba...</td>\n",
       "      <td>none</td>\n",
       "      <td>El barrio de Jeronimos es un enclave tranquilo...</td>\n",
       "      <td>...</td>\n",
       "      <td>10.0</td>\n",
       "      <td>10.0</td>\n",
       "      <td>9.0</td>\n",
       "      <td>NaN</td>\n",
       "      <td>NaN</td>\n",
       "      <td>moderate</td>\n",
       "      <td>2.0</td>\n",
       "      <td>0.50</td>\n",
       "      <td>40.4077318793,-3.68481869733</td>\n",
       "      <td>Host Has Profile Pic,Is Location Exact,Require...</td>\n",
       "    </tr>\n",
       "    <tr>\n",
       "      <td>1</td>\n",
       "      <td>14136180</td>\n",
       "      <td>https://www.airbnb.com/rooms/14136180</td>\n",
       "      <td>20170407214119</td>\n",
       "      <td>2017-04-08</td>\n",
       "      <td>The Palace Sol Madrid.</td>\n",
       "      <td>Lugares de interés: Plaza Mayor, Plaza del Sol...</td>\n",
       "      <td>El apartamento dispone de un dormitorio indepe...</td>\n",
       "      <td>Lugares de interés: Plaza Mayor, Plaza del Sol...</td>\n",
       "      <td>none</td>\n",
       "      <td>Situado en el corazón de Madrid, este apartame...</td>\n",
       "      <td>...</td>\n",
       "      <td>10.0</td>\n",
       "      <td>10.0</td>\n",
       "      <td>10.0</td>\n",
       "      <td>NaN</td>\n",
       "      <td>NaN</td>\n",
       "      <td>flexible</td>\n",
       "      <td>1.0</td>\n",
       "      <td>2.43</td>\n",
       "      <td>40.4158022422,-3.70534037765</td>\n",
       "      <td>Host Has Profile Pic,Host Identity Verified,Re...</td>\n",
       "    </tr>\n",
       "    <tr>\n",
       "      <td>2</td>\n",
       "      <td>15520134</td>\n",
       "      <td>https://www.airbnb.com/rooms/15520134</td>\n",
       "      <td>20170407214119</td>\n",
       "      <td>2017-04-08</td>\n",
       "      <td>por persona la noche metro linea5 vista alegre</td>\n",
       "      <td>我的房源靠近餐厅和餐饮、适合家庭的活动、公共交通。因为舒适的床、温馨、厨房、景观,您一定会爱...</td>\n",
       "      <td>NaN</td>\n",
       "      <td>我的房源靠近餐厅和餐饮、适合家庭的活动、公共交通。因为舒适的床、温馨、厨房、景观,您一定会爱...</td>\n",
       "      <td>none</td>\n",
       "      <td>NaN</td>\n",
       "      <td>...</td>\n",
       "      <td>NaN</td>\n",
       "      <td>NaN</td>\n",
       "      <td>NaN</td>\n",
       "      <td>NaN</td>\n",
       "      <td>NaN</td>\n",
       "      <td>moderate</td>\n",
       "      <td>16.0</td>\n",
       "      <td>NaN</td>\n",
       "      <td>40.3890481626,-3.74037392557</td>\n",
       "      <td>Host Has Profile Pic,Host Identity Verified,Is...</td>\n",
       "    </tr>\n",
       "    <tr>\n",
       "      <td>3</td>\n",
       "      <td>8809721</td>\n",
       "      <td>https://www.airbnb.com/rooms/8809721</td>\n",
       "      <td>20170407214119</td>\n",
       "      <td>2017-04-08</td>\n",
       "      <td>CITY CENTER JACINTO BENAVENTE ROOM4</td>\n",
       "      <td>This stunning and amazig room is covered with ...</td>\n",
       "      <td>NaN</td>\n",
       "      <td>This stunning and amazig room is covered with ...</td>\n",
       "      <td>none</td>\n",
       "      <td>NaN</td>\n",
       "      <td>...</td>\n",
       "      <td>NaN</td>\n",
       "      <td>NaN</td>\n",
       "      <td>NaN</td>\n",
       "      <td>NaN</td>\n",
       "      <td>NaN</td>\n",
       "      <td>strict</td>\n",
       "      <td>97.0</td>\n",
       "      <td>NaN</td>\n",
       "      <td>40.4128140929,-3.70305247638</td>\n",
       "      <td>Host Has Profile Pic,Requires License</td>\n",
       "    </tr>\n",
       "    <tr>\n",
       "      <td>4</td>\n",
       "      <td>1162707</td>\n",
       "      <td>https://www.airbnb.com/rooms/1162707</td>\n",
       "      <td>20170407214119</td>\n",
       "      <td>2017-04-08</td>\n",
       "      <td>NICE &amp; BIG DOUBLE ROOM AT DOWNTOWN</td>\n",
       "      <td>NaN</td>\n",
       "      <td>We are a young couple; David (Spain) and Ana (...</td>\n",
       "      <td>We are a young couple; David (Spain) and Ana (...</td>\n",
       "      <td>none</td>\n",
       "      <td>NaN</td>\n",
       "      <td>...</td>\n",
       "      <td>10.0</td>\n",
       "      <td>9.0</td>\n",
       "      <td>9.0</td>\n",
       "      <td>NaN</td>\n",
       "      <td>NaN</td>\n",
       "      <td>strict</td>\n",
       "      <td>2.0</td>\n",
       "      <td>2.08</td>\n",
       "      <td>40.4386311984,-3.71371613279</td>\n",
       "      <td>Host Has Profile Pic,Host Identity Verified,Is...</td>\n",
       "    </tr>\n",
       "  </tbody>\n",
       "</table>\n",
       "<p>5 rows × 89 columns</p>\n",
       "</div>"
      ],
      "text/plain": [
       "         ID                            Listing Url       Scrape ID  \\\n",
       "0   5994463   https://www.airbnb.com/rooms/5994463  20170407214119   \n",
       "1  14136180  https://www.airbnb.com/rooms/14136180  20170407214119   \n",
       "2  15520134  https://www.airbnb.com/rooms/15520134  20170407214119   \n",
       "3   8809721   https://www.airbnb.com/rooms/8809721  20170407214119   \n",
       "4   1162707   https://www.airbnb.com/rooms/1162707  20170407214119   \n",
       "\n",
       "  Last Scraped                                            Name  \\\n",
       "0   2017-04-08                PISO ATOCHA- FLAT NEAR ATOCHA  .   \n",
       "1   2017-04-08                          The Palace Sol Madrid.   \n",
       "2   2017-04-08  por persona la noche metro linea5 vista alegre   \n",
       "3   2017-04-08             CITY CENTER JACINTO BENAVENTE ROOM4   \n",
       "4   2017-04-08              NICE & BIG DOUBLE ROOM AT DOWNTOWN   \n",
       "\n",
       "                                             Summary  \\\n",
       "0  Piso recién reformado cómoda habitación con ba...   \n",
       "1  Lugares de interés: Plaza Mayor, Plaza del Sol...   \n",
       "2  我的房源靠近餐厅和餐饮、适合家庭的活动、公共交通。因为舒适的床、温馨、厨房、景观,您一定会爱...   \n",
       "3  This stunning and amazig room is covered with ...   \n",
       "4                                                NaN   \n",
       "\n",
       "                                               Space  \\\n",
       "0  Un piso muy cómodo en Jerónimos, una de las zo...   \n",
       "1  El apartamento dispone de un dormitorio indepe...   \n",
       "2                                                NaN   \n",
       "3                                                NaN   \n",
       "4  We are a young couple; David (Spain) and Ana (...   \n",
       "\n",
       "                                         Description Experiences Offered  \\\n",
       "0  Piso recién reformado cómoda habitación con ba...                none   \n",
       "1  Lugares de interés: Plaza Mayor, Plaza del Sol...                none   \n",
       "2  我的房源靠近餐厅和餐饮、适合家庭的活动、公共交通。因为舒适的床、温馨、厨房、景观,您一定会爱...                none   \n",
       "3  This stunning and amazig room is covered with ...                none   \n",
       "4  We are a young couple; David (Spain) and Ana (...                none   \n",
       "\n",
       "                               Neighborhood Overview  ...  \\\n",
       "0  El barrio de Jeronimos es un enclave tranquilo...  ...   \n",
       "1  Situado en el corazón de Madrid, este apartame...  ...   \n",
       "2                                                NaN  ...   \n",
       "3                                                NaN  ...   \n",
       "4                                                NaN  ...   \n",
       "\n",
       "  Review Scores Communication Review Scores Location Review Scores Value  \\\n",
       "0                        10.0                   10.0                 9.0   \n",
       "1                        10.0                   10.0                10.0   \n",
       "2                         NaN                    NaN                 NaN   \n",
       "3                         NaN                    NaN                 NaN   \n",
       "4                        10.0                    9.0                 9.0   \n",
       "\n",
       "  License Jurisdiction Names Cancellation Policy  \\\n",
       "0     NaN                NaN            moderate   \n",
       "1     NaN                NaN            flexible   \n",
       "2     NaN                NaN            moderate   \n",
       "3     NaN                NaN              strict   \n",
       "4     NaN                NaN              strict   \n",
       "\n",
       "  Calculated host listings count Reviews per Month  \\\n",
       "0                            2.0              0.50   \n",
       "1                            1.0              2.43   \n",
       "2                           16.0               NaN   \n",
       "3                           97.0               NaN   \n",
       "4                            2.0              2.08   \n",
       "\n",
       "                    Geolocation  \\\n",
       "0  40.4077318793,-3.68481869733   \n",
       "1  40.4158022422,-3.70534037765   \n",
       "2  40.3890481626,-3.74037392557   \n",
       "3  40.4128140929,-3.70305247638   \n",
       "4  40.4386311984,-3.71371613279   \n",
       "\n",
       "                                            Features  \n",
       "0  Host Has Profile Pic,Is Location Exact,Require...  \n",
       "1  Host Has Profile Pic,Host Identity Verified,Re...  \n",
       "2  Host Has Profile Pic,Host Identity Verified,Is...  \n",
       "3              Host Has Profile Pic,Requires License  \n",
       "4  Host Has Profile Pic,Host Identity Verified,Is...  \n",
       "\n",
       "[5 rows x 89 columns]"
      ]
     },
     "execution_count": 4,
     "metadata": {},
     "output_type": "execute_result"
    }
   ],
   "source": [
    "df.head()"
   ]
  },
  {
   "cell_type": "code",
   "execution_count": 5,
   "metadata": {},
   "outputs": [
    {
     "data": {
      "text/plain": [
       "(11824, 89)"
      ]
     },
     "execution_count": 5,
     "metadata": {},
     "output_type": "execute_result"
    }
   ],
   "source": [
    "df.shape"
   ]
  },
  {
   "cell_type": "markdown",
   "metadata": {},
   "source": [
    "<span style=\"color:ROYALBLUE\">El dataset contiene 11.824 filas y 89 columnas (variables).</span>\n",
    "\n",
    "<span style=\"color:ROYALBLUE\">Vamos a listar todas las columnas para ir analizándolas.</span>"
   ]
  },
  {
   "cell_type": "code",
   "execution_count": 6,
   "metadata": {},
   "outputs": [
    {
     "data": {
      "text/plain": [
       "Index(['ID', 'Listing Url', 'Scrape ID', 'Last Scraped', 'Name', 'Summary',\n",
       "       'Space', 'Description', 'Experiences Offered', 'Neighborhood Overview',\n",
       "       'Notes', 'Transit', 'Access', 'Interaction', 'House Rules',\n",
       "       'Thumbnail Url', 'Medium Url', 'Picture Url', 'XL Picture Url',\n",
       "       'Host ID', 'Host URL', 'Host Name', 'Host Since', 'Host Location',\n",
       "       'Host About', 'Host Response Time', 'Host Response Rate',\n",
       "       'Host Acceptance Rate', 'Host Thumbnail Url', 'Host Picture Url',\n",
       "       'Host Neighbourhood', 'Host Listings Count',\n",
       "       'Host Total Listings Count', 'Host Verifications', 'Street',\n",
       "       'Neighbourhood', 'Neighbourhood Cleansed',\n",
       "       'Neighbourhood Group Cleansed', 'City', 'State', 'Zipcode', 'Market',\n",
       "       'Smart Location', 'Country Code', 'Country', 'Latitude', 'Longitude',\n",
       "       'Property Type', 'Room Type', 'Accommodates', 'Bathrooms', 'Bedrooms',\n",
       "       'Beds', 'Bed Type', 'Amenities', 'Square Feet', 'Price', 'Weekly Price',\n",
       "       'Monthly Price', 'Security Deposit', 'Cleaning Fee', 'Guests Included',\n",
       "       'Extra People', 'Minimum Nights', 'Maximum Nights', 'Calendar Updated',\n",
       "       'Has Availability', 'Availability 30', 'Availability 60',\n",
       "       'Availability 90', 'Availability 365', 'Calendar last Scraped',\n",
       "       'Number of Reviews', 'First Review', 'Last Review',\n",
       "       'Review Scores Rating', 'Review Scores Accuracy',\n",
       "       'Review Scores Cleanliness', 'Review Scores Checkin',\n",
       "       'Review Scores Communication', 'Review Scores Location',\n",
       "       'Review Scores Value', 'License', 'Jurisdiction Names',\n",
       "       'Cancellation Policy', 'Calculated host listings count',\n",
       "       'Reviews per Month', 'Geolocation', 'Features'],\n",
       "      dtype='object')"
      ]
     },
     "execution_count": 6,
     "metadata": {},
     "output_type": "execute_result"
    }
   ],
   "source": [
    "df.columns"
   ]
  },
  {
   "cell_type": "markdown",
   "metadata": {},
   "source": [
    "<span style=\"color:ROYALBLUE\">Iremos analizando las columnas en lotes para poder visualizarlas con la función head, o describe.</span>"
   ]
  },
  {
   "cell_type": "code",
   "execution_count": 7,
   "metadata": {},
   "outputs": [
    {
     "data": {
      "text/html": [
       "<div>\n",
       "<style scoped>\n",
       "    .dataframe tbody tr th:only-of-type {\n",
       "        vertical-align: middle;\n",
       "    }\n",
       "\n",
       "    .dataframe tbody tr th {\n",
       "        vertical-align: top;\n",
       "    }\n",
       "\n",
       "    .dataframe thead th {\n",
       "        text-align: right;\n",
       "    }\n",
       "</style>\n",
       "<table border=\"1\" class=\"dataframe\">\n",
       "  <thead>\n",
       "    <tr style=\"text-align: right;\">\n",
       "      <th></th>\n",
       "      <th>ID</th>\n",
       "      <th>Listing Url</th>\n",
       "      <th>Scrape ID</th>\n",
       "      <th>Last Scraped</th>\n",
       "      <th>Name</th>\n",
       "      <th>Summary</th>\n",
       "      <th>Space</th>\n",
       "      <th>Description</th>\n",
       "      <th>Experiences Offered</th>\n",
       "      <th>Neighborhood Overview</th>\n",
       "    </tr>\n",
       "  </thead>\n",
       "  <tbody>\n",
       "    <tr>\n",
       "      <td>0</td>\n",
       "      <td>5994463</td>\n",
       "      <td>https://www.airbnb.com/rooms/5994463</td>\n",
       "      <td>20170407214119</td>\n",
       "      <td>2017-04-08</td>\n",
       "      <td>PISO ATOCHA- FLAT NEAR ATOCHA  .</td>\n",
       "      <td>Piso recién reformado cómoda habitación con ba...</td>\n",
       "      <td>Un piso muy cómodo en Jerónimos, una de las zo...</td>\n",
       "      <td>Piso recién reformado cómoda habitación con ba...</td>\n",
       "      <td>none</td>\n",
       "      <td>El barrio de Jeronimos es un enclave tranquilo...</td>\n",
       "    </tr>\n",
       "    <tr>\n",
       "      <td>1</td>\n",
       "      <td>14136180</td>\n",
       "      <td>https://www.airbnb.com/rooms/14136180</td>\n",
       "      <td>20170407214119</td>\n",
       "      <td>2017-04-08</td>\n",
       "      <td>The Palace Sol Madrid.</td>\n",
       "      <td>Lugares de interés: Plaza Mayor, Plaza del Sol...</td>\n",
       "      <td>El apartamento dispone de un dormitorio indepe...</td>\n",
       "      <td>Lugares de interés: Plaza Mayor, Plaza del Sol...</td>\n",
       "      <td>none</td>\n",
       "      <td>Situado en el corazón de Madrid, este apartame...</td>\n",
       "    </tr>\n",
       "    <tr>\n",
       "      <td>2</td>\n",
       "      <td>15520134</td>\n",
       "      <td>https://www.airbnb.com/rooms/15520134</td>\n",
       "      <td>20170407214119</td>\n",
       "      <td>2017-04-08</td>\n",
       "      <td>por persona la noche metro linea5 vista alegre</td>\n",
       "      <td>我的房源靠近餐厅和餐饮、适合家庭的活动、公共交通。因为舒适的床、温馨、厨房、景观,您一定会爱...</td>\n",
       "      <td>NaN</td>\n",
       "      <td>我的房源靠近餐厅和餐饮、适合家庭的活动、公共交通。因为舒适的床、温馨、厨房、景观,您一定会爱...</td>\n",
       "      <td>none</td>\n",
       "      <td>NaN</td>\n",
       "    </tr>\n",
       "    <tr>\n",
       "      <td>3</td>\n",
       "      <td>8809721</td>\n",
       "      <td>https://www.airbnb.com/rooms/8809721</td>\n",
       "      <td>20170407214119</td>\n",
       "      <td>2017-04-08</td>\n",
       "      <td>CITY CENTER JACINTO BENAVENTE ROOM4</td>\n",
       "      <td>This stunning and amazig room is covered with ...</td>\n",
       "      <td>NaN</td>\n",
       "      <td>This stunning and amazig room is covered with ...</td>\n",
       "      <td>none</td>\n",
       "      <td>NaN</td>\n",
       "    </tr>\n",
       "    <tr>\n",
       "      <td>4</td>\n",
       "      <td>1162707</td>\n",
       "      <td>https://www.airbnb.com/rooms/1162707</td>\n",
       "      <td>20170407214119</td>\n",
       "      <td>2017-04-08</td>\n",
       "      <td>NICE &amp; BIG DOUBLE ROOM AT DOWNTOWN</td>\n",
       "      <td>NaN</td>\n",
       "      <td>We are a young couple; David (Spain) and Ana (...</td>\n",
       "      <td>We are a young couple; David (Spain) and Ana (...</td>\n",
       "      <td>none</td>\n",
       "      <td>NaN</td>\n",
       "    </tr>\n",
       "  </tbody>\n",
       "</table>\n",
       "</div>"
      ],
      "text/plain": [
       "         ID                            Listing Url       Scrape ID  \\\n",
       "0   5994463   https://www.airbnb.com/rooms/5994463  20170407214119   \n",
       "1  14136180  https://www.airbnb.com/rooms/14136180  20170407214119   \n",
       "2  15520134  https://www.airbnb.com/rooms/15520134  20170407214119   \n",
       "3   8809721   https://www.airbnb.com/rooms/8809721  20170407214119   \n",
       "4   1162707   https://www.airbnb.com/rooms/1162707  20170407214119   \n",
       "\n",
       "  Last Scraped                                            Name  \\\n",
       "0   2017-04-08                PISO ATOCHA- FLAT NEAR ATOCHA  .   \n",
       "1   2017-04-08                          The Palace Sol Madrid.   \n",
       "2   2017-04-08  por persona la noche metro linea5 vista alegre   \n",
       "3   2017-04-08             CITY CENTER JACINTO BENAVENTE ROOM4   \n",
       "4   2017-04-08              NICE & BIG DOUBLE ROOM AT DOWNTOWN   \n",
       "\n",
       "                                             Summary  \\\n",
       "0  Piso recién reformado cómoda habitación con ba...   \n",
       "1  Lugares de interés: Plaza Mayor, Plaza del Sol...   \n",
       "2  我的房源靠近餐厅和餐饮、适合家庭的活动、公共交通。因为舒适的床、温馨、厨房、景观,您一定会爱...   \n",
       "3  This stunning and amazig room is covered with ...   \n",
       "4                                                NaN   \n",
       "\n",
       "                                               Space  \\\n",
       "0  Un piso muy cómodo en Jerónimos, una de las zo...   \n",
       "1  El apartamento dispone de un dormitorio indepe...   \n",
       "2                                                NaN   \n",
       "3                                                NaN   \n",
       "4  We are a young couple; David (Spain) and Ana (...   \n",
       "\n",
       "                                         Description Experiences Offered  \\\n",
       "0  Piso recién reformado cómoda habitación con ba...                none   \n",
       "1  Lugares de interés: Plaza Mayor, Plaza del Sol...                none   \n",
       "2  我的房源靠近餐厅和餐饮、适合家庭的活动、公共交通。因为舒适的床、温馨、厨房、景观,您一定会爱...                none   \n",
       "3  This stunning and amazig room is covered with ...                none   \n",
       "4  We are a young couple; David (Spain) and Ana (...                none   \n",
       "\n",
       "                               Neighborhood Overview  \n",
       "0  El barrio de Jeronimos es un enclave tranquilo...  \n",
       "1  Situado en el corazón de Madrid, este apartame...  \n",
       "2                                                NaN  \n",
       "3                                                NaN  \n",
       "4                                                NaN  "
      ]
     },
     "execution_count": 7,
     "metadata": {},
     "output_type": "execute_result"
    }
   ],
   "source": [
    "df.loc[:,['ID', 'Listing Url', 'Scrape ID', 'Last Scraped', 'Name', 'Summary',\n",
    "       'Space', 'Description', 'Experiences Offered', 'Neighborhood Overview']].head()"
   ]
  },
  {
   "cell_type": "code",
   "execution_count": 8,
   "metadata": {},
   "outputs": [
    {
     "data": {
      "text/plain": [
       "ID                        int64\n",
       "Listing Url              object\n",
       "Scrape ID                 int64\n",
       "Last Scraped             object\n",
       "Name                     object\n",
       "Summary                  object\n",
       "Space                    object\n",
       "Description              object\n",
       "Experiences Offered      object\n",
       "Neighborhood Overview    object\n",
       "dtype: object"
      ]
     },
     "execution_count": 8,
     "metadata": {},
     "output_type": "execute_result"
    }
   ],
   "source": [
    "df.loc[:,['ID', 'Listing Url', 'Scrape ID', 'Last Scraped', 'Name', 'Summary',\n",
    "       'Space', 'Description', 'Experiences Offered', 'Neighborhood Overview']].dtypes"
   ]
  },
  {
   "cell_type": "code",
   "execution_count": 9,
   "metadata": {},
   "outputs": [
    {
     "data": {
      "text/plain": [
       "none        11810\n",
       "business        6\n",
       "family          3\n",
       "social          3\n",
       "romantic        2\n",
       "Name: Experiences Offered, dtype: int64"
      ]
     },
     "execution_count": 9,
     "metadata": {},
     "output_type": "execute_result"
    }
   ],
   "source": [
    "df[\"Experiences Offered\"].value_counts()"
   ]
  },
  {
   "cell_type": "markdown",
   "metadata": {},
   "source": [
    "<ul style=\"color:ROYALBLUE\">\n",
    "    <li><b>ID: </b>Es el código que utiliza la base de datos de airbnb para identificar el inmueble. No es relevante para nuestro análisis.</li>\n",
    "    <li><b>Listing Url: </b>Es la url del anuncio del inmueble. No es relevante para nuestro análisis.</li>\n",
    "    <li><b>Scrape ID: </b>Es el código de identificación del scraping. No es relevante para nuestro análisis.</li>\n",
    "    <li><b>Last Scraped: </b>La última vez que fue scrapeado el anuncio. No es relevante para nuestro análisis.</li>\n",
    "    <li><b>Name: </b>El nombre que le ha puesto el anunciante al apartamento. No es relevante para nuestro análisis.</li>\n",
    "    <li><b>Summary: </b>Un resumen de como es el apartamento. No es relevante para nuestro análisis.</li>\n",
    "    <li><b>Space: </b>Descripción del apartamento y alrededores. No es relevante para nuestro análisis.</li>\n",
    "    <li><b>Description: </b>Descripción del apartamento. No es relevante para nuestro análisis.</li>\n",
    "    <li><b>Experiences Offered: </b>Esta columna podría haber sido interesante, pero hemos visto que 11.810 anuncios no tienen información de este tipo. No es relevante para nuestro análisis.</li>\n",
    "    <li><b>Neighborhood Overview: </b>Descripción del barrio. No es relevante para nuestro análisis.</li>\n",
    "</ul>"
   ]
  },
  {
   "cell_type": "code",
   "execution_count": 10,
   "metadata": {},
   "outputs": [
    {
     "data": {
      "text/html": [
       "<div>\n",
       "<style scoped>\n",
       "    .dataframe tbody tr th:only-of-type {\n",
       "        vertical-align: middle;\n",
       "    }\n",
       "\n",
       "    .dataframe tbody tr th {\n",
       "        vertical-align: top;\n",
       "    }\n",
       "\n",
       "    .dataframe thead th {\n",
       "        text-align: right;\n",
       "    }\n",
       "</style>\n",
       "<table border=\"1\" class=\"dataframe\">\n",
       "  <thead>\n",
       "    <tr style=\"text-align: right;\">\n",
       "      <th></th>\n",
       "      <th>Notes</th>\n",
       "      <th>Transit</th>\n",
       "      <th>Access</th>\n",
       "      <th>Interaction</th>\n",
       "      <th>House Rules</th>\n",
       "      <th>Thumbnail Url</th>\n",
       "      <th>Medium Url</th>\n",
       "      <th>Picture Url</th>\n",
       "      <th>XL Picture Url</th>\n",
       "    </tr>\n",
       "  </thead>\n",
       "  <tbody>\n",
       "    <tr>\n",
       "      <td>0</td>\n",
       "      <td>Facilitamos guía de eventos y rutas turísticas...</td>\n",
       "      <td>Excelente ubicación a tan solo 5 minutos andan...</td>\n",
       "      <td>La conexión a internet por fibra óptica 100 MB...</td>\n",
       "      <td>Recibimos personalmente a nuestros huéspedes y...</td>\n",
       "      <td>El apartamento se encuentra en un edificio res...</td>\n",
       "      <td>https://a0.muscache.com/im/pictures/74652419/f...</td>\n",
       "      <td>https://a0.muscache.com/im/pictures/74652419/f...</td>\n",
       "      <td>https://public.opendatasoft.com/api/v2/catalog...</td>\n",
       "      <td>https://a0.muscache.com/im/pictures/74652419/f...</td>\n",
       "    </tr>\n",
       "    <tr>\n",
       "      <td>1</td>\n",
       "      <td>Hora llegada: a partir de las 15:00 horas Hora...</td>\n",
       "      <td>Acceso a todos los medios de trasporte, BUS, M...</td>\n",
       "      <td>NaN</td>\n",
       "      <td>Estimado huésped estaremos disponible todo el ...</td>\n",
       "      <td>- Oír música con volumen moderado. Entrada a p...</td>\n",
       "      <td>https://a0.muscache.com/im/pictures/1565a3a9-2...</td>\n",
       "      <td>https://a0.muscache.com/im/pictures/1565a3a9-2...</td>\n",
       "      <td>https://public.opendatasoft.com/api/v2/catalog...</td>\n",
       "      <td>https://a0.muscache.com/im/pictures/1565a3a9-2...</td>\n",
       "    </tr>\n",
       "    <tr>\n",
       "      <td>2</td>\n",
       "      <td>NaN</td>\n",
       "      <td>羚羊Casa出发 --地铁Metro 5号线vsita alegre--opera转乘2号线...</td>\n",
       "      <td>NaN</td>\n",
       "      <td>NaN</td>\n",
       "      <td>NaN</td>\n",
       "      <td>https://a0.muscache.com/im/pictures/05baad20-7...</td>\n",
       "      <td>https://a0.muscache.com/im/pictures/05baad20-7...</td>\n",
       "      <td>https://public.opendatasoft.com/api/v2/catalog...</td>\n",
       "      <td>https://a0.muscache.com/im/pictures/05baad20-7...</td>\n",
       "    </tr>\n",
       "    <tr>\n",
       "      <td>3</td>\n",
       "      <td>NaN</td>\n",
       "      <td>NaN</td>\n",
       "      <td>NaN</td>\n",
       "      <td>NaN</td>\n",
       "      <td>NaN</td>\n",
       "      <td>https://a0.muscache.com/im/pictures/111496270/...</td>\n",
       "      <td>https://a0.muscache.com/im/pictures/111496270/...</td>\n",
       "      <td>https://public.opendatasoft.com/api/v2/catalog...</td>\n",
       "      <td>https://a0.muscache.com/im/pictures/111496270/...</td>\n",
       "    </tr>\n",
       "    <tr>\n",
       "      <td>4</td>\n",
       "      <td>NaN</td>\n",
       "      <td>NaN</td>\n",
       "      <td>WE CAN DO TO HOST COLLECTION SERVICE FROM THE ...</td>\n",
       "      <td>NaN</td>\n",
       "      <td>In the apartment smoking is not allowed, but i...</td>\n",
       "      <td>https://a0.muscache.com/im/pictures/17487722/1...</td>\n",
       "      <td>https://a0.muscache.com/im/pictures/17487722/1...</td>\n",
       "      <td>https://public.opendatasoft.com/api/v2/catalog...</td>\n",
       "      <td>https://a0.muscache.com/im/pictures/17487722/1...</td>\n",
       "    </tr>\n",
       "  </tbody>\n",
       "</table>\n",
       "</div>"
      ],
      "text/plain": [
       "                                               Notes  \\\n",
       "0  Facilitamos guía de eventos y rutas turísticas...   \n",
       "1  Hora llegada: a partir de las 15:00 horas Hora...   \n",
       "2                                                NaN   \n",
       "3                                                NaN   \n",
       "4                                                NaN   \n",
       "\n",
       "                                             Transit  \\\n",
       "0  Excelente ubicación a tan solo 5 minutos andan...   \n",
       "1  Acceso a todos los medios de trasporte, BUS, M...   \n",
       "2  羚羊Casa出发 --地铁Metro 5号线vsita alegre--opera转乘2号线...   \n",
       "3                                                NaN   \n",
       "4                                                NaN   \n",
       "\n",
       "                                              Access  \\\n",
       "0  La conexión a internet por fibra óptica 100 MB...   \n",
       "1                                                NaN   \n",
       "2                                                NaN   \n",
       "3                                                NaN   \n",
       "4  WE CAN DO TO HOST COLLECTION SERVICE FROM THE ...   \n",
       "\n",
       "                                         Interaction  \\\n",
       "0  Recibimos personalmente a nuestros huéspedes y...   \n",
       "1  Estimado huésped estaremos disponible todo el ...   \n",
       "2                                                NaN   \n",
       "3                                                NaN   \n",
       "4                                                NaN   \n",
       "\n",
       "                                         House Rules  \\\n",
       "0  El apartamento se encuentra en un edificio res...   \n",
       "1  - Oír música con volumen moderado. Entrada a p...   \n",
       "2                                                NaN   \n",
       "3                                                NaN   \n",
       "4  In the apartment smoking is not allowed, but i...   \n",
       "\n",
       "                                       Thumbnail Url  \\\n",
       "0  https://a0.muscache.com/im/pictures/74652419/f...   \n",
       "1  https://a0.muscache.com/im/pictures/1565a3a9-2...   \n",
       "2  https://a0.muscache.com/im/pictures/05baad20-7...   \n",
       "3  https://a0.muscache.com/im/pictures/111496270/...   \n",
       "4  https://a0.muscache.com/im/pictures/17487722/1...   \n",
       "\n",
       "                                          Medium Url  \\\n",
       "0  https://a0.muscache.com/im/pictures/74652419/f...   \n",
       "1  https://a0.muscache.com/im/pictures/1565a3a9-2...   \n",
       "2  https://a0.muscache.com/im/pictures/05baad20-7...   \n",
       "3  https://a0.muscache.com/im/pictures/111496270/...   \n",
       "4  https://a0.muscache.com/im/pictures/17487722/1...   \n",
       "\n",
       "                                         Picture Url  \\\n",
       "0  https://public.opendatasoft.com/api/v2/catalog...   \n",
       "1  https://public.opendatasoft.com/api/v2/catalog...   \n",
       "2  https://public.opendatasoft.com/api/v2/catalog...   \n",
       "3  https://public.opendatasoft.com/api/v2/catalog...   \n",
       "4  https://public.opendatasoft.com/api/v2/catalog...   \n",
       "\n",
       "                                      XL Picture Url  \n",
       "0  https://a0.muscache.com/im/pictures/74652419/f...  \n",
       "1  https://a0.muscache.com/im/pictures/1565a3a9-2...  \n",
       "2  https://a0.muscache.com/im/pictures/05baad20-7...  \n",
       "3  https://a0.muscache.com/im/pictures/111496270/...  \n",
       "4  https://a0.muscache.com/im/pictures/17487722/1...  "
      ]
     },
     "execution_count": 10,
     "metadata": {},
     "output_type": "execute_result"
    }
   ],
   "source": [
    "df.loc[:,['Notes', 'Transit', 'Access', 'Interaction', 'House Rules',\n",
    "       'Thumbnail Url', 'Medium Url', 'Picture Url', 'XL Picture Url']].head()"
   ]
  },
  {
   "cell_type": "code",
   "execution_count": 11,
   "metadata": {},
   "outputs": [
    {
     "data": {
      "text/plain": [
       "Notes             object\n",
       "Transit           object\n",
       "Access            object\n",
       "Interaction       object\n",
       "House Rules       object\n",
       "Thumbnail Url     object\n",
       "Medium Url        object\n",
       "Picture Url       object\n",
       "XL Picture Url    object\n",
       "dtype: object"
      ]
     },
     "execution_count": 11,
     "metadata": {},
     "output_type": "execute_result"
    }
   ],
   "source": [
    "df.loc[:,['Notes', 'Transit', 'Access', 'Interaction', 'House Rules',\n",
    "       'Thumbnail Url', 'Medium Url', 'Picture Url', 'XL Picture Url']].dtypes"
   ]
  },
  {
   "cell_type": "markdown",
   "metadata": {},
   "source": [
    "<ul style=\"color:ROYALBLUE\">\n",
    "    <li><b>Notes: </b>Notas adicionales que pone el anunciante. No es relevante para nuestro análisis.</li>\n",
    "    <li><b>Transit: </b>Descripción de medios de transporte para llegar al inmueble. No es relevante para nuestro análisis.</li>\n",
    "    <li><b>Access: </b>Otro tipo de servicios. No es relevante para nuestro análisis.</li>\n",
    "    <li><b>Interaction: </b>Interacción con los anunciantes. No es relevante para nuestro análisis.</li>\n",
    "    <li><b>House Rules: </b>Normas a cumplir. No es relevante para nuestro análisis.</li>\n",
    "    <li><b>Thumbnail Url: </b>Dirección Url. No es relevante para nuestro análisis.</li>\n",
    "    <li><b>Medium Url: </b>Dirección Url. No es relevante para nuestro análisis.</li>\n",
    "    <li><b>Picture Url: </b>Dirección Url. No es relevante para nuestro análisis.</li>\n",
    "    <li><b>XL Picture Url: </b>Dirección Url. No es relevante para nuestro análisis.</li>\n",
    "</ul>"
   ]
  },
  {
   "cell_type": "code",
   "execution_count": 12,
   "metadata": {},
   "outputs": [
    {
     "data": {
      "text/html": [
       "<div>\n",
       "<style scoped>\n",
       "    .dataframe tbody tr th:only-of-type {\n",
       "        vertical-align: middle;\n",
       "    }\n",
       "\n",
       "    .dataframe tbody tr th {\n",
       "        vertical-align: top;\n",
       "    }\n",
       "\n",
       "    .dataframe thead th {\n",
       "        text-align: right;\n",
       "    }\n",
       "</style>\n",
       "<table border=\"1\" class=\"dataframe\">\n",
       "  <thead>\n",
       "    <tr style=\"text-align: right;\">\n",
       "      <th></th>\n",
       "      <th>Host ID</th>\n",
       "      <th>Host URL</th>\n",
       "      <th>Host Name</th>\n",
       "      <th>Host Since</th>\n",
       "      <th>Host Location</th>\n",
       "      <th>Host About</th>\n",
       "      <th>Host Response Time</th>\n",
       "      <th>Host Response Rate</th>\n",
       "    </tr>\n",
       "  </thead>\n",
       "  <tbody>\n",
       "    <tr>\n",
       "      <td>0</td>\n",
       "      <td>31124866</td>\n",
       "      <td>https://www.airbnb.com/users/show/31124866</td>\n",
       "      <td>Inava</td>\n",
       "      <td>2015-04-13</td>\n",
       "      <td>Arroyomolinos, Comunidad de Madrid, Spain</td>\n",
       "      <td>NaN</td>\n",
       "      <td>within a few hours</td>\n",
       "      <td>100.0</td>\n",
       "    </tr>\n",
       "    <tr>\n",
       "      <td>1</td>\n",
       "      <td>85301317</td>\n",
       "      <td>https://www.airbnb.com/users/show/85301317</td>\n",
       "      <td>Apartamentos Turísticos</td>\n",
       "      <td>2016-07-22</td>\n",
       "      <td>Madrid, Community of Madrid, Spain</td>\n",
       "      <td>Somos una empresa  de turismo dedicada al aloj...</td>\n",
       "      <td>within an hour</td>\n",
       "      <td>100.0</td>\n",
       "    </tr>\n",
       "    <tr>\n",
       "      <td>2</td>\n",
       "      <td>84213235</td>\n",
       "      <td>https://www.airbnb.com/users/show/84213235</td>\n",
       "      <td>玲</td>\n",
       "      <td>2016-07-17</td>\n",
       "      <td>Madrid, Community of Madrid, Spain</td>\n",
       "      <td>Our hotel near the city center, next to the su...</td>\n",
       "      <td>within an hour</td>\n",
       "      <td>100.0</td>\n",
       "    </tr>\n",
       "    <tr>\n",
       "      <td>3</td>\n",
       "      <td>15258781</td>\n",
       "      <td>https://www.airbnb.com/users/show/15258781</td>\n",
       "      <td>Erasmo´S</td>\n",
       "      <td>2014-05-08</td>\n",
       "      <td>Madrid, Community of Madrid, Spain</td>\n",
       "      <td>Disfruta de tu habitación en el centro de Madr...</td>\n",
       "      <td>within a few hours</td>\n",
       "      <td>100.0</td>\n",
       "    </tr>\n",
       "    <tr>\n",
       "      <td>4</td>\n",
       "      <td>1706029</td>\n",
       "      <td>https://www.airbnb.com/users/show/1706029</td>\n",
       "      <td>David Y Ana</td>\n",
       "      <td>2012-02-06</td>\n",
       "      <td>Madrid, Community of Madrid, Spain</td>\n",
       "      <td>Somos una pareja de Español y Colombiana, amab...</td>\n",
       "      <td>within an hour</td>\n",
       "      <td>100.0</td>\n",
       "    </tr>\n",
       "  </tbody>\n",
       "</table>\n",
       "</div>"
      ],
      "text/plain": [
       "    Host ID                                    Host URL  \\\n",
       "0  31124866  https://www.airbnb.com/users/show/31124866   \n",
       "1  85301317  https://www.airbnb.com/users/show/85301317   \n",
       "2  84213235  https://www.airbnb.com/users/show/84213235   \n",
       "3  15258781  https://www.airbnb.com/users/show/15258781   \n",
       "4   1706029   https://www.airbnb.com/users/show/1706029   \n",
       "\n",
       "                 Host Name  Host Since  \\\n",
       "0                    Inava  2015-04-13   \n",
       "1  Apartamentos Turísticos  2016-07-22   \n",
       "2                        玲  2016-07-17   \n",
       "3                 Erasmo´S  2014-05-08   \n",
       "4              David Y Ana  2012-02-06   \n",
       "\n",
       "                               Host Location  \\\n",
       "0  Arroyomolinos, Comunidad de Madrid, Spain   \n",
       "1         Madrid, Community of Madrid, Spain   \n",
       "2         Madrid, Community of Madrid, Spain   \n",
       "3         Madrid, Community of Madrid, Spain   \n",
       "4         Madrid, Community of Madrid, Spain   \n",
       "\n",
       "                                          Host About  Host Response Time  \\\n",
       "0                                                NaN  within a few hours   \n",
       "1  Somos una empresa  de turismo dedicada al aloj...      within an hour   \n",
       "2  Our hotel near the city center, next to the su...      within an hour   \n",
       "3  Disfruta de tu habitación en el centro de Madr...  within a few hours   \n",
       "4  Somos una pareja de Español y Colombiana, amab...      within an hour   \n",
       "\n",
       "   Host Response Rate  \n",
       "0               100.0  \n",
       "1               100.0  \n",
       "2               100.0  \n",
       "3               100.0  \n",
       "4               100.0  "
      ]
     },
     "execution_count": 12,
     "metadata": {},
     "output_type": "execute_result"
    }
   ],
   "source": [
    "df.loc[:,['Host ID', 'Host URL', 'Host Name', 'Host Since', 'Host Location',\n",
    "       'Host About', 'Host Response Time', 'Host Response Rate']].head()"
   ]
  },
  {
   "cell_type": "code",
   "execution_count": 13,
   "metadata": {},
   "outputs": [
    {
     "data": {
      "text/plain": [
       "Host ID                 int64\n",
       "Host URL               object\n",
       "Host Name              object\n",
       "Host Since             object\n",
       "Host Location          object\n",
       "Host About             object\n",
       "Host Response Time     object\n",
       "Host Response Rate    float64\n",
       "dtype: object"
      ]
     },
     "execution_count": 13,
     "metadata": {},
     "output_type": "execute_result"
    }
   ],
   "source": [
    "df.loc[:,['Host ID', 'Host URL', 'Host Name', 'Host Since', 'Host Location',\n",
    "       'Host About', 'Host Response Time', 'Host Response Rate', ]].dtypes"
   ]
  },
  {
   "cell_type": "code",
   "execution_count": 14,
   "metadata": {},
   "outputs": [
    {
     "data": {
      "text/plain": [
       "1507"
      ]
     },
     "execution_count": 14,
     "metadata": {},
     "output_type": "execute_result"
    }
   ],
   "source": [
    "df[\"Host Response Time\"].isna().sum()"
   ]
  },
  {
   "cell_type": "code",
   "execution_count": 15,
   "metadata": {},
   "outputs": [
    {
     "data": {
      "text/plain": [
       "array(['within a few hours', 'within an hour', 'within a day', nan,\n",
       "       'a few days or more'], dtype=object)"
      ]
     },
     "execution_count": 15,
     "metadata": {},
     "output_type": "execute_result"
    }
   ],
   "source": [
    "df[\"Host Response Time\"].unique()"
   ]
  },
  {
   "cell_type": "code",
   "execution_count": 16,
   "metadata": {},
   "outputs": [
    {
     "data": {
      "text/plain": [
       "within an hour        6337\n",
       "within a few hours    2291\n",
       "within a day          1448\n",
       "a few days or more     241\n",
       "Name: Host Response Time, dtype: int64"
      ]
     },
     "execution_count": 16,
     "metadata": {},
     "output_type": "execute_result"
    }
   ],
   "source": [
    "df[\"Host Response Time\"].value_counts()"
   ]
  },
  {
   "cell_type": "code",
   "execution_count": 17,
   "metadata": {},
   "outputs": [
    {
     "data": {
      "text/plain": [
       "100.0    7763\n",
       "90.0      269\n",
       "96.0      236\n",
       "99.0      205\n",
       "75.0      181\n",
       "         ... \n",
       "41.0        1\n",
       "54.0        1\n",
       "27.0        1\n",
       "9.0         1\n",
       "42.0        1\n",
       "Name: Host Response Rate, Length: 67, dtype: int64"
      ]
     },
     "execution_count": 17,
     "metadata": {},
     "output_type": "execute_result"
    }
   ],
   "source": [
    "df[\"Host Response Rate\"].value_counts()"
   ]
  },
  {
   "cell_type": "markdown",
   "metadata": {},
   "source": [
    "<ul style=\"color:ROYALBLUE\">\n",
    "    <li><b>Host ID: </b>Identificación de los anfitriones. No es relevante para nuestro análisis.</li>\n",
    "    <li><b>Host URL: </b>Dirección URL. No es relevante para nuestro análisis.</li>\n",
    "    <li><b>Host Name: </b>Nombre de los anfitriones. No es relevante para nuestro análisis.</li>\n",
    "    <li><b>Host Since: </b>Fecha de incripción del anfitrión. No es relevante para nuestro análisis.</li>\n",
    "    <li><b>Host Location: </b>Lugar donde se aloja el anfitrión. No es relevante para nuestro análisis.</li>\n",
    "    <li><b>Host About: </b>Descripción del anfitrión. No es relevante para nuestro análisis.</li>\n",
    "    <li><b>Host Response Time: </b>Tiempo de respuesta del anfitrión. Puede ser relevante para nuestro análisis y tendremos que codificarlo, porque tiene 5 valores posibles.</li>\n",
    "    <li><b>Host Response Rate: </b>Ratio de respuesta del anfitrión. Es un valor decimal y puede ser relevante para el análisis.</li>\n",
    "</ul>"
   ]
  },
  {
   "cell_type": "code",
   "execution_count": 18,
   "metadata": {},
   "outputs": [
    {
     "data": {
      "text/html": [
       "<div>\n",
       "<style scoped>\n",
       "    .dataframe tbody tr th:only-of-type {\n",
       "        vertical-align: middle;\n",
       "    }\n",
       "\n",
       "    .dataframe tbody tr th {\n",
       "        vertical-align: top;\n",
       "    }\n",
       "\n",
       "    .dataframe thead th {\n",
       "        text-align: right;\n",
       "    }\n",
       "</style>\n",
       "<table border=\"1\" class=\"dataframe\">\n",
       "  <thead>\n",
       "    <tr style=\"text-align: right;\">\n",
       "      <th></th>\n",
       "      <th>Host Acceptance Rate</th>\n",
       "      <th>Host Thumbnail Url</th>\n",
       "      <th>Host Picture Url</th>\n",
       "      <th>Host Neighbourhood</th>\n",
       "      <th>Host Listings Count</th>\n",
       "      <th>Host Total Listings Count</th>\n",
       "      <th>Host Verifications</th>\n",
       "      <th>Street</th>\n",
       "    </tr>\n",
       "  </thead>\n",
       "  <tbody>\n",
       "    <tr>\n",
       "      <td>0</td>\n",
       "      <td>NaN</td>\n",
       "      <td>https://a0.muscache.com/im/users/31124866/prof...</td>\n",
       "      <td>https://a0.muscache.com/im/users/31124866/prof...</td>\n",
       "      <td>Jerónimos</td>\n",
       "      <td>2.0</td>\n",
       "      <td>2.0</td>\n",
       "      <td>email,phone,reviews,work_email</td>\n",
       "      <td>Jerónimos, Madrid, Comunidad de Madrid 28014, ...</td>\n",
       "    </tr>\n",
       "    <tr>\n",
       "      <td>1</td>\n",
       "      <td>NaN</td>\n",
       "      <td>https://a0.muscache.com/im/pictures/ff7ad016-4...</td>\n",
       "      <td>https://a0.muscache.com/im/pictures/ff7ad016-4...</td>\n",
       "      <td>NaN</td>\n",
       "      <td>1.0</td>\n",
       "      <td>1.0</td>\n",
       "      <td>email,phone,reviews,jumio,offline_government_i...</td>\n",
       "      <td>Madrid, Comunidad de Madrid 28012, Spain</td>\n",
       "    </tr>\n",
       "    <tr>\n",
       "      <td>2</td>\n",
       "      <td>NaN</td>\n",
       "      <td>https://a0.muscache.com/im/pictures/a4185ec1-7...</td>\n",
       "      <td>https://a0.muscache.com/im/pictures/a4185ec1-7...</td>\n",
       "      <td>Carabanchel</td>\n",
       "      <td>16.0</td>\n",
       "      <td>16.0</td>\n",
       "      <td>email,phone,facebook,google,reviews,jumio,gove...</td>\n",
       "      <td>Carabanchel, Madrid, Comunidad de Madrid 28025...</td>\n",
       "    </tr>\n",
       "    <tr>\n",
       "      <td>3</td>\n",
       "      <td>NaN</td>\n",
       "      <td>https://a0.muscache.com/im/users/15258781/prof...</td>\n",
       "      <td>https://a0.muscache.com/im/users/15258781/prof...</td>\n",
       "      <td>Justicia</td>\n",
       "      <td>114.0</td>\n",
       "      <td>114.0</td>\n",
       "      <td>email,phone,reviews,work_email</td>\n",
       "      <td>Madrid, Comunidad de Madrid 28012, Spain</td>\n",
       "    </tr>\n",
       "    <tr>\n",
       "      <td>4</td>\n",
       "      <td>NaN</td>\n",
       "      <td>https://a0.muscache.com/im/users/1706029/profi...</td>\n",
       "      <td>https://a0.muscache.com/im/users/1706029/profi...</td>\n",
       "      <td>Gaztambide</td>\n",
       "      <td>2.0</td>\n",
       "      <td>2.0</td>\n",
       "      <td>email,phone,reviews,jumio</td>\n",
       "      <td>Gaztambide, Madrid, 28 28015, Spain</td>\n",
       "    </tr>\n",
       "  </tbody>\n",
       "</table>\n",
       "</div>"
      ],
      "text/plain": [
       "  Host Acceptance Rate                                 Host Thumbnail Url  \\\n",
       "0                  NaN  https://a0.muscache.com/im/users/31124866/prof...   \n",
       "1                  NaN  https://a0.muscache.com/im/pictures/ff7ad016-4...   \n",
       "2                  NaN  https://a0.muscache.com/im/pictures/a4185ec1-7...   \n",
       "3                  NaN  https://a0.muscache.com/im/users/15258781/prof...   \n",
       "4                  NaN  https://a0.muscache.com/im/users/1706029/profi...   \n",
       "\n",
       "                                    Host Picture Url Host Neighbourhood  \\\n",
       "0  https://a0.muscache.com/im/users/31124866/prof...          Jerónimos   \n",
       "1  https://a0.muscache.com/im/pictures/ff7ad016-4...                NaN   \n",
       "2  https://a0.muscache.com/im/pictures/a4185ec1-7...        Carabanchel   \n",
       "3  https://a0.muscache.com/im/users/15258781/prof...           Justicia   \n",
       "4  https://a0.muscache.com/im/users/1706029/profi...         Gaztambide   \n",
       "\n",
       "   Host Listings Count  Host Total Listings Count  \\\n",
       "0                  2.0                        2.0   \n",
       "1                  1.0                        1.0   \n",
       "2                 16.0                       16.0   \n",
       "3                114.0                      114.0   \n",
       "4                  2.0                        2.0   \n",
       "\n",
       "                                  Host Verifications  \\\n",
       "0                     email,phone,reviews,work_email   \n",
       "1  email,phone,reviews,jumio,offline_government_i...   \n",
       "2  email,phone,facebook,google,reviews,jumio,gove...   \n",
       "3                     email,phone,reviews,work_email   \n",
       "4                          email,phone,reviews,jumio   \n",
       "\n",
       "                                              Street  \n",
       "0  Jerónimos, Madrid, Comunidad de Madrid 28014, ...  \n",
       "1           Madrid, Comunidad de Madrid 28012, Spain  \n",
       "2  Carabanchel, Madrid, Comunidad de Madrid 28025...  \n",
       "3           Madrid, Comunidad de Madrid 28012, Spain  \n",
       "4                Gaztambide, Madrid, 28 28015, Spain  "
      ]
     },
     "execution_count": 18,
     "metadata": {},
     "output_type": "execute_result"
    }
   ],
   "source": [
    "df.loc[:,['Host Acceptance Rate', 'Host Thumbnail Url', 'Host Picture Url',\n",
    "       'Host Neighbourhood', 'Host Listings Count',\n",
    "       'Host Total Listings Count', 'Host Verifications', 'Street']].head()"
   ]
  },
  {
   "cell_type": "code",
   "execution_count": 19,
   "metadata": {},
   "outputs": [
    {
     "data": {
      "text/plain": [
       "11794"
      ]
     },
     "execution_count": 19,
     "metadata": {},
     "output_type": "execute_result"
    }
   ],
   "source": [
    "df[\"Host Acceptance Rate\"].isna().sum()"
   ]
  },
  {
   "cell_type": "code",
   "execution_count": 20,
   "metadata": {},
   "outputs": [
    {
     "data": {
      "text/html": [
       "<div>\n",
       "<style scoped>\n",
       "    .dataframe tbody tr th:only-of-type {\n",
       "        vertical-align: middle;\n",
       "    }\n",
       "\n",
       "    .dataframe tbody tr th {\n",
       "        vertical-align: top;\n",
       "    }\n",
       "\n",
       "    .dataframe thead th {\n",
       "        text-align: right;\n",
       "    }\n",
       "</style>\n",
       "<table border=\"1\" class=\"dataframe\">\n",
       "  <thead>\n",
       "    <tr style=\"text-align: right;\">\n",
       "      <th></th>\n",
       "      <th>Host Listings Count</th>\n",
       "      <th>Host Total Listings Count</th>\n",
       "    </tr>\n",
       "  </thead>\n",
       "  <tbody>\n",
       "    <tr>\n",
       "      <td>count</td>\n",
       "      <td>11821.000000</td>\n",
       "      <td>11821.000000</td>\n",
       "    </tr>\n",
       "    <tr>\n",
       "      <td>mean</td>\n",
       "      <td>12.754420</td>\n",
       "      <td>12.754420</td>\n",
       "    </tr>\n",
       "    <tr>\n",
       "      <td>std</td>\n",
       "      <td>34.578895</td>\n",
       "      <td>34.578895</td>\n",
       "    </tr>\n",
       "    <tr>\n",
       "      <td>min</td>\n",
       "      <td>0.000000</td>\n",
       "      <td>0.000000</td>\n",
       "    </tr>\n",
       "    <tr>\n",
       "      <td>25%</td>\n",
       "      <td>1.000000</td>\n",
       "      <td>1.000000</td>\n",
       "    </tr>\n",
       "    <tr>\n",
       "      <td>50%</td>\n",
       "      <td>2.000000</td>\n",
       "      <td>2.000000</td>\n",
       "    </tr>\n",
       "    <tr>\n",
       "      <td>75%</td>\n",
       "      <td>6.000000</td>\n",
       "      <td>6.000000</td>\n",
       "    </tr>\n",
       "    <tr>\n",
       "      <td>max</td>\n",
       "      <td>519.000000</td>\n",
       "      <td>519.000000</td>\n",
       "    </tr>\n",
       "  </tbody>\n",
       "</table>\n",
       "</div>"
      ],
      "text/plain": [
       "       Host Listings Count  Host Total Listings Count\n",
       "count         11821.000000               11821.000000\n",
       "mean             12.754420                  12.754420\n",
       "std              34.578895                  34.578895\n",
       "min               0.000000                   0.000000\n",
       "25%               1.000000                   1.000000\n",
       "50%               2.000000                   2.000000\n",
       "75%               6.000000                   6.000000\n",
       "max             519.000000                 519.000000"
      ]
     },
     "execution_count": 20,
     "metadata": {},
     "output_type": "execute_result"
    }
   ],
   "source": [
    "df.loc[:,['Host Listings Count',\n",
    "       'Host Total Listings Count']].describe()"
   ]
  },
  {
   "cell_type": "markdown",
   "metadata": {},
   "source": [
    "<ul style=\"color:ROYALBLUE\">\n",
    "    <li><b>Host Acceptance Rate: </b>Prácticamente todas sus filas (11.794) tienen un valor NaN. No es relevante para nuestro análisis.</li>\n",
    "    <li><b>Host Thumbnail Url: </b>Dirección URL. No es relevante para nuestro análisis.</li>\n",
    "    <li><b>Host Picture Url: </b>Dirección URL. No es relevante para nuestro análisis.</li>\n",
    "    <li><b>Host Neighbourhood: </b>Barrio del anfitrión. No es relevante para nuestro análisis.</li>\n",
    "    <li><b>Host Listings Count: </b>Métrica para medir la experiencia del host, tendremos otra más relevante posteriormente. No es relevante para nuestro análisis.</li>\n",
    "    <li><b>Host Total Listings Count: </b>La misma que la anterior. No es relevante para nuestro análisis.</li>\n",
    "    <li><b>Host Verifications: </b>Medios de verificación del anfitrión. Puede ser relevante para nuestro análisis ya que cuantos más medios de verificación tenga el \n",
    "        anfitrión pueda ser más fiable e influir en el precio. Para ello transformamos la columna al número de verficaciones.</li>\n",
    "    <li><b>Street: </b>Dirección del inmueble. No es relevante para nuestro análisis.</li>\n",
    "</ul>"
   ]
  },
  {
   "cell_type": "markdown",
   "metadata": {},
   "source": [
    "\n",
    "\n",
    "\n",
    "\n",
    "\n",
    "\n",
    "\n",
    "\n",
    "\n",
    "\n",
    "\n",
    "\n"
   ]
  },
  {
   "cell_type": "code",
   "execution_count": 21,
   "metadata": {},
   "outputs": [
    {
     "data": {
      "text/html": [
       "<div>\n",
       "<style scoped>\n",
       "    .dataframe tbody tr th:only-of-type {\n",
       "        vertical-align: middle;\n",
       "    }\n",
       "\n",
       "    .dataframe tbody tr th {\n",
       "        vertical-align: top;\n",
       "    }\n",
       "\n",
       "    .dataframe thead th {\n",
       "        text-align: right;\n",
       "    }\n",
       "</style>\n",
       "<table border=\"1\" class=\"dataframe\">\n",
       "  <thead>\n",
       "    <tr style=\"text-align: right;\">\n",
       "      <th></th>\n",
       "      <th>Neighbourhood</th>\n",
       "      <th>Neighbourhood Cleansed</th>\n",
       "      <th>Neighbourhood Group Cleansed</th>\n",
       "      <th>City</th>\n",
       "      <th>State</th>\n",
       "      <th>Zipcode</th>\n",
       "      <th>Market</th>\n",
       "    </tr>\n",
       "  </thead>\n",
       "  <tbody>\n",
       "    <tr>\n",
       "      <td>0</td>\n",
       "      <td>Jerónimos</td>\n",
       "      <td>Jerónimos</td>\n",
       "      <td>Retiro</td>\n",
       "      <td>Madrid</td>\n",
       "      <td>Comunidad de Madrid</td>\n",
       "      <td>28014</td>\n",
       "      <td>Madrid</td>\n",
       "    </tr>\n",
       "    <tr>\n",
       "      <td>1</td>\n",
       "      <td>NaN</td>\n",
       "      <td>Sol</td>\n",
       "      <td>Centro</td>\n",
       "      <td>Madrid</td>\n",
       "      <td>Comunidad de Madrid</td>\n",
       "      <td>28012</td>\n",
       "      <td>Madrid</td>\n",
       "    </tr>\n",
       "    <tr>\n",
       "      <td>2</td>\n",
       "      <td>Carabanchel</td>\n",
       "      <td>Vista Alegre</td>\n",
       "      <td>Carabanchel</td>\n",
       "      <td>Madrid</td>\n",
       "      <td>Comunidad de Madrid</td>\n",
       "      <td>28025</td>\n",
       "      <td>Madrid</td>\n",
       "    </tr>\n",
       "    <tr>\n",
       "      <td>3</td>\n",
       "      <td>NaN</td>\n",
       "      <td>Embajadores</td>\n",
       "      <td>Centro</td>\n",
       "      <td>Madrid</td>\n",
       "      <td>Comunidad de Madrid</td>\n",
       "      <td>28012</td>\n",
       "      <td>Madrid</td>\n",
       "    </tr>\n",
       "    <tr>\n",
       "      <td>4</td>\n",
       "      <td>Gaztambide</td>\n",
       "      <td>Gaztambide</td>\n",
       "      <td>Chamberí</td>\n",
       "      <td>Madrid</td>\n",
       "      <td>28</td>\n",
       "      <td>28015</td>\n",
       "      <td>Madrid</td>\n",
       "    </tr>\n",
       "  </tbody>\n",
       "</table>\n",
       "</div>"
      ],
      "text/plain": [
       "  Neighbourhood Neighbourhood Cleansed Neighbourhood Group Cleansed    City  \\\n",
       "0     Jerónimos              Jerónimos                       Retiro  Madrid   \n",
       "1           NaN                    Sol                       Centro  Madrid   \n",
       "2   Carabanchel           Vista Alegre                  Carabanchel  Madrid   \n",
       "3           NaN            Embajadores                       Centro  Madrid   \n",
       "4    Gaztambide             Gaztambide                     Chamberí  Madrid   \n",
       "\n",
       "                 State Zipcode  Market  \n",
       "0  Comunidad de Madrid   28014  Madrid  \n",
       "1  Comunidad de Madrid   28012  Madrid  \n",
       "2  Comunidad de Madrid   28025  Madrid  \n",
       "3  Comunidad de Madrid   28012  Madrid  \n",
       "4                   28   28015  Madrid  "
      ]
     },
     "execution_count": 21,
     "metadata": {},
     "output_type": "execute_result"
    }
   ],
   "source": [
    "df.loc[:,['Neighbourhood', 'Neighbourhood Cleansed',\n",
    "       'Neighbourhood Group Cleansed', 'City', 'State', 'Zipcode', 'Market']].head()"
   ]
  },
  {
   "cell_type": "code",
   "execution_count": 22,
   "metadata": {},
   "outputs": [
    {
     "data": {
      "text/plain": [
       "Neighbourhood                   object\n",
       "Neighbourhood Cleansed          object\n",
       "Neighbourhood Group Cleansed    object\n",
       "City                            object\n",
       "State                           object\n",
       "Zipcode                         object\n",
       "Market                          object\n",
       "dtype: object"
      ]
     },
     "execution_count": 22,
     "metadata": {},
     "output_type": "execute_result"
    }
   ],
   "source": [
    "df.loc[:,['Neighbourhood', 'Neighbourhood Cleansed',\n",
    "       'Neighbourhood Group Cleansed', 'City', 'State', 'Zipcode', 'Market']].dtypes"
   ]
  },
  {
   "cell_type": "code",
   "execution_count": 23,
   "metadata": {},
   "outputs": [
    {
     "data": {
      "text/plain": [
       "ID                                10567\n",
       "Listing Url                       10567\n",
       "Scrape ID                         10567\n",
       "Last Scraped                      10567\n",
       "Name                              10567\n",
       "                                  ...  \n",
       "Cancellation Policy               10567\n",
       "Calculated host listings count    10567\n",
       "Reviews per Month                  8388\n",
       "Geolocation                       10567\n",
       "Features                          10567\n",
       "Length: 89, dtype: int64"
      ]
     },
     "execution_count": 23,
     "metadata": {},
     "output_type": "execute_result"
    }
   ],
   "source": [
    "df.loc[df.loc[:,\"City\"] == \"Madrid\"].count()"
   ]
  },
  {
   "cell_type": "code",
   "execution_count": 24,
   "metadata": {},
   "outputs": [
    {
     "data": {
      "text/plain": [
       "223"
      ]
     },
     "execution_count": 24,
     "metadata": {},
     "output_type": "execute_result"
    }
   ],
   "source": [
    "len(df['City'].unique())"
   ]
  },
  {
   "cell_type": "markdown",
   "metadata": {},
   "source": [
    "<ul style=\"color:ROYALBLUE\">\n",
    "    <li><b>Neighbourhood: </b>El barrio del inmueble. Puede tener mucha influencia en el precio los que tiene el barrio no disponible los rellenamos con la columna\n",
    "        Neighbourhood Cleansed.</li>\n",
    "    <li><b>Neighbourhood Cleansed: </b>Lo usamos para rellenar nan de la columna anterior. No es relevante para nuestro análisis.</li>\n",
    "    <li><b>Neighbourhood Group Cleansed: </b>Otra información adicional al barrio. No es relevante para nuestro análisis.</li>\n",
    "    <li><b>City: </b>Ciudad del inmueble. Comprobamos que de los 11.824 inmuebles 10.567 pertenecen a Madrid, por tanto el resto de ciudaddes que son 223 serán muy poco\n",
    "        significativas y filtraremos el dataframe sólo con inmuebles de Madrid.</li>\n",
    "    <li><b>State: </b>País o estado del inmuble, al sólo tener inmuebles de Madrid no es relevante para nuestro análisis.</li>\n",
    "    <li><b>Zipcode: </b>Al igual que el barrio puede ser relevante para nuestro análisis.</li>\n",
    "    <li><b>Market: </b>Contiene la misma información que City. No es relevante para nuestro análisis.</li>\n",
    "</ul>"
   ]
  },
  {
   "cell_type": "code",
   "execution_count": 25,
   "metadata": {},
   "outputs": [
    {
     "data": {
      "text/html": [
       "<div>\n",
       "<style scoped>\n",
       "    .dataframe tbody tr th:only-of-type {\n",
       "        vertical-align: middle;\n",
       "    }\n",
       "\n",
       "    .dataframe tbody tr th {\n",
       "        vertical-align: top;\n",
       "    }\n",
       "\n",
       "    .dataframe thead th {\n",
       "        text-align: right;\n",
       "    }\n",
       "</style>\n",
       "<table border=\"1\" class=\"dataframe\">\n",
       "  <thead>\n",
       "    <tr style=\"text-align: right;\">\n",
       "      <th></th>\n",
       "      <th>Smart Location</th>\n",
       "      <th>Country Code</th>\n",
       "      <th>Country</th>\n",
       "      <th>Latitude</th>\n",
       "      <th>Longitude</th>\n",
       "      <th>Property Type</th>\n",
       "      <th>Room Type</th>\n",
       "      <th>Accommodates</th>\n",
       "      <th>Bathrooms</th>\n",
       "      <th>Bedrooms</th>\n",
       "      <th>Beds</th>\n",
       "      <th>Bed Type</th>\n",
       "      <th>Amenities</th>\n",
       "      <th>Square Feet</th>\n",
       "      <th>Price</th>\n",
       "      <th>Weekly Price</th>\n",
       "    </tr>\n",
       "  </thead>\n",
       "  <tbody>\n",
       "    <tr>\n",
       "      <td>0</td>\n",
       "      <td>Madrid, Spain</td>\n",
       "      <td>ES</td>\n",
       "      <td>Spain</td>\n",
       "      <td>40.407732</td>\n",
       "      <td>-3.684819</td>\n",
       "      <td>Apartment</td>\n",
       "      <td>Entire home/apt</td>\n",
       "      <td>4</td>\n",
       "      <td>1.0</td>\n",
       "      <td>1.0</td>\n",
       "      <td>2.0</td>\n",
       "      <td>Real Bed</td>\n",
       "      <td>TV,Internet,Wireless Internet,Air conditioning...</td>\n",
       "      <td>NaN</td>\n",
       "      <td>60.0</td>\n",
       "      <td>550.0</td>\n",
       "    </tr>\n",
       "    <tr>\n",
       "      <td>1</td>\n",
       "      <td>Madrid, Spain</td>\n",
       "      <td>ES</td>\n",
       "      <td>Spain</td>\n",
       "      <td>40.415802</td>\n",
       "      <td>-3.705340</td>\n",
       "      <td>Apartment</td>\n",
       "      <td>Entire home/apt</td>\n",
       "      <td>4</td>\n",
       "      <td>1.0</td>\n",
       "      <td>1.0</td>\n",
       "      <td>2.0</td>\n",
       "      <td>Real Bed</td>\n",
       "      <td>TV,Internet,Wireless Internet,Air conditioning...</td>\n",
       "      <td>NaN</td>\n",
       "      <td>50.0</td>\n",
       "      <td>NaN</td>\n",
       "    </tr>\n",
       "    <tr>\n",
       "      <td>2</td>\n",
       "      <td>Madrid, Spain</td>\n",
       "      <td>ES</td>\n",
       "      <td>Spain</td>\n",
       "      <td>40.389048</td>\n",
       "      <td>-3.740374</td>\n",
       "      <td>Apartment</td>\n",
       "      <td>Shared room</td>\n",
       "      <td>1</td>\n",
       "      <td>1.5</td>\n",
       "      <td>1.0</td>\n",
       "      <td>8.0</td>\n",
       "      <td>Real Bed</td>\n",
       "      <td>Internet,Wireless Internet,Wheelchair accessib...</td>\n",
       "      <td>NaN</td>\n",
       "      <td>10.0</td>\n",
       "      <td>NaN</td>\n",
       "    </tr>\n",
       "    <tr>\n",
       "      <td>3</td>\n",
       "      <td>Madrid, Spain</td>\n",
       "      <td>ES</td>\n",
       "      <td>Spain</td>\n",
       "      <td>40.412814</td>\n",
       "      <td>-3.703052</td>\n",
       "      <td>Apartment</td>\n",
       "      <td>Private room</td>\n",
       "      <td>2</td>\n",
       "      <td>3.0</td>\n",
       "      <td>1.0</td>\n",
       "      <td>1.0</td>\n",
       "      <td>Real Bed</td>\n",
       "      <td>Wireless Internet,Kitchen,Smoking allowed,Heat...</td>\n",
       "      <td>NaN</td>\n",
       "      <td>30.0</td>\n",
       "      <td>NaN</td>\n",
       "    </tr>\n",
       "    <tr>\n",
       "      <td>4</td>\n",
       "      <td>Madrid, Spain</td>\n",
       "      <td>ES</td>\n",
       "      <td>Spain</td>\n",
       "      <td>40.438631</td>\n",
       "      <td>-3.713716</td>\n",
       "      <td>Apartment</td>\n",
       "      <td>Private room</td>\n",
       "      <td>2</td>\n",
       "      <td>1.0</td>\n",
       "      <td>1.0</td>\n",
       "      <td>1.0</td>\n",
       "      <td>Real Bed</td>\n",
       "      <td>TV,Cable TV,Internet,Wireless Internet,Air con...</td>\n",
       "      <td>NaN</td>\n",
       "      <td>32.0</td>\n",
       "      <td>NaN</td>\n",
       "    </tr>\n",
       "  </tbody>\n",
       "</table>\n",
       "</div>"
      ],
      "text/plain": [
       "  Smart Location Country Code Country   Latitude  Longitude Property Type  \\\n",
       "0  Madrid, Spain           ES   Spain  40.407732  -3.684819     Apartment   \n",
       "1  Madrid, Spain           ES   Spain  40.415802  -3.705340     Apartment   \n",
       "2  Madrid, Spain           ES   Spain  40.389048  -3.740374     Apartment   \n",
       "3  Madrid, Spain           ES   Spain  40.412814  -3.703052     Apartment   \n",
       "4  Madrid, Spain           ES   Spain  40.438631  -3.713716     Apartment   \n",
       "\n",
       "         Room Type  Accommodates  Bathrooms  Bedrooms  Beds  Bed Type  \\\n",
       "0  Entire home/apt             4        1.0       1.0   2.0  Real Bed   \n",
       "1  Entire home/apt             4        1.0       1.0   2.0  Real Bed   \n",
       "2      Shared room             1        1.5       1.0   8.0  Real Bed   \n",
       "3     Private room             2        3.0       1.0   1.0  Real Bed   \n",
       "4     Private room             2        1.0       1.0   1.0  Real Bed   \n",
       "\n",
       "                                           Amenities  Square Feet  Price  \\\n",
       "0  TV,Internet,Wireless Internet,Air conditioning...          NaN   60.0   \n",
       "1  TV,Internet,Wireless Internet,Air conditioning...          NaN   50.0   \n",
       "2  Internet,Wireless Internet,Wheelchair accessib...          NaN   10.0   \n",
       "3  Wireless Internet,Kitchen,Smoking allowed,Heat...          NaN   30.0   \n",
       "4  TV,Cable TV,Internet,Wireless Internet,Air con...          NaN   32.0   \n",
       "\n",
       "   Weekly Price  \n",
       "0         550.0  \n",
       "1           NaN  \n",
       "2           NaN  \n",
       "3           NaN  \n",
       "4           NaN  "
      ]
     },
     "execution_count": 25,
     "metadata": {},
     "output_type": "execute_result"
    }
   ],
   "source": [
    "df.loc[:,['Smart Location', 'Country Code', 'Country', 'Latitude', 'Longitude',\n",
    "       'Property Type', 'Room Type', 'Accommodates', 'Bathrooms', 'Bedrooms',\n",
    "       'Beds', 'Bed Type', 'Amenities', 'Square Feet', 'Price', 'Weekly Price',]].head()"
   ]
  },
  {
   "cell_type": "code",
   "execution_count": 26,
   "metadata": {},
   "outputs": [
    {
     "data": {
      "text/plain": [
       "Smart Location     object\n",
       "Country Code       object\n",
       "Country            object\n",
       "Latitude          float64\n",
       "Longitude         float64\n",
       "Property Type      object\n",
       "Room Type          object\n",
       "Accommodates        int64\n",
       "Bathrooms         float64\n",
       "Bedrooms          float64\n",
       "Beds              float64\n",
       "Bed Type           object\n",
       "Amenities          object\n",
       "Square Feet       float64\n",
       "Price             float64\n",
       "Weekly Price      float64\n",
       "dtype: object"
      ]
     },
     "execution_count": 26,
     "metadata": {},
     "output_type": "execute_result"
    }
   ],
   "source": [
    "df.loc[:,['Smart Location', 'Country Code', 'Country', 'Latitude', 'Longitude',\n",
    "       'Property Type', 'Room Type', 'Accommodates', 'Bathrooms', 'Bedrooms',\n",
    "       'Beds', 'Bed Type', 'Amenities', 'Square Feet', 'Price', 'Weekly Price',]].dtypes"
   ]
  },
  {
   "cell_type": "code",
   "execution_count": 27,
   "metadata": {},
   "outputs": [
    {
     "data": {
      "text/plain": [
       "Apartment             9598\n",
       "House                 1085\n",
       "Condominium            284\n",
       "Bed & Breakfast        274\n",
       "Loft                   248\n",
       "Other                  171\n",
       "Dorm                    37\n",
       "Guesthouse              32\n",
       "Chalet                  22\n",
       "Villa                   15\n",
       "Townhouse               15\n",
       "Hostel                  13\n",
       "Serviced apartment       9\n",
       "Boutique hotel           5\n",
       "Boat                     3\n",
       "Camper/RV                3\n",
       "Casa particular          3\n",
       "Guest suite              2\n",
       "Bungalow                 2\n",
       "Earth House              2\n",
       "Tent                     1\n",
       "Name: Property Type, dtype: int64"
      ]
     },
     "execution_count": 27,
     "metadata": {},
     "output_type": "execute_result"
    }
   ],
   "source": [
    "df['Property Type'].value_counts()"
   ]
  },
  {
   "cell_type": "code",
   "execution_count": 28,
   "metadata": {},
   "outputs": [
    {
     "data": {
      "text/plain": [
       "Entire home/apt    7191\n",
       "Private room       4471\n",
       "Shared room         162\n",
       "Name: Room Type, dtype: int64"
      ]
     },
     "execution_count": 28,
     "metadata": {},
     "output_type": "execute_result"
    }
   ],
   "source": [
    "df['Room Type'].value_counts()"
   ]
  },
  {
   "cell_type": "markdown",
   "metadata": {},
   "source": [
    "<ul style=\"color:ROYALBLUE\">\n",
    "    <li><b>Smart Location: </b>Misma información que City. No es relevante para nuestro análisis.</li>\n",
    "    <li><b>Country Code: </b>País o estado del inmuble, al sólo tener inmuebles de Madrid no es relevante para nuestro análisis.</li>\n",
    "    <li><b>Country: </b>País o estado del inmuble, al sólo tener inmuebles de Madrid no es relevante para nuestro análisis.</li>\n",
    "    <li><b>Latitude: </b>Latitud del inmueble. Puede ser relevante para identificar zonas de precios.</li>\n",
    "    <li><b>Longitude: </b>Latitud del inmueble. Puede ser relevante para identificar zonas de precios.</li>\n",
    "    <li><b>Property Type: </b>Tipo de inmueble, puede ser relevante para predecir el precio, habrá que codificar esta columna.</li>\n",
    "    <li><b>Room Type: </b>Tipo de alquiler (compartido, o íntegro), puede ser relevante para predecir el precio, habrá que codificar esta columna.</li>\n",
    "    <li><b>Accommodates: </b>Número de personas que entran en el inmueble, puede ser relevante para predecir el precio.</li>\n",
    "    <li><b>Bathrooms: </b>Número de baños que hay en el inmueble, puede ser relevante para predecir el precio.</li>\n",
    "    <li><b>Bedrooms: </b>Número de dormitorios que hay en el inmueble, puede ser relevante para predecir el precio.</li>\n",
    "    <li><b>Beds: </b>Número de camas que hay en el inmueble, puede ser relevante para predecir el precio.</li>\n",
    "    <li><b>Bed Type: </b>Tipo de cama que hay en el inmueble, puede ser relevante para predecir el precio.</li>\n",
    "    <li><b>Amenities: </b>Comodidades que dispone el inmueble. Puede ser relevante para nuestro análisis ya que cuantas más comodidades tenga pueda\n",
    "        influir en el precio. Para ello transformamos la columna al número de verficaciones.</li>\n",
    "    <li><b>Square Feet: </b>Número de pies cuadrados que tiene el inmueble, puede ser relevante para predecir el precio.</li>\n",
    "</ul>"
   ]
  },
  {
   "cell_type": "code",
   "execution_count": 29,
   "metadata": {},
   "outputs": [
    {
     "data": {
      "text/html": [
       "<div>\n",
       "<style scoped>\n",
       "    .dataframe tbody tr th:only-of-type {\n",
       "        vertical-align: middle;\n",
       "    }\n",
       "\n",
       "    .dataframe tbody tr th {\n",
       "        vertical-align: top;\n",
       "    }\n",
       "\n",
       "    .dataframe thead th {\n",
       "        text-align: right;\n",
       "    }\n",
       "</style>\n",
       "<table border=\"1\" class=\"dataframe\">\n",
       "  <thead>\n",
       "    <tr style=\"text-align: right;\">\n",
       "      <th></th>\n",
       "      <th>Security Deposit</th>\n",
       "      <th>Cleaning Fee</th>\n",
       "      <th>Guests Included</th>\n",
       "      <th>Extra People</th>\n",
       "      <th>Minimum Nights</th>\n",
       "      <th>Maximum Nights</th>\n",
       "      <th>Calendar Updated</th>\n",
       "      <th>Has Availability</th>\n",
       "      <th>Availability 30</th>\n",
       "      <th>Availability 60</th>\n",
       "      <th>Availability 90</th>\n",
       "      <th>Availability 365</th>\n",
       "      <th>Calendar last Scraped</th>\n",
       "    </tr>\n",
       "  </thead>\n",
       "  <tbody>\n",
       "    <tr>\n",
       "      <td>0</td>\n",
       "      <td>NaN</td>\n",
       "      <td>25.0</td>\n",
       "      <td>1</td>\n",
       "      <td>0</td>\n",
       "      <td>2</td>\n",
       "      <td>1125</td>\n",
       "      <td>2 weeks ago</td>\n",
       "      <td>NaN</td>\n",
       "      <td>9</td>\n",
       "      <td>32</td>\n",
       "      <td>52</td>\n",
       "      <td>117</td>\n",
       "      <td>2017-04-08</td>\n",
       "    </tr>\n",
       "    <tr>\n",
       "      <td>1</td>\n",
       "      <td>NaN</td>\n",
       "      <td>15.0</td>\n",
       "      <td>1</td>\n",
       "      <td>0</td>\n",
       "      <td>1</td>\n",
       "      <td>1125</td>\n",
       "      <td>today</td>\n",
       "      <td>NaN</td>\n",
       "      <td>15</td>\n",
       "      <td>39</td>\n",
       "      <td>64</td>\n",
       "      <td>208</td>\n",
       "      <td>2017-04-08</td>\n",
       "    </tr>\n",
       "    <tr>\n",
       "      <td>2</td>\n",
       "      <td>NaN</td>\n",
       "      <td>5.0</td>\n",
       "      <td>1</td>\n",
       "      <td>0</td>\n",
       "      <td>3</td>\n",
       "      <td>30</td>\n",
       "      <td>a week ago</td>\n",
       "      <td>NaN</td>\n",
       "      <td>14</td>\n",
       "      <td>44</td>\n",
       "      <td>74</td>\n",
       "      <td>140</td>\n",
       "      <td>2017-04-08</td>\n",
       "    </tr>\n",
       "    <tr>\n",
       "      <td>3</td>\n",
       "      <td>NaN</td>\n",
       "      <td>NaN</td>\n",
       "      <td>1</td>\n",
       "      <td>0</td>\n",
       "      <td>10</td>\n",
       "      <td>1125</td>\n",
       "      <td>3 days ago</td>\n",
       "      <td>NaN</td>\n",
       "      <td>0</td>\n",
       "      <td>6</td>\n",
       "      <td>36</td>\n",
       "      <td>311</td>\n",
       "      <td>2017-04-08</td>\n",
       "    </tr>\n",
       "    <tr>\n",
       "      <td>4</td>\n",
       "      <td>NaN</td>\n",
       "      <td>NaN</td>\n",
       "      <td>1</td>\n",
       "      <td>10</td>\n",
       "      <td>1</td>\n",
       "      <td>1125</td>\n",
       "      <td>5 days ago</td>\n",
       "      <td>NaN</td>\n",
       "      <td>7</td>\n",
       "      <td>34</td>\n",
       "      <td>62</td>\n",
       "      <td>337</td>\n",
       "      <td>2017-04-08</td>\n",
       "    </tr>\n",
       "  </tbody>\n",
       "</table>\n",
       "</div>"
      ],
      "text/plain": [
       "   Security Deposit  Cleaning Fee  Guests Included  Extra People  \\\n",
       "0               NaN          25.0                1             0   \n",
       "1               NaN          15.0                1             0   \n",
       "2               NaN           5.0                1             0   \n",
       "3               NaN           NaN                1             0   \n",
       "4               NaN           NaN                1            10   \n",
       "\n",
       "   Minimum Nights  Maximum Nights Calendar Updated Has Availability  \\\n",
       "0               2            1125      2 weeks ago              NaN   \n",
       "1               1            1125            today              NaN   \n",
       "2               3              30       a week ago              NaN   \n",
       "3              10            1125       3 days ago              NaN   \n",
       "4               1            1125       5 days ago              NaN   \n",
       "\n",
       "   Availability 30  Availability 60  Availability 90  Availability 365  \\\n",
       "0                9               32               52               117   \n",
       "1               15               39               64               208   \n",
       "2               14               44               74               140   \n",
       "3                0                6               36               311   \n",
       "4                7               34               62               337   \n",
       "\n",
       "  Calendar last Scraped  \n",
       "0            2017-04-08  \n",
       "1            2017-04-08  \n",
       "2            2017-04-08  \n",
       "3            2017-04-08  \n",
       "4            2017-04-08  "
      ]
     },
     "execution_count": 29,
     "metadata": {},
     "output_type": "execute_result"
    }
   ],
   "source": [
    "df.loc[:,['Security Deposit', 'Cleaning Fee', 'Guests Included',\n",
    "       'Extra People', 'Minimum Nights', 'Maximum Nights', 'Calendar Updated',\n",
    "       'Has Availability', 'Availability 30', 'Availability 60',\n",
    "       'Availability 90', 'Availability 365', 'Calendar last Scraped',]].head()"
   ]
  },
  {
   "cell_type": "code",
   "execution_count": 30,
   "metadata": {},
   "outputs": [
    {
     "data": {
      "text/plain": [
       "Security Deposit         float64\n",
       "Cleaning Fee             float64\n",
       "Guests Included            int64\n",
       "Extra People               int64\n",
       "Minimum Nights             int64\n",
       "Maximum Nights             int64\n",
       "Calendar Updated          object\n",
       "Has Availability          object\n",
       "Availability 30            int64\n",
       "Availability 60            int64\n",
       "Availability 90            int64\n",
       "Availability 365           int64\n",
       "Calendar last Scraped     object\n",
       "dtype: object"
      ]
     },
     "execution_count": 30,
     "metadata": {},
     "output_type": "execute_result"
    }
   ],
   "source": [
    "df.loc[:,['Security Deposit', 'Cleaning Fee', 'Guests Included',\n",
    "       'Extra People', 'Minimum Nights', 'Maximum Nights', 'Calendar Updated',\n",
    "       'Has Availability', 'Availability 30', 'Availability 60',\n",
    "       'Availability 90', 'Availability 365', 'Calendar last Scraped',]].dtypes"
   ]
  },
  {
   "cell_type": "code",
   "execution_count": 31,
   "metadata": {},
   "outputs": [
    {
     "data": {
      "text/plain": [
       "Has Availability    11815\n",
       "dtype: int64"
      ]
     },
     "execution_count": 31,
     "metadata": {},
     "output_type": "execute_result"
    }
   ],
   "source": [
    "df.loc[:,['Has Availability',]].isnull().sum()"
   ]
  },
  {
   "cell_type": "markdown",
   "metadata": {},
   "source": [
    "<ul style=\"color:ROYALBLUE\">\n",
    "    <li><b>Security Deposit: </b>Fianza que pide el anfitrión, puede ser relevante para nuestro análisis.</li>\n",
    "    <li><b>Cleaning Fee: </b>Tasa de limpieza, puede ser relevante para nuestro análisis.</li>\n",
    "    <li><b>Guests Included: </b>Número de invitados adicionales que puedes alojar en el inmueble, puede ser relevante para nuestro análisis.</li>\n",
    "    <li><b>Extra People: </b>Importe a pagar por cada invitado adicional que puedes alojar en el inmueble, puede ser relevante para nuestro análisis.</li>\n",
    "    <li><b>Minimum Nights: </b>Noches mínimas a alquilar. Puede ser relevante.</li>\n",
    "    <li><b>Maximum Nights: </b>Noches máximas a alquilar. Puede ser relevante.</li>\n",
    "    <li><b>Calendar Updated: </b>Última vez que se actualizó el calendario. No es relevante para nuestro análisis.</li>\n",
    "    <li><b>Has Availability: </b>Es una columna entera de nulos. No es relevante para nuestro análisis.</li>\n",
    "    <li><b>Availability 30, 60, 90, 365: </b>Días de disponibilidad en los proxímos 30, 60, 90 y 365 días, puede ser relevante para predecir el precio.</li>\n",
    "    <li><b>Calendar last Scraped: </b>Última vez que se scrapeó el anuncio. No es relevante para nuestro análisis.</li>\n",
    "</ul>"
   ]
  },
  {
   "cell_type": "code",
   "execution_count": 32,
   "metadata": {},
   "outputs": [
    {
     "data": {
      "text/html": [
       "<div>\n",
       "<style scoped>\n",
       "    .dataframe tbody tr th:only-of-type {\n",
       "        vertical-align: middle;\n",
       "    }\n",
       "\n",
       "    .dataframe tbody tr th {\n",
       "        vertical-align: top;\n",
       "    }\n",
       "\n",
       "    .dataframe thead th {\n",
       "        text-align: right;\n",
       "    }\n",
       "</style>\n",
       "<table border=\"1\" class=\"dataframe\">\n",
       "  <thead>\n",
       "    <tr style=\"text-align: right;\">\n",
       "      <th></th>\n",
       "      <th>Number of Reviews</th>\n",
       "      <th>First Review</th>\n",
       "      <th>Last Review</th>\n",
       "      <th>Review Scores Rating</th>\n",
       "      <th>Review Scores Accuracy</th>\n",
       "      <th>Review Scores Cleanliness</th>\n",
       "      <th>Review Scores Checkin</th>\n",
       "      <th>Review Scores Communication</th>\n",
       "      <th>Review Scores Location</th>\n",
       "      <th>Review Scores Value</th>\n",
       "    </tr>\n",
       "  </thead>\n",
       "  <tbody>\n",
       "    <tr>\n",
       "      <td>0</td>\n",
       "      <td>12</td>\n",
       "      <td>2015-04-26</td>\n",
       "      <td>2017-02-28</td>\n",
       "      <td>95.0</td>\n",
       "      <td>9.0</td>\n",
       "      <td>10.0</td>\n",
       "      <td>10.0</td>\n",
       "      <td>10.0</td>\n",
       "      <td>10.0</td>\n",
       "      <td>9.0</td>\n",
       "    </tr>\n",
       "    <tr>\n",
       "      <td>1</td>\n",
       "      <td>20</td>\n",
       "      <td>2016-08-05</td>\n",
       "      <td>2017-03-20</td>\n",
       "      <td>91.0</td>\n",
       "      <td>9.0</td>\n",
       "      <td>9.0</td>\n",
       "      <td>10.0</td>\n",
       "      <td>10.0</td>\n",
       "      <td>10.0</td>\n",
       "      <td>10.0</td>\n",
       "    </tr>\n",
       "    <tr>\n",
       "      <td>2</td>\n",
       "      <td>0</td>\n",
       "      <td>NaN</td>\n",
       "      <td>NaN</td>\n",
       "      <td>NaN</td>\n",
       "      <td>NaN</td>\n",
       "      <td>NaN</td>\n",
       "      <td>NaN</td>\n",
       "      <td>NaN</td>\n",
       "      <td>NaN</td>\n",
       "      <td>NaN</td>\n",
       "    </tr>\n",
       "    <tr>\n",
       "      <td>3</td>\n",
       "      <td>0</td>\n",
       "      <td>NaN</td>\n",
       "      <td>NaN</td>\n",
       "      <td>NaN</td>\n",
       "      <td>NaN</td>\n",
       "      <td>NaN</td>\n",
       "      <td>NaN</td>\n",
       "      <td>NaN</td>\n",
       "      <td>NaN</td>\n",
       "      <td>NaN</td>\n",
       "    </tr>\n",
       "    <tr>\n",
       "      <td>4</td>\n",
       "      <td>97</td>\n",
       "      <td>2013-06-07</td>\n",
       "      <td>2017-02-28</td>\n",
       "      <td>92.0</td>\n",
       "      <td>9.0</td>\n",
       "      <td>9.0</td>\n",
       "      <td>9.0</td>\n",
       "      <td>10.0</td>\n",
       "      <td>9.0</td>\n",
       "      <td>9.0</td>\n",
       "    </tr>\n",
       "  </tbody>\n",
       "</table>\n",
       "</div>"
      ],
      "text/plain": [
       "   Number of Reviews First Review Last Review  Review Scores Rating  \\\n",
       "0                 12   2015-04-26  2017-02-28                  95.0   \n",
       "1                 20   2016-08-05  2017-03-20                  91.0   \n",
       "2                  0          NaN         NaN                   NaN   \n",
       "3                  0          NaN         NaN                   NaN   \n",
       "4                 97   2013-06-07  2017-02-28                  92.0   \n",
       "\n",
       "   Review Scores Accuracy  Review Scores Cleanliness  Review Scores Checkin  \\\n",
       "0                     9.0                       10.0                   10.0   \n",
       "1                     9.0                        9.0                   10.0   \n",
       "2                     NaN                        NaN                    NaN   \n",
       "3                     NaN                        NaN                    NaN   \n",
       "4                     9.0                        9.0                    9.0   \n",
       "\n",
       "   Review Scores Communication  Review Scores Location  Review Scores Value  \n",
       "0                         10.0                    10.0                  9.0  \n",
       "1                         10.0                    10.0                 10.0  \n",
       "2                          NaN                     NaN                  NaN  \n",
       "3                          NaN                     NaN                  NaN  \n",
       "4                         10.0                     9.0                  9.0  "
      ]
     },
     "execution_count": 32,
     "metadata": {},
     "output_type": "execute_result"
    }
   ],
   "source": [
    "df.loc[:,['Number of Reviews', 'First Review', 'Last Review',\n",
    "       'Review Scores Rating', 'Review Scores Accuracy',\n",
    "       'Review Scores Cleanliness', 'Review Scores Checkin',\n",
    "       'Review Scores Communication', 'Review Scores Location','Review Scores Value']].head()"
   ]
  },
  {
   "cell_type": "code",
   "execution_count": 33,
   "metadata": {},
   "outputs": [
    {
     "data": {
      "text/plain": [
       "Number of Reviews                int64\n",
       "First Review                    object\n",
       "Last Review                     object\n",
       "Review Scores Rating           float64\n",
       "Review Scores Accuracy         float64\n",
       "Review Scores Cleanliness      float64\n",
       "Review Scores Checkin          float64\n",
       "Review Scores Communication    float64\n",
       "Review Scores Location         float64\n",
       "Review Scores Value            float64\n",
       "dtype: object"
      ]
     },
     "execution_count": 33,
     "metadata": {},
     "output_type": "execute_result"
    }
   ],
   "source": [
    "df.loc[:,['Number of Reviews', 'First Review', 'Last Review',\n",
    "       'Review Scores Rating', 'Review Scores Accuracy',\n",
    "       'Review Scores Cleanliness', 'Review Scores Checkin',\n",
    "       'Review Scores Communication', 'Review Scores Location','Review Scores Value']].dtypes"
   ]
  },
  {
   "cell_type": "markdown",
   "metadata": {},
   "source": [
    "<ul style=\"color:ROYALBLUE\">\n",
    "    <li><b>Number of Reviews: </b>Número de opiniones que tiene el inmueble, puede ser relevante para nuestro análisis.</li>\n",
    "    <li><b>First Review: </b>Fecha de la primera opinión, no es relevante para nuestro análisis.</li>\n",
    "    <li><b>Last Review: </b>Fecha de la última opinión, no es relevante para nuestro análisis.</li>\n",
    "    <li><b>Review Scores Rating: </b>Media o resumen de todas las puntuaciones, nos quedaremos con esta puntuación y elminaremos el resto, ya que al ser una media \n",
    "        de las demás tendrán una altísima correlación y nos resume todas las columnas de puntuación.</li>\n",
    "</ul>"
   ]
  },
  {
   "cell_type": "code",
   "execution_count": 34,
   "metadata": {},
   "outputs": [
    {
     "data": {
      "text/html": [
       "<div>\n",
       "<style scoped>\n",
       "    .dataframe tbody tr th:only-of-type {\n",
       "        vertical-align: middle;\n",
       "    }\n",
       "\n",
       "    .dataframe tbody tr th {\n",
       "        vertical-align: top;\n",
       "    }\n",
       "\n",
       "    .dataframe thead th {\n",
       "        text-align: right;\n",
       "    }\n",
       "</style>\n",
       "<table border=\"1\" class=\"dataframe\">\n",
       "  <thead>\n",
       "    <tr style=\"text-align: right;\">\n",
       "      <th></th>\n",
       "      <th>License</th>\n",
       "      <th>Jurisdiction Names</th>\n",
       "      <th>Cancellation Policy</th>\n",
       "      <th>Calculated host listings count</th>\n",
       "      <th>Reviews per Month</th>\n",
       "      <th>Geolocation</th>\n",
       "      <th>Features</th>\n",
       "    </tr>\n",
       "  </thead>\n",
       "  <tbody>\n",
       "    <tr>\n",
       "      <td>0</td>\n",
       "      <td>NaN</td>\n",
       "      <td>NaN</td>\n",
       "      <td>moderate</td>\n",
       "      <td>2.0</td>\n",
       "      <td>0.50</td>\n",
       "      <td>40.4077318793,-3.68481869733</td>\n",
       "      <td>Host Has Profile Pic,Is Location Exact,Require...</td>\n",
       "    </tr>\n",
       "    <tr>\n",
       "      <td>1</td>\n",
       "      <td>NaN</td>\n",
       "      <td>NaN</td>\n",
       "      <td>flexible</td>\n",
       "      <td>1.0</td>\n",
       "      <td>2.43</td>\n",
       "      <td>40.4158022422,-3.70534037765</td>\n",
       "      <td>Host Has Profile Pic,Host Identity Verified,Re...</td>\n",
       "    </tr>\n",
       "    <tr>\n",
       "      <td>2</td>\n",
       "      <td>NaN</td>\n",
       "      <td>NaN</td>\n",
       "      <td>moderate</td>\n",
       "      <td>16.0</td>\n",
       "      <td>NaN</td>\n",
       "      <td>40.3890481626,-3.74037392557</td>\n",
       "      <td>Host Has Profile Pic,Host Identity Verified,Is...</td>\n",
       "    </tr>\n",
       "    <tr>\n",
       "      <td>3</td>\n",
       "      <td>NaN</td>\n",
       "      <td>NaN</td>\n",
       "      <td>strict</td>\n",
       "      <td>97.0</td>\n",
       "      <td>NaN</td>\n",
       "      <td>40.4128140929,-3.70305247638</td>\n",
       "      <td>Host Has Profile Pic,Requires License</td>\n",
       "    </tr>\n",
       "    <tr>\n",
       "      <td>4</td>\n",
       "      <td>NaN</td>\n",
       "      <td>NaN</td>\n",
       "      <td>strict</td>\n",
       "      <td>2.0</td>\n",
       "      <td>2.08</td>\n",
       "      <td>40.4386311984,-3.71371613279</td>\n",
       "      <td>Host Has Profile Pic,Host Identity Verified,Is...</td>\n",
       "    </tr>\n",
       "  </tbody>\n",
       "</table>\n",
       "</div>"
      ],
      "text/plain": [
       "  License Jurisdiction Names Cancellation Policy  \\\n",
       "0     NaN                NaN            moderate   \n",
       "1     NaN                NaN            flexible   \n",
       "2     NaN                NaN            moderate   \n",
       "3     NaN                NaN              strict   \n",
       "4     NaN                NaN              strict   \n",
       "\n",
       "   Calculated host listings count  Reviews per Month  \\\n",
       "0                             2.0               0.50   \n",
       "1                             1.0               2.43   \n",
       "2                            16.0                NaN   \n",
       "3                            97.0                NaN   \n",
       "4                             2.0               2.08   \n",
       "\n",
       "                    Geolocation  \\\n",
       "0  40.4077318793,-3.68481869733   \n",
       "1  40.4158022422,-3.70534037765   \n",
       "2  40.3890481626,-3.74037392557   \n",
       "3  40.4128140929,-3.70305247638   \n",
       "4  40.4386311984,-3.71371613279   \n",
       "\n",
       "                                            Features  \n",
       "0  Host Has Profile Pic,Is Location Exact,Require...  \n",
       "1  Host Has Profile Pic,Host Identity Verified,Re...  \n",
       "2  Host Has Profile Pic,Host Identity Verified,Is...  \n",
       "3              Host Has Profile Pic,Requires License  \n",
       "4  Host Has Profile Pic,Host Identity Verified,Is...  "
      ]
     },
     "execution_count": 34,
     "metadata": {},
     "output_type": "execute_result"
    }
   ],
   "source": [
    "df.loc[:,['License', 'Jurisdiction Names',\n",
    "       'Cancellation Policy', 'Calculated host listings count',\n",
    "       'Reviews per Month', 'Geolocation', 'Features']].head()"
   ]
  },
  {
   "cell_type": "code",
   "execution_count": 35,
   "metadata": {},
   "outputs": [
    {
     "data": {
      "text/plain": [
       "License                            object\n",
       "Jurisdiction Names                 object\n",
       "Cancellation Policy                object\n",
       "Calculated host listings count    float64\n",
       "Reviews per Month                 float64\n",
       "Geolocation                        object\n",
       "Features                           object\n",
       "dtype: object"
      ]
     },
     "execution_count": 35,
     "metadata": {},
     "output_type": "execute_result"
    }
   ],
   "source": [
    "df.loc[:,['License', 'Jurisdiction Names',\n",
    "       'Cancellation Policy', 'Calculated host listings count',\n",
    "       'Reviews per Month', 'Geolocation', 'Features']].dtypes"
   ]
  },
  {
   "cell_type": "code",
   "execution_count": 36,
   "metadata": {},
   "outputs": [
    {
     "data": {
      "text/plain": [
       "License    11547\n",
       "dtype: int64"
      ]
     },
     "execution_count": 36,
     "metadata": {},
     "output_type": "execute_result"
    }
   ],
   "source": [
    "df.loc[:,['License',]].isnull().sum()"
   ]
  },
  {
   "cell_type": "code",
   "execution_count": 37,
   "metadata": {},
   "outputs": [
    {
     "data": {
      "text/plain": [
       "Jurisdiction Names    11650\n",
       "dtype: int64"
      ]
     },
     "execution_count": 37,
     "metadata": {},
     "output_type": "execute_result"
    }
   ],
   "source": [
    "df.loc[:,['Jurisdiction Names',]].isnull().sum()"
   ]
  },
  {
   "cell_type": "code",
   "execution_count": 38,
   "metadata": {},
   "outputs": [
    {
     "data": {
      "text/plain": [
       "strict             4590\n",
       "flexible           3756\n",
       "moderate           3376\n",
       "strict_new           30\n",
       "super_strict_60      24\n",
       "moderate_new         18\n",
       "super_strict_30      17\n",
       "flexible_new         13\n",
       "Name: Cancellation Policy, dtype: int64"
      ]
     },
     "execution_count": 38,
     "metadata": {},
     "output_type": "execute_result"
    }
   ],
   "source": [
    "df['Cancellation Policy'].value_counts()"
   ]
  },
  {
   "cell_type": "markdown",
   "metadata": {},
   "source": [
    "<ul style=\"color:ROYALBLUE\">\n",
    "    <li><b>License: </b>Columna con prácticamente todos nulos, no relevante para nuestro análisis.</li>\n",
    "    <li><b>Jurisdiction Names: </b>Columna con todos nulos, no relevante para nuestro análisis.</li>\n",
    "    <li><b>Cancellation Policy: </b>Tipo de cancelación de reserva del inmueble, puede relevante para nuestro análisis y habrá que codificar la variable.</li>\n",
    "    <li><b>Calculated host listings count: </b>Este campo es del que hablamos anteriormente, que mide la experiencia del anfitrión. Puede ser relevante.</li>\n",
    "    <li><b>Reviews per Month: </b>Númerode opniiones mensuales, al tener el total de opiniones no me parece relevante para nuestro análisis.</li>\n",
    "    <li><b>Geolocation: </b>Latitud y longitud, ya tenemos esta información en otras columnas, no es relevante para nuestro análisis.</li>\n",
    "    <li><b>Features: </b>Ciertas características que tiene el inmueble, al igual que con otras variables nos quedamos en número de caracter´siticas que tiene\n",
    "        y analizaremos su relevancia en nuestro análisis.</li>\n",
    "</ul>"
   ]
  },
  {
   "cell_type": "markdown",
   "metadata": {},
   "source": [
    "##### Tranformaciones"
   ]
  },
  {
   "cell_type": "code",
   "execution_count": 39,
   "metadata": {},
   "outputs": [],
   "source": [
    "# Borramos las columnas que hemos razonado anteriormente.\n",
    "df.drop([\n",
    "    'ID', 'Listing Url', 'Scrape ID', 'Last Scraped', 'Name', 'Summary', 'Space', 'Description', \n",
    "    'Experiences Offered', 'Neighborhood Overview', 'Notes', 'Transit', 'Access', 'Interaction', \n",
    "    'House Rules', 'Thumbnail Url', 'Medium Url', 'Picture Url', 'XL Picture Url',\n",
    "    'Host ID', 'Host URL', 'Host Name', 'Host Since', 'Host Location', 'Host About', 'Host Acceptance Rate', \n",
    "    'Host Thumbnail Url', 'Host Picture Url', 'Host Neighbourhood', 'Host Listings Count', \n",
    "    'Host Total Listings Count', 'Street', 'Neighbourhood Group Cleansed', 'State', 'Market',\n",
    "    'Smart Location', 'Country Code', 'Country', 'Calendar Updated', 'Has Availability', \n",
    "    'Calendar last Scraped','First Review', 'Last Review', 'Review Scores Accuracy',\n",
    "    'Review Scores Cleanliness', 'Review Scores Checkin','Review Scores Communication', \n",
    "    'Review Scores Location', 'Review Scores Value', 'License', 'Jurisdiction Names',\n",
    "    'Reviews per Month', 'Geolocation', \n",
    "    ], \n",
    "    axis=1, inplace=True)\n",
    "\n",
    "# En la columna host verification nos quedamos con el número de verificaciones del anfitrión\n",
    "df['Host Verifications'] = df['Host Verifications'].apply(lambda x: len(str(x).split(\",\")))\n",
    "\n",
    "# Rellenamos los datos faltantes de la columna Neighbourhood con los de Neighbourhood Cleansed\n",
    "df['Neighbourhood'] = df['Neighbourhood'].fillna(df['Neighbourhood Cleansed'])\n",
    "\n",
    "# Eliminamos la columna Neighbourhood Cleansed que ya no nos hace falta\n",
    "df.drop(['Neighbourhood Cleansed'], axis=1, inplace=True)\n",
    "\n",
    "# En la columna Amenities nos quedamos con el número de comodidades del inmueble\n",
    "df['Amenities'] = df['Amenities'].apply(lambda x: len(str(x).split(\",\")))\n",
    "\n",
    "# En la columna Features nos quedamos con el número de caractarísticas del inmueble\n",
    "df['Features'] = df['Features'].apply(lambda x: len(str(x).split(\",\")))\n",
    "\n",
    "# Nos quedamos con los inmuebles de Madrid\n",
    "df = df[df['City'] == \"Madrid\"]\n",
    "\n",
    "# Eliminamos la columna City que ya no nos hace falta\n",
    "df.drop(['City'], axis=1, inplace=True)"
   ]
  },
  {
   "cell_type": "code",
   "execution_count": 40,
   "metadata": {},
   "outputs": [
    {
     "data": {
      "text/plain": [
       "(10567, 34)"
      ]
     },
     "execution_count": 40,
     "metadata": {},
     "output_type": "execute_result"
    }
   ],
   "source": [
    "df.shape"
   ]
  },
  {
   "cell_type": "code",
   "execution_count": 41,
   "metadata": {},
   "outputs": [
    {
     "data": {
      "text/plain": [
       "Index(['Host Response Time', 'Host Response Rate', 'Host Verifications',\n",
       "       'Neighbourhood', 'Zipcode', 'Latitude', 'Longitude', 'Property Type',\n",
       "       'Room Type', 'Accommodates', 'Bathrooms', 'Bedrooms', 'Beds',\n",
       "       'Bed Type', 'Amenities', 'Square Feet', 'Price', 'Weekly Price',\n",
       "       'Monthly Price', 'Security Deposit', 'Cleaning Fee', 'Guests Included',\n",
       "       'Extra People', 'Minimum Nights', 'Maximum Nights', 'Availability 30',\n",
       "       'Availability 60', 'Availability 90', 'Availability 365',\n",
       "       'Number of Reviews', 'Review Scores Rating', 'Cancellation Policy',\n",
       "       'Calculated host listings count', 'Features'],\n",
       "      dtype='object')"
      ]
     },
     "execution_count": 41,
     "metadata": {},
     "output_type": "execute_result"
    }
   ],
   "source": [
    "df.columns"
   ]
  },
  {
   "cell_type": "markdown",
   "metadata": {},
   "source": [
    "<p style=\"color:ROYALBLUE\">De las 89 columnas iniciales nos hemos quedado con 34.</p>\n",
    "<p style=\"color:ROYALBLUE\">Nos quedan las 10567 filas de Madrid.</p>\n",
    "<p style=\"color:ROYALBLUE\">Mostramos una descripción de las columnas numéricas:</p>\n"
   ]
  },
  {
   "cell_type": "code",
   "execution_count": 42,
   "metadata": {},
   "outputs": [
    {
     "data": {
      "text/html": [
       "<div>\n",
       "<style scoped>\n",
       "    .dataframe tbody tr th:only-of-type {\n",
       "        vertical-align: middle;\n",
       "    }\n",
       "\n",
       "    .dataframe tbody tr th {\n",
       "        vertical-align: top;\n",
       "    }\n",
       "\n",
       "    .dataframe thead th {\n",
       "        text-align: right;\n",
       "    }\n",
       "</style>\n",
       "<table border=\"1\" class=\"dataframe\">\n",
       "  <thead>\n",
       "    <tr style=\"text-align: right;\">\n",
       "      <th></th>\n",
       "      <th>count</th>\n",
       "      <th>mean</th>\n",
       "      <th>std</th>\n",
       "      <th>min</th>\n",
       "      <th>25%</th>\n",
       "      <th>50%</th>\n",
       "      <th>75%</th>\n",
       "      <th>max</th>\n",
       "    </tr>\n",
       "  </thead>\n",
       "  <tbody>\n",
       "    <tr>\n",
       "      <td>Host Response Rate</td>\n",
       "      <td>9254.0</td>\n",
       "      <td>94.816944</td>\n",
       "      <td>15.283509</td>\n",
       "      <td>0.000000</td>\n",
       "      <td>100.000000</td>\n",
       "      <td>100.000000</td>\n",
       "      <td>100.000000</td>\n",
       "      <td>100.000000</td>\n",
       "    </tr>\n",
       "    <tr>\n",
       "      <td>Host Verifications</td>\n",
       "      <td>10567.0</td>\n",
       "      <td>4.114034</td>\n",
       "      <td>1.290466</td>\n",
       "      <td>1.000000</td>\n",
       "      <td>3.000000</td>\n",
       "      <td>4.000000</td>\n",
       "      <td>5.000000</td>\n",
       "      <td>10.000000</td>\n",
       "    </tr>\n",
       "    <tr>\n",
       "      <td>Latitude</td>\n",
       "      <td>10567.0</td>\n",
       "      <td>40.420436</td>\n",
       "      <td>0.019802</td>\n",
       "      <td>40.332908</td>\n",
       "      <td>40.410092</td>\n",
       "      <td>40.418471</td>\n",
       "      <td>40.427683</td>\n",
       "      <td>40.514247</td>\n",
       "    </tr>\n",
       "    <tr>\n",
       "      <td>Longitude</td>\n",
       "      <td>10567.0</td>\n",
       "      <td>-3.697122</td>\n",
       "      <td>0.023267</td>\n",
       "      <td>-3.835498</td>\n",
       "      <td>-3.707766</td>\n",
       "      <td>-3.701573</td>\n",
       "      <td>-3.693876</td>\n",
       "      <td>-3.575142</td>\n",
       "    </tr>\n",
       "    <tr>\n",
       "      <td>Accommodates</td>\n",
       "      <td>10567.0</td>\n",
       "      <td>3.188228</td>\n",
       "      <td>1.989624</td>\n",
       "      <td>1.000000</td>\n",
       "      <td>2.000000</td>\n",
       "      <td>2.000000</td>\n",
       "      <td>4.000000</td>\n",
       "      <td>16.000000</td>\n",
       "    </tr>\n",
       "    <tr>\n",
       "      <td>Bathrooms</td>\n",
       "      <td>10527.0</td>\n",
       "      <td>1.256863</td>\n",
       "      <td>0.608184</td>\n",
       "      <td>0.000000</td>\n",
       "      <td>1.000000</td>\n",
       "      <td>1.000000</td>\n",
       "      <td>1.000000</td>\n",
       "      <td>8.000000</td>\n",
       "    </tr>\n",
       "    <tr>\n",
       "      <td>Bedrooms</td>\n",
       "      <td>10549.0</td>\n",
       "      <td>1.294909</td>\n",
       "      <td>0.833250</td>\n",
       "      <td>0.000000</td>\n",
       "      <td>1.000000</td>\n",
       "      <td>1.000000</td>\n",
       "      <td>2.000000</td>\n",
       "      <td>10.000000</td>\n",
       "    </tr>\n",
       "    <tr>\n",
       "      <td>Beds</td>\n",
       "      <td>10530.0</td>\n",
       "      <td>1.992688</td>\n",
       "      <td>1.529786</td>\n",
       "      <td>1.000000</td>\n",
       "      <td>1.000000</td>\n",
       "      <td>1.000000</td>\n",
       "      <td>2.000000</td>\n",
       "      <td>16.000000</td>\n",
       "    </tr>\n",
       "    <tr>\n",
       "      <td>Amenities</td>\n",
       "      <td>10567.0</td>\n",
       "      <td>14.312198</td>\n",
       "      <td>4.725346</td>\n",
       "      <td>1.000000</td>\n",
       "      <td>11.000000</td>\n",
       "      <td>14.000000</td>\n",
       "      <td>17.000000</td>\n",
       "      <td>34.000000</td>\n",
       "    </tr>\n",
       "    <tr>\n",
       "      <td>Square Feet</td>\n",
       "      <td>413.0</td>\n",
       "      <td>375.266344</td>\n",
       "      <td>556.981908</td>\n",
       "      <td>0.000000</td>\n",
       "      <td>0.000000</td>\n",
       "      <td>97.000000</td>\n",
       "      <td>646.000000</td>\n",
       "      <td>5167.000000</td>\n",
       "    </tr>\n",
       "    <tr>\n",
       "      <td>Price</td>\n",
       "      <td>10559.0</td>\n",
       "      <td>66.185150</td>\n",
       "      <td>56.164160</td>\n",
       "      <td>9.000000</td>\n",
       "      <td>31.000000</td>\n",
       "      <td>53.000000</td>\n",
       "      <td>80.000000</td>\n",
       "      <td>875.000000</td>\n",
       "    </tr>\n",
       "    <tr>\n",
       "      <td>Weekly Price</td>\n",
       "      <td>2697.0</td>\n",
       "      <td>370.569892</td>\n",
       "      <td>190.764771</td>\n",
       "      <td>70.000000</td>\n",
       "      <td>210.000000</td>\n",
       "      <td>350.000000</td>\n",
       "      <td>495.000000</td>\n",
       "      <td>999.000000</td>\n",
       "    </tr>\n",
       "    <tr>\n",
       "      <td>Monthly Price</td>\n",
       "      <td>2673.0</td>\n",
       "      <td>1355.562290</td>\n",
       "      <td>1001.426079</td>\n",
       "      <td>250.000000</td>\n",
       "      <td>700.000000</td>\n",
       "      <td>1200.000000</td>\n",
       "      <td>1700.000000</td>\n",
       "      <td>25000.000000</td>\n",
       "    </tr>\n",
       "    <tr>\n",
       "      <td>Security Deposit</td>\n",
       "      <td>4549.0</td>\n",
       "      <td>183.864586</td>\n",
       "      <td>110.595924</td>\n",
       "      <td>70.000000</td>\n",
       "      <td>100.000000</td>\n",
       "      <td>150.000000</td>\n",
       "      <td>200.000000</td>\n",
       "      <td>990.000000</td>\n",
       "    </tr>\n",
       "    <tr>\n",
       "      <td>Cleaning Fee</td>\n",
       "      <td>6282.0</td>\n",
       "      <td>30.025310</td>\n",
       "      <td>27.097579</td>\n",
       "      <td>5.000000</td>\n",
       "      <td>15.000000</td>\n",
       "      <td>25.000000</td>\n",
       "      <td>35.000000</td>\n",
       "      <td>500.000000</td>\n",
       "    </tr>\n",
       "    <tr>\n",
       "      <td>Guests Included</td>\n",
       "      <td>10567.0</td>\n",
       "      <td>1.569225</td>\n",
       "      <td>1.072125</td>\n",
       "      <td>1.000000</td>\n",
       "      <td>1.000000</td>\n",
       "      <td>1.000000</td>\n",
       "      <td>2.000000</td>\n",
       "      <td>16.000000</td>\n",
       "    </tr>\n",
       "    <tr>\n",
       "      <td>Extra People</td>\n",
       "      <td>10567.0</td>\n",
       "      <td>7.422920</td>\n",
       "      <td>10.616849</td>\n",
       "      <td>0.000000</td>\n",
       "      <td>0.000000</td>\n",
       "      <td>0.000000</td>\n",
       "      <td>14.000000</td>\n",
       "      <td>276.000000</td>\n",
       "    </tr>\n",
       "    <tr>\n",
       "      <td>Minimum Nights</td>\n",
       "      <td>10567.0</td>\n",
       "      <td>3.091984</td>\n",
       "      <td>14.131654</td>\n",
       "      <td>1.000000</td>\n",
       "      <td>1.000000</td>\n",
       "      <td>2.000000</td>\n",
       "      <td>3.000000</td>\n",
       "      <td>1125.000000</td>\n",
       "    </tr>\n",
       "    <tr>\n",
       "      <td>Maximum Nights</td>\n",
       "      <td>10567.0</td>\n",
       "      <td>976.684016</td>\n",
       "      <td>9928.723799</td>\n",
       "      <td>1.000000</td>\n",
       "      <td>365.000000</td>\n",
       "      <td>1125.000000</td>\n",
       "      <td>1125.000000</td>\n",
       "      <td>1000000.000000</td>\n",
       "    </tr>\n",
       "    <tr>\n",
       "      <td>Availability 30</td>\n",
       "      <td>10567.0</td>\n",
       "      <td>8.705593</td>\n",
       "      <td>9.066953</td>\n",
       "      <td>0.000000</td>\n",
       "      <td>0.000000</td>\n",
       "      <td>6.000000</td>\n",
       "      <td>13.000000</td>\n",
       "      <td>30.000000</td>\n",
       "    </tr>\n",
       "    <tr>\n",
       "      <td>Availability 60</td>\n",
       "      <td>10567.0</td>\n",
       "      <td>22.830415</td>\n",
       "      <td>19.500273</td>\n",
       "      <td>0.000000</td>\n",
       "      <td>5.000000</td>\n",
       "      <td>20.000000</td>\n",
       "      <td>38.000000</td>\n",
       "      <td>60.000000</td>\n",
       "    </tr>\n",
       "    <tr>\n",
       "      <td>Availability 90</td>\n",
       "      <td>10567.0</td>\n",
       "      <td>39.962998</td>\n",
       "      <td>29.329072</td>\n",
       "      <td>0.000000</td>\n",
       "      <td>12.000000</td>\n",
       "      <td>38.000000</td>\n",
       "      <td>65.000000</td>\n",
       "      <td>90.000000</td>\n",
       "    </tr>\n",
       "    <tr>\n",
       "      <td>Availability 365</td>\n",
       "      <td>10567.0</td>\n",
       "      <td>205.701145</td>\n",
       "      <td>127.087815</td>\n",
       "      <td>0.000000</td>\n",
       "      <td>83.000000</td>\n",
       "      <td>248.000000</td>\n",
       "      <td>320.000000</td>\n",
       "      <td>365.000000</td>\n",
       "    </tr>\n",
       "    <tr>\n",
       "      <td>Number of Reviews</td>\n",
       "      <td>10567.0</td>\n",
       "      <td>23.163055</td>\n",
       "      <td>38.364933</td>\n",
       "      <td>0.000000</td>\n",
       "      <td>1.000000</td>\n",
       "      <td>7.000000</td>\n",
       "      <td>28.000000</td>\n",
       "      <td>356.000000</td>\n",
       "    </tr>\n",
       "    <tr>\n",
       "      <td>Review Scores Rating</td>\n",
       "      <td>8281.0</td>\n",
       "      <td>91.584833</td>\n",
       "      <td>9.111923</td>\n",
       "      <td>20.000000</td>\n",
       "      <td>88.000000</td>\n",
       "      <td>94.000000</td>\n",
       "      <td>98.000000</td>\n",
       "      <td>100.000000</td>\n",
       "    </tr>\n",
       "    <tr>\n",
       "      <td>Calculated host listings count</td>\n",
       "      <td>10567.0</td>\n",
       "      <td>7.766727</td>\n",
       "      <td>19.905940</td>\n",
       "      <td>1.000000</td>\n",
       "      <td>1.000000</td>\n",
       "      <td>2.000000</td>\n",
       "      <td>4.000000</td>\n",
       "      <td>145.000000</td>\n",
       "    </tr>\n",
       "    <tr>\n",
       "      <td>Features</td>\n",
       "      <td>10567.0</td>\n",
       "      <td>3.766821</td>\n",
       "      <td>1.035863</td>\n",
       "      <td>1.000000</td>\n",
       "      <td>3.000000</td>\n",
       "      <td>4.000000</td>\n",
       "      <td>4.000000</td>\n",
       "      <td>8.000000</td>\n",
       "    </tr>\n",
       "  </tbody>\n",
       "</table>\n",
       "</div>"
      ],
      "text/plain": [
       "                                  count         mean          std         min  \\\n",
       "Host Response Rate               9254.0    94.816944    15.283509    0.000000   \n",
       "Host Verifications              10567.0     4.114034     1.290466    1.000000   \n",
       "Latitude                        10567.0    40.420436     0.019802   40.332908   \n",
       "Longitude                       10567.0    -3.697122     0.023267   -3.835498   \n",
       "Accommodates                    10567.0     3.188228     1.989624    1.000000   \n",
       "Bathrooms                       10527.0     1.256863     0.608184    0.000000   \n",
       "Bedrooms                        10549.0     1.294909     0.833250    0.000000   \n",
       "Beds                            10530.0     1.992688     1.529786    1.000000   \n",
       "Amenities                       10567.0    14.312198     4.725346    1.000000   \n",
       "Square Feet                       413.0   375.266344   556.981908    0.000000   \n",
       "Price                           10559.0    66.185150    56.164160    9.000000   \n",
       "Weekly Price                     2697.0   370.569892   190.764771   70.000000   \n",
       "Monthly Price                    2673.0  1355.562290  1001.426079  250.000000   \n",
       "Security Deposit                 4549.0   183.864586   110.595924   70.000000   \n",
       "Cleaning Fee                     6282.0    30.025310    27.097579    5.000000   \n",
       "Guests Included                 10567.0     1.569225     1.072125    1.000000   \n",
       "Extra People                    10567.0     7.422920    10.616849    0.000000   \n",
       "Minimum Nights                  10567.0     3.091984    14.131654    1.000000   \n",
       "Maximum Nights                  10567.0   976.684016  9928.723799    1.000000   \n",
       "Availability 30                 10567.0     8.705593     9.066953    0.000000   \n",
       "Availability 60                 10567.0    22.830415    19.500273    0.000000   \n",
       "Availability 90                 10567.0    39.962998    29.329072    0.000000   \n",
       "Availability 365                10567.0   205.701145   127.087815    0.000000   \n",
       "Number of Reviews               10567.0    23.163055    38.364933    0.000000   \n",
       "Review Scores Rating             8281.0    91.584833     9.111923   20.000000   \n",
       "Calculated host listings count  10567.0     7.766727    19.905940    1.000000   \n",
       "Features                        10567.0     3.766821     1.035863    1.000000   \n",
       "\n",
       "                                       25%          50%          75%  \\\n",
       "Host Response Rate              100.000000   100.000000   100.000000   \n",
       "Host Verifications                3.000000     4.000000     5.000000   \n",
       "Latitude                         40.410092    40.418471    40.427683   \n",
       "Longitude                        -3.707766    -3.701573    -3.693876   \n",
       "Accommodates                      2.000000     2.000000     4.000000   \n",
       "Bathrooms                         1.000000     1.000000     1.000000   \n",
       "Bedrooms                          1.000000     1.000000     2.000000   \n",
       "Beds                              1.000000     1.000000     2.000000   \n",
       "Amenities                        11.000000    14.000000    17.000000   \n",
       "Square Feet                       0.000000    97.000000   646.000000   \n",
       "Price                            31.000000    53.000000    80.000000   \n",
       "Weekly Price                    210.000000   350.000000   495.000000   \n",
       "Monthly Price                   700.000000  1200.000000  1700.000000   \n",
       "Security Deposit                100.000000   150.000000   200.000000   \n",
       "Cleaning Fee                     15.000000    25.000000    35.000000   \n",
       "Guests Included                   1.000000     1.000000     2.000000   \n",
       "Extra People                      0.000000     0.000000    14.000000   \n",
       "Minimum Nights                    1.000000     2.000000     3.000000   \n",
       "Maximum Nights                  365.000000  1125.000000  1125.000000   \n",
       "Availability 30                   0.000000     6.000000    13.000000   \n",
       "Availability 60                   5.000000    20.000000    38.000000   \n",
       "Availability 90                  12.000000    38.000000    65.000000   \n",
       "Availability 365                 83.000000   248.000000   320.000000   \n",
       "Number of Reviews                 1.000000     7.000000    28.000000   \n",
       "Review Scores Rating             88.000000    94.000000    98.000000   \n",
       "Calculated host listings count    1.000000     2.000000     4.000000   \n",
       "Features                          3.000000     4.000000     4.000000   \n",
       "\n",
       "                                           max  \n",
       "Host Response Rate                  100.000000  \n",
       "Host Verifications                   10.000000  \n",
       "Latitude                             40.514247  \n",
       "Longitude                            -3.575142  \n",
       "Accommodates                         16.000000  \n",
       "Bathrooms                             8.000000  \n",
       "Bedrooms                             10.000000  \n",
       "Beds                                 16.000000  \n",
       "Amenities                            34.000000  \n",
       "Square Feet                        5167.000000  \n",
       "Price                               875.000000  \n",
       "Weekly Price                        999.000000  \n",
       "Monthly Price                     25000.000000  \n",
       "Security Deposit                    990.000000  \n",
       "Cleaning Fee                        500.000000  \n",
       "Guests Included                      16.000000  \n",
       "Extra People                        276.000000  \n",
       "Minimum Nights                     1125.000000  \n",
       "Maximum Nights                  1000000.000000  \n",
       "Availability 30                      30.000000  \n",
       "Availability 60                      60.000000  \n",
       "Availability 90                      90.000000  \n",
       "Availability 365                    365.000000  \n",
       "Number of Reviews                   356.000000  \n",
       "Review Scores Rating                100.000000  \n",
       "Calculated host listings count      145.000000  \n",
       "Features                              8.000000  "
      ]
     },
     "execution_count": 42,
     "metadata": {},
     "output_type": "execute_result"
    }
   ],
   "source": [
    "df.describe().T"
   ]
  },
  {
   "cell_type": "markdown",
   "metadata": {},
   "source": [
    "<p style=\"color:ROYALBLUE\">Podemos eliminar las columnas de SquareFeet, WeeklyPrice y MonthlyPrice porque tienen muy pocos datos.</p>\n"
   ]
  },
  {
   "cell_type": "code",
   "execution_count": 43,
   "metadata": {},
   "outputs": [],
   "source": [
    "df.drop(['Square Feet', 'Weekly Price', 'Monthly Price'], axis=1, inplace=True)"
   ]
  },
  {
   "cell_type": "markdown",
   "metadata": {},
   "source": [
    "<p style=\"color:ROYALBLUE\">Consideramos que los registros que no tienen fianza o tasa de limpieza es porque esta vale cero.</p>\n"
   ]
  },
  {
   "cell_type": "code",
   "execution_count": 44,
   "metadata": {},
   "outputs": [],
   "source": [
    "df['Security Deposit'] = df['Security Deposit'].fillna(value=0)\n",
    "df['Cleaning Fee'] = df['Cleaning Fee'].fillna(value=0)"
   ]
  },
  {
   "cell_type": "markdown",
   "metadata": {},
   "source": [
    "<p style=\"color:ROYALBLUE\">En la columna bathrooms rellenamos con valor 1, ya que consideramos que aunque el inmueble fuera compartido al menos un baño si tendrá.</p>"
   ]
  },
  {
   "cell_type": "code",
   "execution_count": 45,
   "metadata": {},
   "outputs": [],
   "source": [
    "df['Bathrooms'] = df['Bathrooms'].fillna(value=1)"
   ]
  },
  {
   "cell_type": "markdown",
   "metadata": {},
   "source": [
    "<p style=\"color:ROYALBLUE\">Los Bedrooms que nos faltan los eliminamos, ya que son muy pocos respecto al dataset.</p>"
   ]
  },
  {
   "cell_type": "code",
   "execution_count": 46,
   "metadata": {},
   "outputs": [
    {
     "data": {
      "text/plain": [
       "18"
      ]
     },
     "execution_count": 46,
     "metadata": {},
     "output_type": "execute_result"
    }
   ],
   "source": [
    "df['Bedrooms'].isnull().sum()"
   ]
  },
  {
   "cell_type": "code",
   "execution_count": 47,
   "metadata": {},
   "outputs": [],
   "source": [
    "df.drop(df[df['Bedrooms'].isnull()].index, inplace = True)"
   ]
  },
  {
   "cell_type": "markdown",
   "metadata": {},
   "source": [
    "<p style=\"color:ROYALBLUE\">Las Beds que nos faltan las rellenamos con el número de dormitorios, considerando que en cada dormitorio hay una cama.</p>"
   ]
  },
  {
   "cell_type": "code",
   "execution_count": 48,
   "metadata": {},
   "outputs": [],
   "source": [
    "df['Beds'] = df['Beds'].fillna(df['Bedrooms'])"
   ]
  },
  {
   "cell_type": "markdown",
   "metadata": {},
   "source": [
    "<p style=\"color:ROYALBLUE\">Los Price que nos faltan los eliminamos, ya que son muy pocos respecto al dataset.</p>"
   ]
  },
  {
   "cell_type": "code",
   "execution_count": 49,
   "metadata": {},
   "outputs": [
    {
     "data": {
      "text/plain": [
       "8"
      ]
     },
     "execution_count": 49,
     "metadata": {},
     "output_type": "execute_result"
    }
   ],
   "source": [
    "df['Price'].isnull().sum()"
   ]
  },
  {
   "cell_type": "code",
   "execution_count": 50,
   "metadata": {},
   "outputs": [],
   "source": [
    "df.drop(df[df['Price'].isnull()].index, inplace = True)"
   ]
  },
  {
   "cell_type": "markdown",
   "metadata": {},
   "source": [
    "<p style=\"color:ROYALBLUE\">Los Host Response Rate faltantes los relleraremos con su media, guardamos el valor para rellenar el dataset de test con la misma media.</p>"
   ]
  },
  {
   "cell_type": "code",
   "execution_count": 51,
   "metadata": {},
   "outputs": [
    {
     "data": {
      "text/plain": [
       "100.0    7111\n",
       "90.0      233\n",
       "75.0      178\n",
       "98.0      136\n",
       "96.0      133\n",
       "         ... \n",
       "41.0        1\n",
       "54.0        1\n",
       "27.0        1\n",
       "9.0         1\n",
       "62.0        1\n",
       "Name: Host Response Rate, Length: 66, dtype: int64"
      ]
     },
     "execution_count": 51,
     "metadata": {},
     "output_type": "execute_result"
    }
   ],
   "source": [
    "df['Host Response Rate'].value_counts()"
   ]
  },
  {
   "cell_type": "code",
   "execution_count": 52,
   "metadata": {},
   "outputs": [],
   "source": [
    "mean_host_resp = df[\"Host Response Rate\"].mean()\n",
    "df[\"Host Response Rate\"].fillna(mean_host_resp, inplace=True)"
   ]
  },
  {
   "cell_type": "markdown",
   "metadata": {},
   "source": [
    "<p style=\"color:ROYALBLUE\">Los Review Scores Rating faltantes vemos que mas o menos coinciden con los que tienen 0 Reviews, por tanto lo pondremos a 0</p>"
   ]
  },
  {
   "cell_type": "code",
   "execution_count": 53,
   "metadata": {},
   "outputs": [
    {
     "data": {
      "text/plain": [
       "0      2168\n",
       "1       869\n",
       "2       550\n",
       "3       441\n",
       "4       386\n",
       "       ... \n",
       "308       1\n",
       "356       1\n",
       "197       1\n",
       "231       1\n",
       "343       1\n",
       "Name: Number of Reviews, Length: 242, dtype: int64"
      ]
     },
     "execution_count": 53,
     "metadata": {},
     "output_type": "execute_result"
    }
   ],
   "source": [
    "df[\"Number of Reviews\"].value_counts()"
   ]
  },
  {
   "cell_type": "code",
   "execution_count": 54,
   "metadata": {},
   "outputs": [
    {
     "data": {
      "text/plain": [
       "2275"
      ]
     },
     "execution_count": 54,
     "metadata": {},
     "output_type": "execute_result"
    }
   ],
   "source": [
    "df['Review Scores Rating'].isnull().sum()"
   ]
  },
  {
   "cell_type": "code",
   "execution_count": 55,
   "metadata": {},
   "outputs": [],
   "source": [
    "df['Review Scores Rating'] = df['Review Scores Rating'].fillna(value=0)"
   ]
  },
  {
   "cell_type": "markdown",
   "metadata": {},
   "source": [
    "<p style=\"color:ROYALBLUE\">Comprobamos que todos los datos numéricos están rellenos</p>"
   ]
  },
  {
   "cell_type": "code",
   "execution_count": 56,
   "metadata": {},
   "outputs": [
    {
     "data": {
      "text/html": [
       "<div>\n",
       "<style scoped>\n",
       "    .dataframe tbody tr th:only-of-type {\n",
       "        vertical-align: middle;\n",
       "    }\n",
       "\n",
       "    .dataframe tbody tr th {\n",
       "        vertical-align: top;\n",
       "    }\n",
       "\n",
       "    .dataframe thead th {\n",
       "        text-align: right;\n",
       "    }\n",
       "</style>\n",
       "<table border=\"1\" class=\"dataframe\">\n",
       "  <thead>\n",
       "    <tr style=\"text-align: right;\">\n",
       "      <th></th>\n",
       "      <th>count</th>\n",
       "      <th>mean</th>\n",
       "      <th>std</th>\n",
       "      <th>min</th>\n",
       "      <th>25%</th>\n",
       "      <th>50%</th>\n",
       "      <th>75%</th>\n",
       "      <th>max</th>\n",
       "    </tr>\n",
       "  </thead>\n",
       "  <tbody>\n",
       "    <tr>\n",
       "      <td>Host Response Rate</td>\n",
       "      <td>10541.0</td>\n",
       "      <td>94.833586</td>\n",
       "      <td>14.254026</td>\n",
       "      <td>0.000000</td>\n",
       "      <td>94.833586</td>\n",
       "      <td>100.000000</td>\n",
       "      <td>100.000000</td>\n",
       "      <td>100.000000</td>\n",
       "    </tr>\n",
       "    <tr>\n",
       "      <td>Host Verifications</td>\n",
       "      <td>10541.0</td>\n",
       "      <td>4.115644</td>\n",
       "      <td>1.290015</td>\n",
       "      <td>1.000000</td>\n",
       "      <td>3.000000</td>\n",
       "      <td>4.000000</td>\n",
       "      <td>5.000000</td>\n",
       "      <td>10.000000</td>\n",
       "    </tr>\n",
       "    <tr>\n",
       "      <td>Latitude</td>\n",
       "      <td>10541.0</td>\n",
       "      <td>40.420444</td>\n",
       "      <td>0.019814</td>\n",
       "      <td>40.332908</td>\n",
       "      <td>40.410095</td>\n",
       "      <td>40.418449</td>\n",
       "      <td>40.427684</td>\n",
       "      <td>40.514247</td>\n",
       "    </tr>\n",
       "    <tr>\n",
       "      <td>Longitude</td>\n",
       "      <td>10541.0</td>\n",
       "      <td>-3.697110</td>\n",
       "      <td>0.023268</td>\n",
       "      <td>-3.835498</td>\n",
       "      <td>-3.707759</td>\n",
       "      <td>-3.701573</td>\n",
       "      <td>-3.693876</td>\n",
       "      <td>-3.575142</td>\n",
       "    </tr>\n",
       "    <tr>\n",
       "      <td>Accommodates</td>\n",
       "      <td>10541.0</td>\n",
       "      <td>3.189071</td>\n",
       "      <td>1.989254</td>\n",
       "      <td>1.000000</td>\n",
       "      <td>2.000000</td>\n",
       "      <td>2.000000</td>\n",
       "      <td>4.000000</td>\n",
       "      <td>16.000000</td>\n",
       "    </tr>\n",
       "    <tr>\n",
       "      <td>Bathrooms</td>\n",
       "      <td>10541.0</td>\n",
       "      <td>1.255099</td>\n",
       "      <td>0.603990</td>\n",
       "      <td>0.000000</td>\n",
       "      <td>1.000000</td>\n",
       "      <td>1.000000</td>\n",
       "      <td>1.000000</td>\n",
       "      <td>8.000000</td>\n",
       "    </tr>\n",
       "    <tr>\n",
       "      <td>Bedrooms</td>\n",
       "      <td>10541.0</td>\n",
       "      <td>1.294469</td>\n",
       "      <td>0.832908</td>\n",
       "      <td>0.000000</td>\n",
       "      <td>1.000000</td>\n",
       "      <td>1.000000</td>\n",
       "      <td>2.000000</td>\n",
       "      <td>10.000000</td>\n",
       "    </tr>\n",
       "    <tr>\n",
       "      <td>Beds</td>\n",
       "      <td>10541.0</td>\n",
       "      <td>1.990988</td>\n",
       "      <td>1.528109</td>\n",
       "      <td>1.000000</td>\n",
       "      <td>1.000000</td>\n",
       "      <td>1.000000</td>\n",
       "      <td>2.000000</td>\n",
       "      <td>16.000000</td>\n",
       "    </tr>\n",
       "    <tr>\n",
       "      <td>Amenities</td>\n",
       "      <td>10541.0</td>\n",
       "      <td>14.319799</td>\n",
       "      <td>4.723964</td>\n",
       "      <td>1.000000</td>\n",
       "      <td>11.000000</td>\n",
       "      <td>14.000000</td>\n",
       "      <td>17.000000</td>\n",
       "      <td>34.000000</td>\n",
       "    </tr>\n",
       "    <tr>\n",
       "      <td>Price</td>\n",
       "      <td>10541.0</td>\n",
       "      <td>66.221801</td>\n",
       "      <td>56.192340</td>\n",
       "      <td>9.000000</td>\n",
       "      <td>31.000000</td>\n",
       "      <td>53.000000</td>\n",
       "      <td>80.000000</td>\n",
       "      <td>875.000000</td>\n",
       "    </tr>\n",
       "    <tr>\n",
       "      <td>Security Deposit</td>\n",
       "      <td>10541.0</td>\n",
       "      <td>79.202637</td>\n",
       "      <td>116.391012</td>\n",
       "      <td>0.000000</td>\n",
       "      <td>0.000000</td>\n",
       "      <td>0.000000</td>\n",
       "      <td>150.000000</td>\n",
       "      <td>990.000000</td>\n",
       "    </tr>\n",
       "    <tr>\n",
       "      <td>Cleaning Fee</td>\n",
       "      <td>10541.0</td>\n",
       "      <td>17.860355</td>\n",
       "      <td>25.577138</td>\n",
       "      <td>0.000000</td>\n",
       "      <td>0.000000</td>\n",
       "      <td>10.000000</td>\n",
       "      <td>30.000000</td>\n",
       "      <td>500.000000</td>\n",
       "    </tr>\n",
       "    <tr>\n",
       "      <td>Guests Included</td>\n",
       "      <td>10541.0</td>\n",
       "      <td>1.570250</td>\n",
       "      <td>1.073098</td>\n",
       "      <td>1.000000</td>\n",
       "      <td>1.000000</td>\n",
       "      <td>1.000000</td>\n",
       "      <td>2.000000</td>\n",
       "      <td>16.000000</td>\n",
       "    </tr>\n",
       "    <tr>\n",
       "      <td>Extra People</td>\n",
       "      <td>10541.0</td>\n",
       "      <td>7.408785</td>\n",
       "      <td>10.358716</td>\n",
       "      <td>0.000000</td>\n",
       "      <td>0.000000</td>\n",
       "      <td>0.000000</td>\n",
       "      <td>14.000000</td>\n",
       "      <td>276.000000</td>\n",
       "    </tr>\n",
       "    <tr>\n",
       "      <td>Minimum Nights</td>\n",
       "      <td>10541.0</td>\n",
       "      <td>3.095437</td>\n",
       "      <td>14.148789</td>\n",
       "      <td>1.000000</td>\n",
       "      <td>1.000000</td>\n",
       "      <td>2.000000</td>\n",
       "      <td>3.000000</td>\n",
       "      <td>1125.000000</td>\n",
       "    </tr>\n",
       "    <tr>\n",
       "      <td>Maximum Nights</td>\n",
       "      <td>10541.0</td>\n",
       "      <td>976.914145</td>\n",
       "      <td>9940.936608</td>\n",
       "      <td>1.000000</td>\n",
       "      <td>365.000000</td>\n",
       "      <td>1125.000000</td>\n",
       "      <td>1125.000000</td>\n",
       "      <td>1000000.000000</td>\n",
       "    </tr>\n",
       "    <tr>\n",
       "      <td>Availability 30</td>\n",
       "      <td>10541.0</td>\n",
       "      <td>8.697372</td>\n",
       "      <td>9.060133</td>\n",
       "      <td>0.000000</td>\n",
       "      <td>0.000000</td>\n",
       "      <td>6.000000</td>\n",
       "      <td>13.000000</td>\n",
       "      <td>30.000000</td>\n",
       "    </tr>\n",
       "    <tr>\n",
       "      <td>Availability 60</td>\n",
       "      <td>10541.0</td>\n",
       "      <td>22.815767</td>\n",
       "      <td>19.492553</td>\n",
       "      <td>0.000000</td>\n",
       "      <td>5.000000</td>\n",
       "      <td>20.000000</td>\n",
       "      <td>38.000000</td>\n",
       "      <td>60.000000</td>\n",
       "    </tr>\n",
       "    <tr>\n",
       "      <td>Availability 90</td>\n",
       "      <td>10541.0</td>\n",
       "      <td>39.944218</td>\n",
       "      <td>29.318410</td>\n",
       "      <td>0.000000</td>\n",
       "      <td>12.000000</td>\n",
       "      <td>38.000000</td>\n",
       "      <td>65.000000</td>\n",
       "      <td>90.000000</td>\n",
       "    </tr>\n",
       "    <tr>\n",
       "      <td>Availability 365</td>\n",
       "      <td>10541.0</td>\n",
       "      <td>205.684186</td>\n",
       "      <td>127.077043</td>\n",
       "      <td>0.000000</td>\n",
       "      <td>83.000000</td>\n",
       "      <td>248.000000</td>\n",
       "      <td>320.000000</td>\n",
       "      <td>365.000000</td>\n",
       "    </tr>\n",
       "    <tr>\n",
       "      <td>Number of Reviews</td>\n",
       "      <td>10541.0</td>\n",
       "      <td>23.123897</td>\n",
       "      <td>38.190929</td>\n",
       "      <td>0.000000</td>\n",
       "      <td>1.000000</td>\n",
       "      <td>7.000000</td>\n",
       "      <td>28.000000</td>\n",
       "      <td>356.000000</td>\n",
       "    </tr>\n",
       "    <tr>\n",
       "      <td>Review Scores Rating</td>\n",
       "      <td>10541.0</td>\n",
       "      <td>71.818234</td>\n",
       "      <td>38.533976</td>\n",
       "      <td>0.000000</td>\n",
       "      <td>75.000000</td>\n",
       "      <td>91.000000</td>\n",
       "      <td>97.000000</td>\n",
       "      <td>100.000000</td>\n",
       "    </tr>\n",
       "    <tr>\n",
       "      <td>Calculated host listings count</td>\n",
       "      <td>10541.0</td>\n",
       "      <td>7.766341</td>\n",
       "      <td>19.883454</td>\n",
       "      <td>1.000000</td>\n",
       "      <td>1.000000</td>\n",
       "      <td>2.000000</td>\n",
       "      <td>4.000000</td>\n",
       "      <td>145.000000</td>\n",
       "    </tr>\n",
       "    <tr>\n",
       "      <td>Features</td>\n",
       "      <td>10541.0</td>\n",
       "      <td>3.767669</td>\n",
       "      <td>1.035335</td>\n",
       "      <td>1.000000</td>\n",
       "      <td>3.000000</td>\n",
       "      <td>4.000000</td>\n",
       "      <td>4.000000</td>\n",
       "      <td>8.000000</td>\n",
       "    </tr>\n",
       "  </tbody>\n",
       "</table>\n",
       "</div>"
      ],
      "text/plain": [
       "                                  count        mean          std        min  \\\n",
       "Host Response Rate              10541.0   94.833586    14.254026   0.000000   \n",
       "Host Verifications              10541.0    4.115644     1.290015   1.000000   \n",
       "Latitude                        10541.0   40.420444     0.019814  40.332908   \n",
       "Longitude                       10541.0   -3.697110     0.023268  -3.835498   \n",
       "Accommodates                    10541.0    3.189071     1.989254   1.000000   \n",
       "Bathrooms                       10541.0    1.255099     0.603990   0.000000   \n",
       "Bedrooms                        10541.0    1.294469     0.832908   0.000000   \n",
       "Beds                            10541.0    1.990988     1.528109   1.000000   \n",
       "Amenities                       10541.0   14.319799     4.723964   1.000000   \n",
       "Price                           10541.0   66.221801    56.192340   9.000000   \n",
       "Security Deposit                10541.0   79.202637   116.391012   0.000000   \n",
       "Cleaning Fee                    10541.0   17.860355    25.577138   0.000000   \n",
       "Guests Included                 10541.0    1.570250     1.073098   1.000000   \n",
       "Extra People                    10541.0    7.408785    10.358716   0.000000   \n",
       "Minimum Nights                  10541.0    3.095437    14.148789   1.000000   \n",
       "Maximum Nights                  10541.0  976.914145  9940.936608   1.000000   \n",
       "Availability 30                 10541.0    8.697372     9.060133   0.000000   \n",
       "Availability 60                 10541.0   22.815767    19.492553   0.000000   \n",
       "Availability 90                 10541.0   39.944218    29.318410   0.000000   \n",
       "Availability 365                10541.0  205.684186   127.077043   0.000000   \n",
       "Number of Reviews               10541.0   23.123897    38.190929   0.000000   \n",
       "Review Scores Rating            10541.0   71.818234    38.533976   0.000000   \n",
       "Calculated host listings count  10541.0    7.766341    19.883454   1.000000   \n",
       "Features                        10541.0    3.767669     1.035335   1.000000   \n",
       "\n",
       "                                       25%          50%          75%  \\\n",
       "Host Response Rate               94.833586   100.000000   100.000000   \n",
       "Host Verifications                3.000000     4.000000     5.000000   \n",
       "Latitude                         40.410095    40.418449    40.427684   \n",
       "Longitude                        -3.707759    -3.701573    -3.693876   \n",
       "Accommodates                      2.000000     2.000000     4.000000   \n",
       "Bathrooms                         1.000000     1.000000     1.000000   \n",
       "Bedrooms                          1.000000     1.000000     2.000000   \n",
       "Beds                              1.000000     1.000000     2.000000   \n",
       "Amenities                        11.000000    14.000000    17.000000   \n",
       "Price                            31.000000    53.000000    80.000000   \n",
       "Security Deposit                  0.000000     0.000000   150.000000   \n",
       "Cleaning Fee                      0.000000    10.000000    30.000000   \n",
       "Guests Included                   1.000000     1.000000     2.000000   \n",
       "Extra People                      0.000000     0.000000    14.000000   \n",
       "Minimum Nights                    1.000000     2.000000     3.000000   \n",
       "Maximum Nights                  365.000000  1125.000000  1125.000000   \n",
       "Availability 30                   0.000000     6.000000    13.000000   \n",
       "Availability 60                   5.000000    20.000000    38.000000   \n",
       "Availability 90                  12.000000    38.000000    65.000000   \n",
       "Availability 365                 83.000000   248.000000   320.000000   \n",
       "Number of Reviews                 1.000000     7.000000    28.000000   \n",
       "Review Scores Rating             75.000000    91.000000    97.000000   \n",
       "Calculated host listings count    1.000000     2.000000     4.000000   \n",
       "Features                          3.000000     4.000000     4.000000   \n",
       "\n",
       "                                           max  \n",
       "Host Response Rate                  100.000000  \n",
       "Host Verifications                   10.000000  \n",
       "Latitude                             40.514247  \n",
       "Longitude                            -3.575142  \n",
       "Accommodates                         16.000000  \n",
       "Bathrooms                             8.000000  \n",
       "Bedrooms                             10.000000  \n",
       "Beds                                 16.000000  \n",
       "Amenities                            34.000000  \n",
       "Price                               875.000000  \n",
       "Security Deposit                    990.000000  \n",
       "Cleaning Fee                        500.000000  \n",
       "Guests Included                      16.000000  \n",
       "Extra People                        276.000000  \n",
       "Minimum Nights                     1125.000000  \n",
       "Maximum Nights                  1000000.000000  \n",
       "Availability 30                      30.000000  \n",
       "Availability 60                      60.000000  \n",
       "Availability 90                      90.000000  \n",
       "Availability 365                    365.000000  \n",
       "Number of Reviews                   356.000000  \n",
       "Review Scores Rating                100.000000  \n",
       "Calculated host listings count      145.000000  \n",
       "Features                              8.000000  "
      ]
     },
     "execution_count": 56,
     "metadata": {},
     "output_type": "execute_result"
    }
   ],
   "source": [
    "df.describe().T"
   ]
  },
  {
   "cell_type": "code",
   "execution_count": 57,
   "metadata": {},
   "outputs": [
    {
     "data": {
      "text/plain": [
       "(10541, 31)"
      ]
     },
     "execution_count": 57,
     "metadata": {},
     "output_type": "execute_result"
    }
   ],
   "source": [
    "df.shape"
   ]
  },
  {
   "cell_type": "markdown",
   "metadata": {},
   "source": [
    "<p style=\"color:ROYALBLUE\">Vamos a tratar las columnas no numéricas.</p>"
   ]
  },
  {
   "cell_type": "markdown",
   "metadata": {},
   "source": [
    "<p style=\"color:ROYALBLUE\">El Zipcode aunque son números la codificamos porque que un código postal sea mayor o menor no quiere decir nada para el modelo.</p>"
   ]
  },
  {
   "cell_type": "code",
   "execution_count": 58,
   "metadata": {},
   "outputs": [],
   "source": [
    "# Los datos faltantes en ZipCode los rellenamos con unknown\n",
    "df['Zipcode'] = df['Zipcode'].fillna('unknown')"
   ]
  },
  {
   "cell_type": "code",
   "execution_count": 59,
   "metadata": {},
   "outputs": [],
   "source": [
    "# Los datos faltantes en Host Response Time\t los rellenamos con unknown\n",
    "df['Host Response Time'] = df['Host Response Time'].fillna('unknown')"
   ]
  },
  {
   "cell_type": "code",
   "execution_count": 60,
   "metadata": {},
   "outputs": [
    {
     "data": {
      "text/plain": [
       "['Host Response Time',\n",
       " 'Neighbourhood',\n",
       " 'Zipcode',\n",
       " 'Property Type',\n",
       " 'Room Type',\n",
       " 'Bed Type',\n",
       " 'Cancellation Policy']"
      ]
     },
     "execution_count": 60,
     "metadata": {},
     "output_type": "execute_result"
    }
   ],
   "source": [
    "# Creamos una lista con los nombres de las variables categóricas\n",
    "categorical_feature_mask = df.dtypes==object\n",
    "categorical_cols = df.columns[categorical_feature_mask].tolist()\n",
    "categorical_cols"
   ]
  },
  {
   "cell_type": "code",
   "execution_count": 61,
   "metadata": {},
   "outputs": [],
   "source": [
    "mean_map = {}\n",
    "for c in categorical_cols:\n",
    "    mean = df.groupby(c)['Price'].mean()\n",
    "    df[c] = df[c].map(mean)    \n",
    "    mean_map[c] = mean"
   ]
  },
  {
   "cell_type": "code",
   "execution_count": 62,
   "metadata": {},
   "outputs": [
    {
     "data": {
      "text/html": [
       "<div>\n",
       "<style scoped>\n",
       "    .dataframe tbody tr th:only-of-type {\n",
       "        vertical-align: middle;\n",
       "    }\n",
       "\n",
       "    .dataframe tbody tr th {\n",
       "        vertical-align: top;\n",
       "    }\n",
       "\n",
       "    .dataframe thead th {\n",
       "        text-align: right;\n",
       "    }\n",
       "</style>\n",
       "<table border=\"1\" class=\"dataframe\">\n",
       "  <thead>\n",
       "    <tr style=\"text-align: right;\">\n",
       "      <th></th>\n",
       "      <th>count</th>\n",
       "      <th>mean</th>\n",
       "      <th>std</th>\n",
       "      <th>min</th>\n",
       "      <th>25%</th>\n",
       "      <th>50%</th>\n",
       "      <th>75%</th>\n",
       "      <th>max</th>\n",
       "    </tr>\n",
       "  </thead>\n",
       "  <tbody>\n",
       "    <tr>\n",
       "      <td>Host Response Time</td>\n",
       "      <td>10541.0</td>\n",
       "      <td>66.221801</td>\n",
       "      <td>4.010512</td>\n",
       "      <td>59.054157</td>\n",
       "      <td>67.626960</td>\n",
       "      <td>67.626960</td>\n",
       "      <td>67.626960</td>\n",
       "      <td>73.117925</td>\n",
       "    </tr>\n",
       "    <tr>\n",
       "      <td>Host Response Rate</td>\n",
       "      <td>10541.0</td>\n",
       "      <td>94.833586</td>\n",
       "      <td>14.254026</td>\n",
       "      <td>0.000000</td>\n",
       "      <td>94.833586</td>\n",
       "      <td>100.000000</td>\n",
       "      <td>100.000000</td>\n",
       "      <td>100.000000</td>\n",
       "    </tr>\n",
       "    <tr>\n",
       "      <td>Host Verifications</td>\n",
       "      <td>10541.0</td>\n",
       "      <td>4.115644</td>\n",
       "      <td>1.290015</td>\n",
       "      <td>1.000000</td>\n",
       "      <td>3.000000</td>\n",
       "      <td>4.000000</td>\n",
       "      <td>5.000000</td>\n",
       "      <td>10.000000</td>\n",
       "    </tr>\n",
       "    <tr>\n",
       "      <td>Neighbourhood</td>\n",
       "      <td>10541.0</td>\n",
       "      <td>66.221801</td>\n",
       "      <td>19.855023</td>\n",
       "      <td>18.500000</td>\n",
       "      <td>54.953488</td>\n",
       "      <td>66.681818</td>\n",
       "      <td>79.171924</td>\n",
       "      <td>650.000000</td>\n",
       "    </tr>\n",
       "    <tr>\n",
       "      <td>Zipcode</td>\n",
       "      <td>10541.0</td>\n",
       "      <td>66.221801</td>\n",
       "      <td>16.405424</td>\n",
       "      <td>18.000000</td>\n",
       "      <td>60.449367</td>\n",
       "      <td>67.590717</td>\n",
       "      <td>74.283099</td>\n",
       "      <td>250.000000</td>\n",
       "    </tr>\n",
       "    <tr>\n",
       "      <td>Latitude</td>\n",
       "      <td>10541.0</td>\n",
       "      <td>40.420444</td>\n",
       "      <td>0.019814</td>\n",
       "      <td>40.332908</td>\n",
       "      <td>40.410095</td>\n",
       "      <td>40.418449</td>\n",
       "      <td>40.427684</td>\n",
       "      <td>40.514247</td>\n",
       "    </tr>\n",
       "    <tr>\n",
       "      <td>Longitude</td>\n",
       "      <td>10541.0</td>\n",
       "      <td>-3.697110</td>\n",
       "      <td>0.023268</td>\n",
       "      <td>-3.835498</td>\n",
       "      <td>-3.707759</td>\n",
       "      <td>-3.701573</td>\n",
       "      <td>-3.693876</td>\n",
       "      <td>-3.575142</td>\n",
       "    </tr>\n",
       "    <tr>\n",
       "      <td>Property Type</td>\n",
       "      <td>10541.0</td>\n",
       "      <td>66.221801</td>\n",
       "      <td>6.333992</td>\n",
       "      <td>17.000000</td>\n",
       "      <td>67.775218</td>\n",
       "      <td>67.775218</td>\n",
       "      <td>67.775218</td>\n",
       "      <td>203.750000</td>\n",
       "    </tr>\n",
       "    <tr>\n",
       "      <td>Room Type</td>\n",
       "      <td>10541.0</td>\n",
       "      <td>66.221801</td>\n",
       "      <td>26.250223</td>\n",
       "      <td>30.129252</td>\n",
       "      <td>34.258160</td>\n",
       "      <td>87.674157</td>\n",
       "      <td>87.674157</td>\n",
       "      <td>87.674157</td>\n",
       "    </tr>\n",
       "    <tr>\n",
       "      <td>Accommodates</td>\n",
       "      <td>10541.0</td>\n",
       "      <td>3.189071</td>\n",
       "      <td>1.989254</td>\n",
       "      <td>1.000000</td>\n",
       "      <td>2.000000</td>\n",
       "      <td>2.000000</td>\n",
       "      <td>4.000000</td>\n",
       "      <td>16.000000</td>\n",
       "    </tr>\n",
       "    <tr>\n",
       "      <td>Bathrooms</td>\n",
       "      <td>10541.0</td>\n",
       "      <td>1.255099</td>\n",
       "      <td>0.603990</td>\n",
       "      <td>0.000000</td>\n",
       "      <td>1.000000</td>\n",
       "      <td>1.000000</td>\n",
       "      <td>1.000000</td>\n",
       "      <td>8.000000</td>\n",
       "    </tr>\n",
       "    <tr>\n",
       "      <td>Bedrooms</td>\n",
       "      <td>10541.0</td>\n",
       "      <td>1.294469</td>\n",
       "      <td>0.832908</td>\n",
       "      <td>0.000000</td>\n",
       "      <td>1.000000</td>\n",
       "      <td>1.000000</td>\n",
       "      <td>2.000000</td>\n",
       "      <td>10.000000</td>\n",
       "    </tr>\n",
       "    <tr>\n",
       "      <td>Beds</td>\n",
       "      <td>10541.0</td>\n",
       "      <td>1.990988</td>\n",
       "      <td>1.528109</td>\n",
       "      <td>1.000000</td>\n",
       "      <td>1.000000</td>\n",
       "      <td>1.000000</td>\n",
       "      <td>2.000000</td>\n",
       "      <td>16.000000</td>\n",
       "    </tr>\n",
       "    <tr>\n",
       "      <td>Bed Type</td>\n",
       "      <td>10541.0</td>\n",
       "      <td>66.221801</td>\n",
       "      <td>1.941768</td>\n",
       "      <td>43.666667</td>\n",
       "      <td>66.495053</td>\n",
       "      <td>66.495053</td>\n",
       "      <td>66.495053</td>\n",
       "      <td>66.495053</td>\n",
       "    </tr>\n",
       "    <tr>\n",
       "      <td>Amenities</td>\n",
       "      <td>10541.0</td>\n",
       "      <td>14.319799</td>\n",
       "      <td>4.723964</td>\n",
       "      <td>1.000000</td>\n",
       "      <td>11.000000</td>\n",
       "      <td>14.000000</td>\n",
       "      <td>17.000000</td>\n",
       "      <td>34.000000</td>\n",
       "    </tr>\n",
       "    <tr>\n",
       "      <td>Price</td>\n",
       "      <td>10541.0</td>\n",
       "      <td>66.221801</td>\n",
       "      <td>56.192340</td>\n",
       "      <td>9.000000</td>\n",
       "      <td>31.000000</td>\n",
       "      <td>53.000000</td>\n",
       "      <td>80.000000</td>\n",
       "      <td>875.000000</td>\n",
       "    </tr>\n",
       "    <tr>\n",
       "      <td>Security Deposit</td>\n",
       "      <td>10541.0</td>\n",
       "      <td>79.202637</td>\n",
       "      <td>116.391012</td>\n",
       "      <td>0.000000</td>\n",
       "      <td>0.000000</td>\n",
       "      <td>0.000000</td>\n",
       "      <td>150.000000</td>\n",
       "      <td>990.000000</td>\n",
       "    </tr>\n",
       "    <tr>\n",
       "      <td>Cleaning Fee</td>\n",
       "      <td>10541.0</td>\n",
       "      <td>17.860355</td>\n",
       "      <td>25.577138</td>\n",
       "      <td>0.000000</td>\n",
       "      <td>0.000000</td>\n",
       "      <td>10.000000</td>\n",
       "      <td>30.000000</td>\n",
       "      <td>500.000000</td>\n",
       "    </tr>\n",
       "    <tr>\n",
       "      <td>Guests Included</td>\n",
       "      <td>10541.0</td>\n",
       "      <td>1.570250</td>\n",
       "      <td>1.073098</td>\n",
       "      <td>1.000000</td>\n",
       "      <td>1.000000</td>\n",
       "      <td>1.000000</td>\n",
       "      <td>2.000000</td>\n",
       "      <td>16.000000</td>\n",
       "    </tr>\n",
       "    <tr>\n",
       "      <td>Extra People</td>\n",
       "      <td>10541.0</td>\n",
       "      <td>7.408785</td>\n",
       "      <td>10.358716</td>\n",
       "      <td>0.000000</td>\n",
       "      <td>0.000000</td>\n",
       "      <td>0.000000</td>\n",
       "      <td>14.000000</td>\n",
       "      <td>276.000000</td>\n",
       "    </tr>\n",
       "    <tr>\n",
       "      <td>Minimum Nights</td>\n",
       "      <td>10541.0</td>\n",
       "      <td>3.095437</td>\n",
       "      <td>14.148789</td>\n",
       "      <td>1.000000</td>\n",
       "      <td>1.000000</td>\n",
       "      <td>2.000000</td>\n",
       "      <td>3.000000</td>\n",
       "      <td>1125.000000</td>\n",
       "    </tr>\n",
       "    <tr>\n",
       "      <td>Maximum Nights</td>\n",
       "      <td>10541.0</td>\n",
       "      <td>976.914145</td>\n",
       "      <td>9940.936608</td>\n",
       "      <td>1.000000</td>\n",
       "      <td>365.000000</td>\n",
       "      <td>1125.000000</td>\n",
       "      <td>1125.000000</td>\n",
       "      <td>1000000.000000</td>\n",
       "    </tr>\n",
       "    <tr>\n",
       "      <td>Availability 30</td>\n",
       "      <td>10541.0</td>\n",
       "      <td>8.697372</td>\n",
       "      <td>9.060133</td>\n",
       "      <td>0.000000</td>\n",
       "      <td>0.000000</td>\n",
       "      <td>6.000000</td>\n",
       "      <td>13.000000</td>\n",
       "      <td>30.000000</td>\n",
       "    </tr>\n",
       "    <tr>\n",
       "      <td>Availability 60</td>\n",
       "      <td>10541.0</td>\n",
       "      <td>22.815767</td>\n",
       "      <td>19.492553</td>\n",
       "      <td>0.000000</td>\n",
       "      <td>5.000000</td>\n",
       "      <td>20.000000</td>\n",
       "      <td>38.000000</td>\n",
       "      <td>60.000000</td>\n",
       "    </tr>\n",
       "    <tr>\n",
       "      <td>Availability 90</td>\n",
       "      <td>10541.0</td>\n",
       "      <td>39.944218</td>\n",
       "      <td>29.318410</td>\n",
       "      <td>0.000000</td>\n",
       "      <td>12.000000</td>\n",
       "      <td>38.000000</td>\n",
       "      <td>65.000000</td>\n",
       "      <td>90.000000</td>\n",
       "    </tr>\n",
       "    <tr>\n",
       "      <td>Availability 365</td>\n",
       "      <td>10541.0</td>\n",
       "      <td>205.684186</td>\n",
       "      <td>127.077043</td>\n",
       "      <td>0.000000</td>\n",
       "      <td>83.000000</td>\n",
       "      <td>248.000000</td>\n",
       "      <td>320.000000</td>\n",
       "      <td>365.000000</td>\n",
       "    </tr>\n",
       "    <tr>\n",
       "      <td>Number of Reviews</td>\n",
       "      <td>10541.0</td>\n",
       "      <td>23.123897</td>\n",
       "      <td>38.190929</td>\n",
       "      <td>0.000000</td>\n",
       "      <td>1.000000</td>\n",
       "      <td>7.000000</td>\n",
       "      <td>28.000000</td>\n",
       "      <td>356.000000</td>\n",
       "    </tr>\n",
       "    <tr>\n",
       "      <td>Review Scores Rating</td>\n",
       "      <td>10541.0</td>\n",
       "      <td>71.818234</td>\n",
       "      <td>38.533976</td>\n",
       "      <td>0.000000</td>\n",
       "      <td>75.000000</td>\n",
       "      <td>91.000000</td>\n",
       "      <td>97.000000</td>\n",
       "      <td>100.000000</td>\n",
       "    </tr>\n",
       "    <tr>\n",
       "      <td>Cancellation Policy</td>\n",
       "      <td>10541.0</td>\n",
       "      <td>66.221801</td>\n",
       "      <td>8.218346</td>\n",
       "      <td>57.398825</td>\n",
       "      <td>57.398825</td>\n",
       "      <td>63.005709</td>\n",
       "      <td>76.253018</td>\n",
       "      <td>117.800000</td>\n",
       "    </tr>\n",
       "    <tr>\n",
       "      <td>Calculated host listings count</td>\n",
       "      <td>10541.0</td>\n",
       "      <td>7.766341</td>\n",
       "      <td>19.883454</td>\n",
       "      <td>1.000000</td>\n",
       "      <td>1.000000</td>\n",
       "      <td>2.000000</td>\n",
       "      <td>4.000000</td>\n",
       "      <td>145.000000</td>\n",
       "    </tr>\n",
       "    <tr>\n",
       "      <td>Features</td>\n",
       "      <td>10541.0</td>\n",
       "      <td>3.767669</td>\n",
       "      <td>1.035335</td>\n",
       "      <td>1.000000</td>\n",
       "      <td>3.000000</td>\n",
       "      <td>4.000000</td>\n",
       "      <td>4.000000</td>\n",
       "      <td>8.000000</td>\n",
       "    </tr>\n",
       "  </tbody>\n",
       "</table>\n",
       "</div>"
      ],
      "text/plain": [
       "                                  count        mean          std        min  \\\n",
       "Host Response Time              10541.0   66.221801     4.010512  59.054157   \n",
       "Host Response Rate              10541.0   94.833586    14.254026   0.000000   \n",
       "Host Verifications              10541.0    4.115644     1.290015   1.000000   \n",
       "Neighbourhood                   10541.0   66.221801    19.855023  18.500000   \n",
       "Zipcode                         10541.0   66.221801    16.405424  18.000000   \n",
       "Latitude                        10541.0   40.420444     0.019814  40.332908   \n",
       "Longitude                       10541.0   -3.697110     0.023268  -3.835498   \n",
       "Property Type                   10541.0   66.221801     6.333992  17.000000   \n",
       "Room Type                       10541.0   66.221801    26.250223  30.129252   \n",
       "Accommodates                    10541.0    3.189071     1.989254   1.000000   \n",
       "Bathrooms                       10541.0    1.255099     0.603990   0.000000   \n",
       "Bedrooms                        10541.0    1.294469     0.832908   0.000000   \n",
       "Beds                            10541.0    1.990988     1.528109   1.000000   \n",
       "Bed Type                        10541.0   66.221801     1.941768  43.666667   \n",
       "Amenities                       10541.0   14.319799     4.723964   1.000000   \n",
       "Price                           10541.0   66.221801    56.192340   9.000000   \n",
       "Security Deposit                10541.0   79.202637   116.391012   0.000000   \n",
       "Cleaning Fee                    10541.0   17.860355    25.577138   0.000000   \n",
       "Guests Included                 10541.0    1.570250     1.073098   1.000000   \n",
       "Extra People                    10541.0    7.408785    10.358716   0.000000   \n",
       "Minimum Nights                  10541.0    3.095437    14.148789   1.000000   \n",
       "Maximum Nights                  10541.0  976.914145  9940.936608   1.000000   \n",
       "Availability 30                 10541.0    8.697372     9.060133   0.000000   \n",
       "Availability 60                 10541.0   22.815767    19.492553   0.000000   \n",
       "Availability 90                 10541.0   39.944218    29.318410   0.000000   \n",
       "Availability 365                10541.0  205.684186   127.077043   0.000000   \n",
       "Number of Reviews               10541.0   23.123897    38.190929   0.000000   \n",
       "Review Scores Rating            10541.0   71.818234    38.533976   0.000000   \n",
       "Cancellation Policy             10541.0   66.221801     8.218346  57.398825   \n",
       "Calculated host listings count  10541.0    7.766341    19.883454   1.000000   \n",
       "Features                        10541.0    3.767669     1.035335   1.000000   \n",
       "\n",
       "                                       25%          50%          75%  \\\n",
       "Host Response Time               67.626960    67.626960    67.626960   \n",
       "Host Response Rate               94.833586   100.000000   100.000000   \n",
       "Host Verifications                3.000000     4.000000     5.000000   \n",
       "Neighbourhood                    54.953488    66.681818    79.171924   \n",
       "Zipcode                          60.449367    67.590717    74.283099   \n",
       "Latitude                         40.410095    40.418449    40.427684   \n",
       "Longitude                        -3.707759    -3.701573    -3.693876   \n",
       "Property Type                    67.775218    67.775218    67.775218   \n",
       "Room Type                        34.258160    87.674157    87.674157   \n",
       "Accommodates                      2.000000     2.000000     4.000000   \n",
       "Bathrooms                         1.000000     1.000000     1.000000   \n",
       "Bedrooms                          1.000000     1.000000     2.000000   \n",
       "Beds                              1.000000     1.000000     2.000000   \n",
       "Bed Type                         66.495053    66.495053    66.495053   \n",
       "Amenities                        11.000000    14.000000    17.000000   \n",
       "Price                            31.000000    53.000000    80.000000   \n",
       "Security Deposit                  0.000000     0.000000   150.000000   \n",
       "Cleaning Fee                      0.000000    10.000000    30.000000   \n",
       "Guests Included                   1.000000     1.000000     2.000000   \n",
       "Extra People                      0.000000     0.000000    14.000000   \n",
       "Minimum Nights                    1.000000     2.000000     3.000000   \n",
       "Maximum Nights                  365.000000  1125.000000  1125.000000   \n",
       "Availability 30                   0.000000     6.000000    13.000000   \n",
       "Availability 60                   5.000000    20.000000    38.000000   \n",
       "Availability 90                  12.000000    38.000000    65.000000   \n",
       "Availability 365                 83.000000   248.000000   320.000000   \n",
       "Number of Reviews                 1.000000     7.000000    28.000000   \n",
       "Review Scores Rating             75.000000    91.000000    97.000000   \n",
       "Cancellation Policy              57.398825    63.005709    76.253018   \n",
       "Calculated host listings count    1.000000     2.000000     4.000000   \n",
       "Features                          3.000000     4.000000     4.000000   \n",
       "\n",
       "                                           max  \n",
       "Host Response Time                   73.117925  \n",
       "Host Response Rate                  100.000000  \n",
       "Host Verifications                   10.000000  \n",
       "Neighbourhood                       650.000000  \n",
       "Zipcode                             250.000000  \n",
       "Latitude                             40.514247  \n",
       "Longitude                            -3.575142  \n",
       "Property Type                       203.750000  \n",
       "Room Type                            87.674157  \n",
       "Accommodates                         16.000000  \n",
       "Bathrooms                             8.000000  \n",
       "Bedrooms                             10.000000  \n",
       "Beds                                 16.000000  \n",
       "Bed Type                             66.495053  \n",
       "Amenities                            34.000000  \n",
       "Price                               875.000000  \n",
       "Security Deposit                    990.000000  \n",
       "Cleaning Fee                        500.000000  \n",
       "Guests Included                      16.000000  \n",
       "Extra People                        276.000000  \n",
       "Minimum Nights                     1125.000000  \n",
       "Maximum Nights                  1000000.000000  \n",
       "Availability 30                      30.000000  \n",
       "Availability 60                      60.000000  \n",
       "Availability 90                      90.000000  \n",
       "Availability 365                    365.000000  \n",
       "Number of Reviews                   356.000000  \n",
       "Review Scores Rating                100.000000  \n",
       "Cancellation Policy                 117.800000  \n",
       "Calculated host listings count      145.000000  \n",
       "Features                              8.000000  "
      ]
     },
     "execution_count": 62,
     "metadata": {},
     "output_type": "execute_result"
    }
   ],
   "source": [
    "df.describe().T"
   ]
  },
  {
   "cell_type": "markdown",
   "metadata": {},
   "source": [
    "<p style=\"color:ROYALBLUE\">Vamos a crear una nueva característica, multiplicando el número de reviews por el rate, ya que no será igual tener 100 con una sola review que con 40.</p>"
   ]
  },
  {
   "cell_type": "code",
   "execution_count": 63,
   "metadata": {},
   "outputs": [
    {
     "data": {
      "text/plain": [
       "0        1140.0\n",
       "1        1820.0\n",
       "2           0.0\n",
       "3           0.0\n",
       "4        8924.0\n",
       "          ...  \n",
       "11819       0.0\n",
       "11820    6052.0\n",
       "11821    2256.0\n",
       "11822    1862.0\n",
       "11823     340.0\n",
       "Name: Number_Rate_Reviews, Length: 10541, dtype: float64"
      ]
     },
     "execution_count": 63,
     "metadata": {},
     "output_type": "execute_result"
    }
   ],
   "source": [
    "df['Number_Rate_Reviews'] = df['Number of Reviews'] * df['Review Scores Rating']\n",
    "df['Number_Rate_Reviews']"
   ]
  },
  {
   "cell_type": "markdown",
   "metadata": {},
   "source": [
    "<p style=\"color:ROYALBLUE\">Vamos a crear una nueva característica, multiplicando el número de dormitorios y el número de baños ya que puede ser un ratio que influya en el precio.</p>"
   ]
  },
  {
   "cell_type": "code",
   "execution_count": 64,
   "metadata": {},
   "outputs": [
    {
     "data": {
      "text/plain": [
       "0        1.0\n",
       "1        1.0\n",
       "2        1.5\n",
       "3        3.0\n",
       "4        1.0\n",
       "        ... \n",
       "11819    2.0\n",
       "11820    3.0\n",
       "11821    1.0\n",
       "11822    1.0\n",
       "11823    1.0\n",
       "Name: Bath_for_Beedrooms, Length: 10541, dtype: float64"
      ]
     },
     "execution_count": 64,
     "metadata": {},
     "output_type": "execute_result"
    }
   ],
   "source": [
    "df['Bath_for_Beedrooms'] = df['Bedrooms'] * df['Bathrooms']\n",
    "df['Bath_for_Beedrooms']"
   ]
  },
  {
   "cell_type": "markdown",
   "metadata": {},
   "source": [
    "<p style=\"color:ROYALBLUE\">Mostramos la matriz de correlación.</p>\n",
    "<p style=\"color:ROYALBLUE\">La disponibilidades a diferentes rangos están muy correladas, por tanto nos vamos a quedar unicamente con la disponibilidad a 30 días.</p>\n",
    "<p style=\"color:ROYALBLUE\">El número de camas y de personas también tienen bastante correlación, pero de momento nos quedaremos con las dos. Lo mismo ocurre con barrio y código postal.</p>"
   ]
  },
  {
   "cell_type": "code",
   "execution_count": 65,
   "metadata": {},
   "outputs": [
    {
     "data": {
      "image/png": "[encoded data removed]",
      "text/plain": [
       "<Figure size 864x720 with 2 Axes>"
      ]
     },
     "metadata": {
      "needs_background": "light"
     },
     "output_type": "display_data"
    }
   ],
   "source": [
    "# Compute the correlation matrix\n",
    "corr = np.abs(df.drop(['Price'], axis=1).corr())\n",
    "\n",
    "# Generate a mask for the upper triangle\n",
    "mask = np.zeros_like(corr, dtype=np.bool)\n",
    "mask[np.triu_indices_from(mask)] = True\n",
    "\n",
    "# Set up the matplotlib figure\n",
    "f, ax = plt.subplots(figsize=(12, 10))\n",
    "\n",
    "# Draw the heatmap with the mask and correct aspect ratio\n",
    "sns.heatmap(corr, mask=mask,vmin = 0.0, vmax=1.0, center=0.5,\n",
    "            linewidths=.1, cmap=\"YlGnBu\", cbar_kws={\"shrink\": .8})\n",
    "\n",
    "plt.show()"
   ]
  },
  {
   "cell_type": "code",
   "execution_count": 66,
   "metadata": {},
   "outputs": [],
   "source": [
    "df.drop(['Availability 60', 'Availability 90', 'Availability 365'], axis=1, inplace=True)"
   ]
  },
  {
   "cell_type": "markdown",
   "metadata": {},
   "source": [
    "<p style=\"color:ROYALBLUE\">Vamos a buscar los outliers en Price.</p>"
   ]
  },
  {
   "cell_type": "code",
   "execution_count": 67,
   "metadata": {},
   "outputs": [
    {
     "data": {
      "image/png": "[encoded data removed]",
      "text/plain": [
       "<Figure size 432x288 with 1 Axes>"
      ]
     },
     "metadata": {
      "needs_background": "light"
     },
     "output_type": "display_data"
    }
   ],
   "source": [
    "df[\"Price\"].plot.hist(alpha = 0.8, color = \"blue\", bins = 40, grid = True)\n",
    "plt.show()"
   ]
  },
  {
   "cell_type": "code",
   "execution_count": 68,
   "metadata": {},
   "outputs": [
    {
     "data": {
      "text/plain": [
       "62"
      ]
     },
     "execution_count": 68,
     "metadata": {},
     "output_type": "execute_result"
    }
   ],
   "source": [
    "len(df[df[\"Price\"] > 350])"
   ]
  },
  {
   "cell_type": "markdown",
   "metadata": {},
   "source": [
    "<p style=\"color:ROYALBLUE\">Vemos que tan sólo hay 62 filas con precios mayores de 350 € que es aproximadamente un 0,5 % del dataset, por tanto vamos a considerarlos outliers y vamos a eliminarlos.</p>"
   ]
  },
  {
   "cell_type": "code",
   "execution_count": 69,
   "metadata": {},
   "outputs": [
    {
     "data": {
      "text/plain": [
       "(10479, 30)"
      ]
     },
     "execution_count": 69,
     "metadata": {},
     "output_type": "execute_result"
    }
   ],
   "source": [
    "df.drop(df[df['Price']>350].index, inplace = True)\n",
    "df.shape"
   ]
  },
  {
   "cell_type": "markdown",
   "metadata": {},
   "source": [
    "<p style=\"color:ROYALBLUE\">Vamos a poner los precios en escala logarítmica para obtener una distribución mas gausiana.</p>"
   ]
  },
  {
   "cell_type": "code",
   "execution_count": 70,
   "metadata": {},
   "outputs": [],
   "source": [
    "df['Price'] = np.log10(df['Price'])"
   ]
  },
  {
   "cell_type": "markdown",
   "metadata": {},
   "source": [
    "<p style=\"color:ROYALBLUE\">Vamos mostrar un histograma de todas las variables para ver su distribución.</p>"
   ]
  },
  {
   "cell_type": "code",
   "execution_count": 71,
   "metadata": {},
   "outputs": [
    {
     "data": {
      "image/png": "[encoded data removed]",
      "text/plain": [
       "<Figure size 1440x1800 with 30 Axes>"
      ]
     },
     "metadata": {
      "needs_background": "light"
     },
     "output_type": "display_data"
    }
   ],
   "source": [
    "plt.figure(figsize=(20, 25))\n",
    "\n",
    "for i, c in enumerate(df.columns):\n",
    "    plt.subplot(8, 4, i + 1)\n",
    "    df[c].plot.hist(alpha = 0.8, color = \"blue\", bins = 40, grid = True)\n",
    "    plt.axis([0, np.max(df[c]), 0, 10000])\n",
    "    plt.xlabel(c)\n",
    "\n",
    "plt.show()"
   ]
  },
  {
   "cell_type": "markdown",
   "metadata": {},
   "source": [
    "<p style=\"color:ROYALBLUE\">Podemos ver como las columnas Minimum Nights, Maximum Nights y Bed Type no aportan información al estar todas prácticamente en un mismo valor.</p>"
   ]
  },
  {
   "cell_type": "code",
   "execution_count": 72,
   "metadata": {},
   "outputs": [],
   "source": [
    "df.drop(['Bed Type', 'Minimum Nights', 'Maximum Nights'], axis=1, inplace=True)"
   ]
  },
  {
   "cell_type": "code",
   "execution_count": 73,
   "metadata": {},
   "outputs": [
    {
     "data": {
      "text/plain": [
       "27"
      ]
     },
     "execution_count": 73,
     "metadata": {},
     "output_type": "execute_result"
    }
   ],
   "source": [
    "len(df.columns)"
   ]
  },
  {
   "cell_type": "markdown",
   "metadata": {},
   "source": [
    "<p style=\"color:ROYALBLUE\">Aún nos quedan 27 columnas.</p>\n",
    "<p style=\"color:ROYALBLUE\">Tendremos que seguir analizando para reducir la dimensionalidad.</p>\n",
    "<p style=\"color:ROYALBLUE\">Organizamos las columnas de train para poder dividir entre características y variable objetivo.</p>"
   ]
  },
  {
   "cell_type": "code",
   "execution_count": 74,
   "metadata": {},
   "outputs": [
    {
     "data": {
      "text/plain": [
       "Index(['Host Response Time', 'Host Response Rate', 'Host Verifications',\n",
       "       'Neighbourhood', 'Zipcode', 'Latitude', 'Longitude', 'Property Type',\n",
       "       'Room Type', 'Accommodates', 'Bathrooms', 'Bedrooms', 'Beds',\n",
       "       'Amenities', 'Price', 'Security Deposit', 'Cleaning Fee',\n",
       "       'Guests Included', 'Extra People', 'Availability 30',\n",
       "       'Number of Reviews', 'Review Scores Rating', 'Cancellation Policy',\n",
       "       'Calculated host listings count', 'Features', 'Number_Rate_Reviews',\n",
       "       'Bath_for_Beedrooms'],\n",
       "      dtype='object')"
      ]
     },
     "execution_count": 74,
     "metadata": {},
     "output_type": "execute_result"
    }
   ],
   "source": [
    "df.columns"
   ]
  },
  {
   "cell_type": "code",
   "execution_count": 75,
   "metadata": {},
   "outputs": [
    {
     "data": {
      "text/html": [
       "<div>\n",
       "<style scoped>\n",
       "    .dataframe tbody tr th:only-of-type {\n",
       "        vertical-align: middle;\n",
       "    }\n",
       "\n",
       "    .dataframe tbody tr th {\n",
       "        vertical-align: top;\n",
       "    }\n",
       "\n",
       "    .dataframe thead th {\n",
       "        text-align: right;\n",
       "    }\n",
       "</style>\n",
       "<table border=\"1\" class=\"dataframe\">\n",
       "  <thead>\n",
       "    <tr style=\"text-align: right;\">\n",
       "      <th></th>\n",
       "      <th>Price</th>\n",
       "      <th>Host Response Time</th>\n",
       "      <th>Host Response Rate</th>\n",
       "      <th>Host Verifications</th>\n",
       "      <th>Neighbourhood</th>\n",
       "      <th>Zipcode</th>\n",
       "      <th>Latitude</th>\n",
       "      <th>Longitude</th>\n",
       "      <th>Property Type</th>\n",
       "      <th>Room Type</th>\n",
       "      <th>...</th>\n",
       "      <th>Guests Included</th>\n",
       "      <th>Extra People</th>\n",
       "      <th>Availability 30</th>\n",
       "      <th>Number of Reviews</th>\n",
       "      <th>Review Scores Rating</th>\n",
       "      <th>Cancellation Policy</th>\n",
       "      <th>Calculated host listings count</th>\n",
       "      <th>Features</th>\n",
       "      <th>Number_Rate_Reviews</th>\n",
       "      <th>Bath_for_Beedrooms</th>\n",
       "    </tr>\n",
       "  </thead>\n",
       "  <tbody>\n",
       "    <tr>\n",
       "      <td>0</td>\n",
       "      <td>1.778151</td>\n",
       "      <td>69.950897</td>\n",
       "      <td>100.0</td>\n",
       "      <td>4</td>\n",
       "      <td>104.492308</td>\n",
       "      <td>83.553785</td>\n",
       "      <td>40.407732</td>\n",
       "      <td>-3.684819</td>\n",
       "      <td>67.775218</td>\n",
       "      <td>87.674157</td>\n",
       "      <td>...</td>\n",
       "      <td>1</td>\n",
       "      <td>0</td>\n",
       "      <td>9</td>\n",
       "      <td>12</td>\n",
       "      <td>95.0</td>\n",
       "      <td>63.005709</td>\n",
       "      <td>2.0</td>\n",
       "      <td>3</td>\n",
       "      <td>1140.0</td>\n",
       "      <td>1.0</td>\n",
       "    </tr>\n",
       "    <tr>\n",
       "      <td>1</td>\n",
       "      <td>1.698970</td>\n",
       "      <td>67.626960</td>\n",
       "      <td>100.0</td>\n",
       "      <td>6</td>\n",
       "      <td>84.342342</td>\n",
       "      <td>67.590717</td>\n",
       "      <td>40.415802</td>\n",
       "      <td>-3.705340</td>\n",
       "      <td>67.775218</td>\n",
       "      <td>87.674157</td>\n",
       "      <td>...</td>\n",
       "      <td>1</td>\n",
       "      <td>0</td>\n",
       "      <td>15</td>\n",
       "      <td>20</td>\n",
       "      <td>91.0</td>\n",
       "      <td>57.398825</td>\n",
       "      <td>1.0</td>\n",
       "      <td>4</td>\n",
       "      <td>1820.0</td>\n",
       "      <td>1.0</td>\n",
       "    </tr>\n",
       "    <tr>\n",
       "      <td>2</td>\n",
       "      <td>1.000000</td>\n",
       "      <td>67.626960</td>\n",
       "      <td>100.0</td>\n",
       "      <td>7</td>\n",
       "      <td>39.898089</td>\n",
       "      <td>38.408602</td>\n",
       "      <td>40.389048</td>\n",
       "      <td>-3.740374</td>\n",
       "      <td>67.775218</td>\n",
       "      <td>30.129252</td>\n",
       "      <td>...</td>\n",
       "      <td>1</td>\n",
       "      <td>0</td>\n",
       "      <td>14</td>\n",
       "      <td>0</td>\n",
       "      <td>0.0</td>\n",
       "      <td>63.005709</td>\n",
       "      <td>16.0</td>\n",
       "      <td>5</td>\n",
       "      <td>0.0</td>\n",
       "      <td>1.5</td>\n",
       "    </tr>\n",
       "    <tr>\n",
       "      <td>3</td>\n",
       "      <td>1.477121</td>\n",
       "      <td>69.950897</td>\n",
       "      <td>100.0</td>\n",
       "      <td>4</td>\n",
       "      <td>59.132313</td>\n",
       "      <td>67.590717</td>\n",
       "      <td>40.412814</td>\n",
       "      <td>-3.703052</td>\n",
       "      <td>67.775218</td>\n",
       "      <td>34.258160</td>\n",
       "      <td>...</td>\n",
       "      <td>1</td>\n",
       "      <td>0</td>\n",
       "      <td>0</td>\n",
       "      <td>0</td>\n",
       "      <td>0.0</td>\n",
       "      <td>76.253018</td>\n",
       "      <td>97.0</td>\n",
       "      <td>2</td>\n",
       "      <td>0.0</td>\n",
       "      <td>3.0</td>\n",
       "    </tr>\n",
       "    <tr>\n",
       "      <td>4</td>\n",
       "      <td>1.505150</td>\n",
       "      <td>67.626960</td>\n",
       "      <td>100.0</td>\n",
       "      <td>4</td>\n",
       "      <td>53.504587</td>\n",
       "      <td>61.769392</td>\n",
       "      <td>40.438631</td>\n",
       "      <td>-3.713716</td>\n",
       "      <td>67.775218</td>\n",
       "      <td>34.258160</td>\n",
       "      <td>...</td>\n",
       "      <td>1</td>\n",
       "      <td>10</td>\n",
       "      <td>7</td>\n",
       "      <td>97</td>\n",
       "      <td>92.0</td>\n",
       "      <td>76.253018</td>\n",
       "      <td>2.0</td>\n",
       "      <td>4</td>\n",
       "      <td>8924.0</td>\n",
       "      <td>1.0</td>\n",
       "    </tr>\n",
       "  </tbody>\n",
       "</table>\n",
       "<p>5 rows × 27 columns</p>\n",
       "</div>"
      ],
      "text/plain": [
       "      Price  Host Response Time  Host Response Rate  Host Verifications  \\\n",
       "0  1.778151           69.950897               100.0                   4   \n",
       "1  1.698970           67.626960               100.0                   6   \n",
       "2  1.000000           67.626960               100.0                   7   \n",
       "3  1.477121           69.950897               100.0                   4   \n",
       "4  1.505150           67.626960               100.0                   4   \n",
       "\n",
       "   Neighbourhood    Zipcode   Latitude  Longitude  Property Type  Room Type  \\\n",
       "0     104.492308  83.553785  40.407732  -3.684819      67.775218  87.674157   \n",
       "1      84.342342  67.590717  40.415802  -3.705340      67.775218  87.674157   \n",
       "2      39.898089  38.408602  40.389048  -3.740374      67.775218  30.129252   \n",
       "3      59.132313  67.590717  40.412814  -3.703052      67.775218  34.258160   \n",
       "4      53.504587  61.769392  40.438631  -3.713716      67.775218  34.258160   \n",
       "\n",
       "   ...  Guests Included  Extra People  Availability 30  Number of Reviews  \\\n",
       "0  ...                1             0                9                 12   \n",
       "1  ...                1             0               15                 20   \n",
       "2  ...                1             0               14                  0   \n",
       "3  ...                1             0                0                  0   \n",
       "4  ...                1            10                7                 97   \n",
       "\n",
       "   Review Scores Rating  Cancellation Policy  Calculated host listings count  \\\n",
       "0                  95.0            63.005709                             2.0   \n",
       "1                  91.0            57.398825                             1.0   \n",
       "2                   0.0            63.005709                            16.0   \n",
       "3                   0.0            76.253018                            97.0   \n",
       "4                  92.0            76.253018                             2.0   \n",
       "\n",
       "   Features  Number_Rate_Reviews  Bath_for_Beedrooms  \n",
       "0         3               1140.0                 1.0  \n",
       "1         4               1820.0                 1.0  \n",
       "2         5                  0.0                 1.5  \n",
       "3         2                  0.0                 3.0  \n",
       "4         4               8924.0                 1.0  \n",
       "\n",
       "[5 rows x 27 columns]"
      ]
     },
     "execution_count": 75,
     "metadata": {},
     "output_type": "execute_result"
    }
   ],
   "source": [
    "# Movemos la columna Price a la primera posición\n",
    "columns = ['Price','Host Response Time', 'Host Response Rate', 'Host Verifications',\n",
    "       'Neighbourhood', 'Zipcode', 'Latitude', 'Longitude', 'Property Type',\n",
    "       'Room Type', 'Accommodates', 'Bathrooms', 'Bedrooms', 'Beds',\n",
    "       'Amenities', 'Security Deposit', 'Cleaning Fee',\n",
    "       'Guests Included', 'Extra People', 'Availability 30',\n",
    "       'Number of Reviews', 'Review Scores Rating', 'Cancellation Policy',\n",
    "       'Calculated host listings count', 'Features', 'Number_Rate_Reviews',\n",
    "       'Bath_for_Beedrooms']\n",
    "df = df[columns]\n",
    "df.head()"
   ]
  },
  {
   "cell_type": "code",
   "execution_count": 76,
   "metadata": {},
   "outputs": [],
   "source": [
    "data = df.values\n",
    "y_train = data[:,0:1]     # nos quedamos con la 1ª columna, price\n",
    "X_train = data[:,1:]      # nos quedamos con el resto\n",
    "feature_names = df.columns[1:]\n",
    "# Escalamos (con los datos de train)\n",
    "scaler = preprocessing.StandardScaler().fit(X_train)\n",
    "XtrainScaled = scaler.transform(X_train)"
   ]
  },
  {
   "cell_type": "markdown",
   "metadata": {},
   "source": [
    "<p style=\"color:ROYALBLUE\">Vamos a usar Lasso para intentar ver que variables son menos significativas.</p>\n",
    "\n",
    "<p style=\"color:ROYALBLUE\">¡¡¡No he conseguido que me funcione esta celda!!! Queria comprobar que variables eliminaba Lasso.</p>"
   ]
  },
  {
   "cell_type": "code",
   "execution_count": 77,
   "metadata": {},
   "outputs": [
    {
     "name": "stderr",
     "output_type": "stream",
     "text": [
      "/Users/alejandrolopezsanchez/opt/anaconda3/lib/python3.7/site-packages/sklearn/linear_model/coordinate_descent.py:475: ConvergenceWarning: Objective did not converge. You might want to increase the number of iterations. Duality gap: 94.58849052767717, tolerance: 0.06579003180987882\n",
      "  positive)\n",
      "/Users/alejandrolopezsanchez/opt/anaconda3/lib/python3.7/site-packages/sklearn/linear_model/coordinate_descent.py:475: ConvergenceWarning: Objective did not converge. You might want to increase the number of iterations. Duality gap: 94.7245540755552, tolerance: 0.06689752820526473\n",
      "  positive)\n",
      "/Users/alejandrolopezsanchez/opt/anaconda3/lib/python3.7/site-packages/sklearn/linear_model/coordinate_descent.py:475: ConvergenceWarning: Objective did not converge. You might want to increase the number of iterations. Duality gap: 94.66353851487762, tolerance: 0.0663279750081066\n",
      "  positive)\n",
      "/Users/alejandrolopezsanchez/opt/anaconda3/lib/python3.7/site-packages/sklearn/linear_model/coordinate_descent.py:475: ConvergenceWarning: Objective did not converge. You might want to increase the number of iterations. Duality gap: 94.30091949359401, tolerance: 0.06605855328283908\n",
      "  positive)\n",
      "/Users/alejandrolopezsanchez/opt/anaconda3/lib/python3.7/site-packages/sklearn/linear_model/coordinate_descent.py:475: ConvergenceWarning: Objective did not converge. You might want to increase the number of iterations. Duality gap: 94.9866600989891, tolerance: 0.06645870033258132\n",
      "  positive)\n",
      "/Users/alejandrolopezsanchez/opt/anaconda3/lib/python3.7/site-packages/sklearn/linear_model/coordinate_descent.py:475: ConvergenceWarning: Objective did not converge. You might want to increase the number of iterations. Duality gap: 94.58623352455955, tolerance: 0.06579003180987882\n",
      "  positive)\n",
      "/Users/alejandrolopezsanchez/opt/anaconda3/lib/python3.7/site-packages/sklearn/linear_model/coordinate_descent.py:475: ConvergenceWarning: Objective did not converge. You might want to increase the number of iterations. Duality gap: 94.7224259132799, tolerance: 0.06689752820526473\n",
      "  positive)\n",
      "/Users/alejandrolopezsanchez/opt/anaconda3/lib/python3.7/site-packages/sklearn/linear_model/coordinate_descent.py:475: ConvergenceWarning: Objective did not converge. You might want to increase the number of iterations. Duality gap: 94.66141226748009, tolerance: 0.0663279750081066\n",
      "  positive)\n",
      "/Users/alejandrolopezsanchez/opt/anaconda3/lib/python3.7/site-packages/sklearn/linear_model/coordinate_descent.py:475: ConvergenceWarning: Objective did not converge. You might want to increase the number of iterations. Duality gap: 94.29846396749578, tolerance: 0.06605855328283908\n",
      "  positive)\n",
      "/Users/alejandrolopezsanchez/opt/anaconda3/lib/python3.7/site-packages/sklearn/linear_model/coordinate_descent.py:475: ConvergenceWarning: Objective did not converge. You might want to increase the number of iterations. Duality gap: 94.98425247558869, tolerance: 0.06645870033258132\n",
      "  positive)\n",
      "/Users/alejandrolopezsanchez/opt/anaconda3/lib/python3.7/site-packages/sklearn/linear_model/coordinate_descent.py:475: ConvergenceWarning: Objective did not converge. You might want to increase the number of iterations. Duality gap: 94.57085879311043, tolerance: 0.06579003180987882\n",
      "  positive)\n",
      "/Users/alejandrolopezsanchez/opt/anaconda3/lib/python3.7/site-packages/sklearn/linear_model/coordinate_descent.py:475: ConvergenceWarning: Objective did not converge. You might want to increase the number of iterations. Duality gap: 94.70792872991147, tolerance: 0.06689752820526473\n",
      "  positive)\n",
      "/Users/alejandrolopezsanchez/opt/anaconda3/lib/python3.7/site-packages/sklearn/linear_model/coordinate_descent.py:475: ConvergenceWarning: Objective did not converge. You might want to increase the number of iterations. Duality gap: 94.64692812710749, tolerance: 0.0663279750081066\n",
      "  positive)\n",
      "/Users/alejandrolopezsanchez/opt/anaconda3/lib/python3.7/site-packages/sklearn/linear_model/coordinate_descent.py:475: ConvergenceWarning: Objective did not converge. You might want to increase the number of iterations. Duality gap: 94.28173711132438, tolerance: 0.06605855328283908\n",
      "  positive)\n",
      "/Users/alejandrolopezsanchez/opt/anaconda3/lib/python3.7/site-packages/sklearn/linear_model/coordinate_descent.py:475: ConvergenceWarning: Objective did not converge. You might want to increase the number of iterations. Duality gap: 94.96785186461302, tolerance: 0.06645870033258132\n",
      "  positive)\n",
      "/Users/alejandrolopezsanchez/opt/anaconda3/lib/python3.7/site-packages/sklearn/linear_model/coordinate_descent.py:475: ConvergenceWarning: Objective did not converge. You might want to increase the number of iterations. Duality gap: 94.4662071253922, tolerance: 0.06579003180987882\n",
      "  positive)\n",
      "/Users/alejandrolopezsanchez/opt/anaconda3/lib/python3.7/site-packages/sklearn/linear_model/coordinate_descent.py:475: ConvergenceWarning: Objective did not converge. You might want to increase the number of iterations. Duality gap: 94.60924486274419, tolerance: 0.06689752820526473\n",
      "  positive)\n",
      "/Users/alejandrolopezsanchez/opt/anaconda3/lib/python3.7/site-packages/sklearn/linear_model/coordinate_descent.py:475: ConvergenceWarning: Objective did not converge. You might want to increase the number of iterations. Duality gap: 94.54833298569949, tolerance: 0.0663279750081066\n",
      "  positive)\n"
     ]
    },
    {
     "ename": "KeyboardInterrupt",
     "evalue": "",
     "output_type": "error",
     "traceback": [
      "\u001b[0;31m---------------------------------------------------------------------------\u001b[0m",
      "\u001b[0;31mKeyboardInterrupt\u001b[0m                         Traceback (most recent call last)",
      "\u001b[0;32m<ipython-input-77-073e5106af10>\u001b[0m in \u001b[0;36m<module>\u001b[0;34m\u001b[0m\n\u001b[1;32m      6\u001b[0m \u001b[0mparam_grid\u001b[0m \u001b[0;34m=\u001b[0m \u001b[0;34m{\u001b[0m\u001b[0;34m'alpha'\u001b[0m\u001b[0;34m:\u001b[0m \u001b[0malpha_vector\u001b[0m \u001b[0;34m}\u001b[0m\u001b[0;34m\u001b[0m\u001b[0;34m\u001b[0m\u001b[0m\n\u001b[1;32m      7\u001b[0m \u001b[0mgrid\u001b[0m \u001b[0;34m=\u001b[0m \u001b[0mGridSearchCV\u001b[0m\u001b[0;34m(\u001b[0m\u001b[0mLasso\u001b[0m\u001b[0;34m(\u001b[0m\u001b[0;34m)\u001b[0m\u001b[0;34m,\u001b[0m \u001b[0mscoring\u001b[0m\u001b[0;34m=\u001b[0m\u001b[0;34m'neg_mean_squared_error'\u001b[0m\u001b[0;34m,\u001b[0m \u001b[0mparam_grid\u001b[0m\u001b[0;34m=\u001b[0m\u001b[0mparam_grid\u001b[0m\u001b[0;34m,\u001b[0m \u001b[0mcv\u001b[0m\u001b[0;34m=\u001b[0m\u001b[0;36m5\u001b[0m\u001b[0;34m)\u001b[0m\u001b[0;34m\u001b[0m\u001b[0;34m\u001b[0m\u001b[0m\n\u001b[0;32m----> 8\u001b[0;31m \u001b[0mgrid\u001b[0m\u001b[0;34m.\u001b[0m\u001b[0mfit\u001b[0m\u001b[0;34m(\u001b[0m\u001b[0mXtrainScaled\u001b[0m\u001b[0;34m,\u001b[0m \u001b[0my_train\u001b[0m\u001b[0;34m)\u001b[0m\u001b[0;34m\u001b[0m\u001b[0;34m\u001b[0m\u001b[0m\n\u001b[0m\u001b[1;32m      9\u001b[0m \u001b[0mprint\u001b[0m\u001b[0;34m(\u001b[0m\u001b[0;34m\"best mean cross-validation score: {:.3f}\"\u001b[0m\u001b[0;34m.\u001b[0m\u001b[0mformat\u001b[0m\u001b[0;34m(\u001b[0m\u001b[0mgrid\u001b[0m\u001b[0;34m.\u001b[0m\u001b[0mbest_score_\u001b[0m\u001b[0;34m)\u001b[0m\u001b[0;34m)\u001b[0m\u001b[0;34m\u001b[0m\u001b[0;34m\u001b[0m\u001b[0m\n\u001b[1;32m     10\u001b[0m \u001b[0mprint\u001b[0m\u001b[0;34m(\u001b[0m\u001b[0;34m\"best parameters: {}\"\u001b[0m\u001b[0;34m.\u001b[0m\u001b[0mformat\u001b[0m\u001b[0;34m(\u001b[0m\u001b[0mgrid\u001b[0m\u001b[0;34m.\u001b[0m\u001b[0mbest_params_\u001b[0m\u001b[0;34m)\u001b[0m\u001b[0;34m)\u001b[0m\u001b[0;34m\u001b[0m\u001b[0;34m\u001b[0m\u001b[0m\n",
      "\u001b[0;32m~/opt/anaconda3/lib/python3.7/site-packages/sklearn/model_selection/_search.py\u001b[0m in \u001b[0;36mfit\u001b[0;34m(self, X, y, groups, **fit_params)\u001b[0m\n\u001b[1;32m    686\u001b[0m                 \u001b[0;32mreturn\u001b[0m \u001b[0mresults\u001b[0m\u001b[0;34m\u001b[0m\u001b[0;34m\u001b[0m\u001b[0m\n\u001b[1;32m    687\u001b[0m \u001b[0;34m\u001b[0m\u001b[0m\n\u001b[0;32m--> 688\u001b[0;31m             \u001b[0mself\u001b[0m\u001b[0;34m.\u001b[0m\u001b[0m_run_search\u001b[0m\u001b[0;34m(\u001b[0m\u001b[0mevaluate_candidates\u001b[0m\u001b[0;34m)\u001b[0m\u001b[0;34m\u001b[0m\u001b[0;34m\u001b[0m\u001b[0m\n\u001b[0m\u001b[1;32m    689\u001b[0m \u001b[0;34m\u001b[0m\u001b[0m\n\u001b[1;32m    690\u001b[0m         \u001b[0;31m# For multi-metric evaluation, store the best_index_, best_params_ and\u001b[0m\u001b[0;34m\u001b[0m\u001b[0;34m\u001b[0m\u001b[0;34m\u001b[0m\u001b[0m\n",
      "\u001b[0;32m~/opt/anaconda3/lib/python3.7/site-packages/sklearn/model_selection/_search.py\u001b[0m in \u001b[0;36m_run_search\u001b[0;34m(self, evaluate_candidates)\u001b[0m\n\u001b[1;32m   1147\u001b[0m     \u001b[0;32mdef\u001b[0m \u001b[0m_run_search\u001b[0m\u001b[0;34m(\u001b[0m\u001b[0mself\u001b[0m\u001b[0;34m,\u001b[0m \u001b[0mevaluate_candidates\u001b[0m\u001b[0;34m)\u001b[0m\u001b[0;34m:\u001b[0m\u001b[0;34m\u001b[0m\u001b[0;34m\u001b[0m\u001b[0m\n\u001b[1;32m   1148\u001b[0m         \u001b[0;34m\"\"\"Search all candidates in param_grid\"\"\"\u001b[0m\u001b[0;34m\u001b[0m\u001b[0;34m\u001b[0m\u001b[0m\n\u001b[0;32m-> 1149\u001b[0;31m         \u001b[0mevaluate_candidates\u001b[0m\u001b[0;34m(\u001b[0m\u001b[0mParameterGrid\u001b[0m\u001b[0;34m(\u001b[0m\u001b[0mself\u001b[0m\u001b[0;34m.\u001b[0m\u001b[0mparam_grid\u001b[0m\u001b[0;34m)\u001b[0m\u001b[0;34m)\u001b[0m\u001b[0;34m\u001b[0m\u001b[0;34m\u001b[0m\u001b[0m\n\u001b[0m\u001b[1;32m   1150\u001b[0m \u001b[0;34m\u001b[0m\u001b[0m\n\u001b[1;32m   1151\u001b[0m \u001b[0;34m\u001b[0m\u001b[0m\n",
      "\u001b[0;32m~/opt/anaconda3/lib/python3.7/site-packages/sklearn/model_selection/_search.py\u001b[0m in \u001b[0;36mevaluate_candidates\u001b[0;34m(candidate_params)\u001b[0m\n\u001b[1;32m    665\u001b[0m                                \u001b[0;32mfor\u001b[0m \u001b[0mparameters\u001b[0m\u001b[0;34m,\u001b[0m \u001b[0;34m(\u001b[0m\u001b[0mtrain\u001b[0m\u001b[0;34m,\u001b[0m \u001b[0mtest\u001b[0m\u001b[0;34m)\u001b[0m\u001b[0;34m\u001b[0m\u001b[0;34m\u001b[0m\u001b[0m\n\u001b[1;32m    666\u001b[0m                                in product(candidate_params,\n\u001b[0;32m--> 667\u001b[0;31m                                           cv.split(X, y, groups)))\n\u001b[0m\u001b[1;32m    668\u001b[0m \u001b[0;34m\u001b[0m\u001b[0m\n\u001b[1;32m    669\u001b[0m                 \u001b[0;32mif\u001b[0m \u001b[0mlen\u001b[0m\u001b[0;34m(\u001b[0m\u001b[0mout\u001b[0m\u001b[0;34m)\u001b[0m \u001b[0;34m<\u001b[0m \u001b[0;36m1\u001b[0m\u001b[0;34m:\u001b[0m\u001b[0;34m\u001b[0m\u001b[0;34m\u001b[0m\u001b[0m\n",
      "\u001b[0;32m~/opt/anaconda3/lib/python3.7/site-packages/joblib/parallel.py\u001b[0m in \u001b[0;36m__call__\u001b[0;34m(self, iterable)\u001b[0m\n\u001b[1;32m   1005\u001b[0m                 \u001b[0mself\u001b[0m\u001b[0;34m.\u001b[0m\u001b[0m_iterating\u001b[0m \u001b[0;34m=\u001b[0m \u001b[0mself\u001b[0m\u001b[0;34m.\u001b[0m\u001b[0m_original_iterator\u001b[0m \u001b[0;32mis\u001b[0m \u001b[0;32mnot\u001b[0m \u001b[0;32mNone\u001b[0m\u001b[0;34m\u001b[0m\u001b[0;34m\u001b[0m\u001b[0m\n\u001b[1;32m   1006\u001b[0m \u001b[0;34m\u001b[0m\u001b[0m\n\u001b[0;32m-> 1007\u001b[0;31m             \u001b[0;32mwhile\u001b[0m \u001b[0mself\u001b[0m\u001b[0;34m.\u001b[0m\u001b[0mdispatch_one_batch\u001b[0m\u001b[0;34m(\u001b[0m\u001b[0miterator\u001b[0m\u001b[0;34m)\u001b[0m\u001b[0;34m:\u001b[0m\u001b[0;34m\u001b[0m\u001b[0;34m\u001b[0m\u001b[0m\n\u001b[0m\u001b[1;32m   1008\u001b[0m                 \u001b[0;32mpass\u001b[0m\u001b[0;34m\u001b[0m\u001b[0;34m\u001b[0m\u001b[0m\n\u001b[1;32m   1009\u001b[0m \u001b[0;34m\u001b[0m\u001b[0m\n",
      "\u001b[0;32m~/opt/anaconda3/lib/python3.7/site-packages/joblib/parallel.py\u001b[0m in \u001b[0;36mdispatch_one_batch\u001b[0;34m(self, iterator)\u001b[0m\n\u001b[1;32m    833\u001b[0m                 \u001b[0;32mreturn\u001b[0m \u001b[0;32mFalse\u001b[0m\u001b[0;34m\u001b[0m\u001b[0;34m\u001b[0m\u001b[0m\n\u001b[1;32m    834\u001b[0m             \u001b[0;32melse\u001b[0m\u001b[0;34m:\u001b[0m\u001b[0;34m\u001b[0m\u001b[0;34m\u001b[0m\u001b[0m\n\u001b[0;32m--> 835\u001b[0;31m                 \u001b[0mself\u001b[0m\u001b[0;34m.\u001b[0m\u001b[0m_dispatch\u001b[0m\u001b[0;34m(\u001b[0m\u001b[0mtasks\u001b[0m\u001b[0;34m)\u001b[0m\u001b[0;34m\u001b[0m\u001b[0;34m\u001b[0m\u001b[0m\n\u001b[0m\u001b[1;32m    836\u001b[0m                 \u001b[0;32mreturn\u001b[0m \u001b[0;32mTrue\u001b[0m\u001b[0;34m\u001b[0m\u001b[0;34m\u001b[0m\u001b[0m\n\u001b[1;32m    837\u001b[0m \u001b[0;34m\u001b[0m\u001b[0m\n",
      "\u001b[0;32m~/opt/anaconda3/lib/python3.7/site-packages/joblib/parallel.py\u001b[0m in \u001b[0;36m_dispatch\u001b[0;34m(self, batch)\u001b[0m\n\u001b[1;32m    752\u001b[0m         \u001b[0;32mwith\u001b[0m \u001b[0mself\u001b[0m\u001b[0;34m.\u001b[0m\u001b[0m_lock\u001b[0m\u001b[0;34m:\u001b[0m\u001b[0;34m\u001b[0m\u001b[0;34m\u001b[0m\u001b[0m\n\u001b[1;32m    753\u001b[0m             \u001b[0mjob_idx\u001b[0m \u001b[0;34m=\u001b[0m \u001b[0mlen\u001b[0m\u001b[0;34m(\u001b[0m\u001b[0mself\u001b[0m\u001b[0;34m.\u001b[0m\u001b[0m_jobs\u001b[0m\u001b[0;34m)\u001b[0m\u001b[0;34m\u001b[0m\u001b[0;34m\u001b[0m\u001b[0m\n\u001b[0;32m--> 754\u001b[0;31m             \u001b[0mjob\u001b[0m \u001b[0;34m=\u001b[0m \u001b[0mself\u001b[0m\u001b[0;34m.\u001b[0m\u001b[0m_backend\u001b[0m\u001b[0;34m.\u001b[0m\u001b[0mapply_async\u001b[0m\u001b[0;34m(\u001b[0m\u001b[0mbatch\u001b[0m\u001b[0;34m,\u001b[0m \u001b[0mcallback\u001b[0m\u001b[0;34m=\u001b[0m\u001b[0mcb\u001b[0m\u001b[0;34m)\u001b[0m\u001b[0;34m\u001b[0m\u001b[0;34m\u001b[0m\u001b[0m\n\u001b[0m\u001b[1;32m    755\u001b[0m             \u001b[0;31m# A job can complete so quickly than its callback is\u001b[0m\u001b[0;34m\u001b[0m\u001b[0;34m\u001b[0m\u001b[0;34m\u001b[0m\u001b[0m\n\u001b[1;32m    756\u001b[0m             \u001b[0;31m# called before we get here, causing self._jobs to\u001b[0m\u001b[0;34m\u001b[0m\u001b[0;34m\u001b[0m\u001b[0;34m\u001b[0m\u001b[0m\n",
      "\u001b[0;32m~/opt/anaconda3/lib/python3.7/site-packages/joblib/_parallel_backends.py\u001b[0m in \u001b[0;36mapply_async\u001b[0;34m(self, func, callback)\u001b[0m\n\u001b[1;32m    207\u001b[0m     \u001b[0;32mdef\u001b[0m \u001b[0mapply_async\u001b[0m\u001b[0;34m(\u001b[0m\u001b[0mself\u001b[0m\u001b[0;34m,\u001b[0m \u001b[0mfunc\u001b[0m\u001b[0;34m,\u001b[0m \u001b[0mcallback\u001b[0m\u001b[0;34m=\u001b[0m\u001b[0;32mNone\u001b[0m\u001b[0;34m)\u001b[0m\u001b[0;34m:\u001b[0m\u001b[0;34m\u001b[0m\u001b[0;34m\u001b[0m\u001b[0m\n\u001b[1;32m    208\u001b[0m         \u001b[0;34m\"\"\"Schedule a func to be run\"\"\"\u001b[0m\u001b[0;34m\u001b[0m\u001b[0;34m\u001b[0m\u001b[0m\n\u001b[0;32m--> 209\u001b[0;31m         \u001b[0mresult\u001b[0m \u001b[0;34m=\u001b[0m \u001b[0mImmediateResult\u001b[0m\u001b[0;34m(\u001b[0m\u001b[0mfunc\u001b[0m\u001b[0;34m)\u001b[0m\u001b[0;34m\u001b[0m\u001b[0;34m\u001b[0m\u001b[0m\n\u001b[0m\u001b[1;32m    210\u001b[0m         \u001b[0;32mif\u001b[0m \u001b[0mcallback\u001b[0m\u001b[0;34m:\u001b[0m\u001b[0;34m\u001b[0m\u001b[0;34m\u001b[0m\u001b[0m\n\u001b[1;32m    211\u001b[0m             \u001b[0mcallback\u001b[0m\u001b[0;34m(\u001b[0m\u001b[0mresult\u001b[0m\u001b[0;34m)\u001b[0m\u001b[0;34m\u001b[0m\u001b[0;34m\u001b[0m\u001b[0m\n",
      "\u001b[0;32m~/opt/anaconda3/lib/python3.7/site-packages/joblib/_parallel_backends.py\u001b[0m in \u001b[0;36m__init__\u001b[0;34m(self, batch)\u001b[0m\n\u001b[1;32m    588\u001b[0m         \u001b[0;31m# Don't delay the application, to avoid keeping the input\u001b[0m\u001b[0;34m\u001b[0m\u001b[0;34m\u001b[0m\u001b[0;34m\u001b[0m\u001b[0m\n\u001b[1;32m    589\u001b[0m         \u001b[0;31m# arguments in memory\u001b[0m\u001b[0;34m\u001b[0m\u001b[0;34m\u001b[0m\u001b[0;34m\u001b[0m\u001b[0m\n\u001b[0;32m--> 590\u001b[0;31m         \u001b[0mself\u001b[0m\u001b[0;34m.\u001b[0m\u001b[0mresults\u001b[0m \u001b[0;34m=\u001b[0m \u001b[0mbatch\u001b[0m\u001b[0;34m(\u001b[0m\u001b[0;34m)\u001b[0m\u001b[0;34m\u001b[0m\u001b[0;34m\u001b[0m\u001b[0m\n\u001b[0m\u001b[1;32m    591\u001b[0m \u001b[0;34m\u001b[0m\u001b[0m\n\u001b[1;32m    592\u001b[0m     \u001b[0;32mdef\u001b[0m \u001b[0mget\u001b[0m\u001b[0;34m(\u001b[0m\u001b[0mself\u001b[0m\u001b[0;34m)\u001b[0m\u001b[0;34m:\u001b[0m\u001b[0;34m\u001b[0m\u001b[0;34m\u001b[0m\u001b[0m\n",
      "\u001b[0;32m~/opt/anaconda3/lib/python3.7/site-packages/joblib/parallel.py\u001b[0m in \u001b[0;36m__call__\u001b[0;34m(self)\u001b[0m\n\u001b[1;32m    254\u001b[0m         \u001b[0;32mwith\u001b[0m \u001b[0mparallel_backend\u001b[0m\u001b[0;34m(\u001b[0m\u001b[0mself\u001b[0m\u001b[0;34m.\u001b[0m\u001b[0m_backend\u001b[0m\u001b[0;34m,\u001b[0m \u001b[0mn_jobs\u001b[0m\u001b[0;34m=\u001b[0m\u001b[0mself\u001b[0m\u001b[0;34m.\u001b[0m\u001b[0m_n_jobs\u001b[0m\u001b[0;34m)\u001b[0m\u001b[0;34m:\u001b[0m\u001b[0;34m\u001b[0m\u001b[0;34m\u001b[0m\u001b[0m\n\u001b[1;32m    255\u001b[0m             return [func(*args, **kwargs)\n\u001b[0;32m--> 256\u001b[0;31m                     for func, args, kwargs in self.items]\n\u001b[0m\u001b[1;32m    257\u001b[0m \u001b[0;34m\u001b[0m\u001b[0m\n\u001b[1;32m    258\u001b[0m     \u001b[0;32mdef\u001b[0m \u001b[0m__len__\u001b[0m\u001b[0;34m(\u001b[0m\u001b[0mself\u001b[0m\u001b[0;34m)\u001b[0m\u001b[0;34m:\u001b[0m\u001b[0;34m\u001b[0m\u001b[0;34m\u001b[0m\u001b[0m\n",
      "\u001b[0;32m~/opt/anaconda3/lib/python3.7/site-packages/joblib/parallel.py\u001b[0m in \u001b[0;36m<listcomp>\u001b[0;34m(.0)\u001b[0m\n\u001b[1;32m    254\u001b[0m         \u001b[0;32mwith\u001b[0m \u001b[0mparallel_backend\u001b[0m\u001b[0;34m(\u001b[0m\u001b[0mself\u001b[0m\u001b[0;34m.\u001b[0m\u001b[0m_backend\u001b[0m\u001b[0;34m,\u001b[0m \u001b[0mn_jobs\u001b[0m\u001b[0;34m=\u001b[0m\u001b[0mself\u001b[0m\u001b[0;34m.\u001b[0m\u001b[0m_n_jobs\u001b[0m\u001b[0;34m)\u001b[0m\u001b[0;34m:\u001b[0m\u001b[0;34m\u001b[0m\u001b[0;34m\u001b[0m\u001b[0m\n\u001b[1;32m    255\u001b[0m             return [func(*args, **kwargs)\n\u001b[0;32m--> 256\u001b[0;31m                     for func, args, kwargs in self.items]\n\u001b[0m\u001b[1;32m    257\u001b[0m \u001b[0;34m\u001b[0m\u001b[0m\n\u001b[1;32m    258\u001b[0m     \u001b[0;32mdef\u001b[0m \u001b[0m__len__\u001b[0m\u001b[0;34m(\u001b[0m\u001b[0mself\u001b[0m\u001b[0;34m)\u001b[0m\u001b[0;34m:\u001b[0m\u001b[0;34m\u001b[0m\u001b[0;34m\u001b[0m\u001b[0m\n",
      "\u001b[0;32m~/opt/anaconda3/lib/python3.7/site-packages/sklearn/model_selection/_validation.py\u001b[0m in \u001b[0;36m_fit_and_score\u001b[0;34m(estimator, X, y, scorer, train, test, verbose, parameters, fit_params, return_train_score, return_parameters, return_n_test_samples, return_times, return_estimator, error_score)\u001b[0m\n\u001b[1;32m    514\u001b[0m             \u001b[0mestimator\u001b[0m\u001b[0;34m.\u001b[0m\u001b[0mfit\u001b[0m\u001b[0;34m(\u001b[0m\u001b[0mX_train\u001b[0m\u001b[0;34m,\u001b[0m \u001b[0;34m**\u001b[0m\u001b[0mfit_params\u001b[0m\u001b[0;34m)\u001b[0m\u001b[0;34m\u001b[0m\u001b[0;34m\u001b[0m\u001b[0m\n\u001b[1;32m    515\u001b[0m         \u001b[0;32melse\u001b[0m\u001b[0;34m:\u001b[0m\u001b[0;34m\u001b[0m\u001b[0;34m\u001b[0m\u001b[0m\n\u001b[0;32m--> 516\u001b[0;31m             \u001b[0mestimator\u001b[0m\u001b[0;34m.\u001b[0m\u001b[0mfit\u001b[0m\u001b[0;34m(\u001b[0m\u001b[0mX_train\u001b[0m\u001b[0;34m,\u001b[0m \u001b[0my_train\u001b[0m\u001b[0;34m,\u001b[0m \u001b[0;34m**\u001b[0m\u001b[0mfit_params\u001b[0m\u001b[0;34m)\u001b[0m\u001b[0;34m\u001b[0m\u001b[0;34m\u001b[0m\u001b[0m\n\u001b[0m\u001b[1;32m    517\u001b[0m \u001b[0;34m\u001b[0m\u001b[0m\n\u001b[1;32m    518\u001b[0m     \u001b[0;32mexcept\u001b[0m \u001b[0mException\u001b[0m \u001b[0;32mas\u001b[0m \u001b[0me\u001b[0m\u001b[0;34m:\u001b[0m\u001b[0;34m\u001b[0m\u001b[0;34m\u001b[0m\u001b[0m\n",
      "\u001b[0;32m~/opt/anaconda3/lib/python3.7/site-packages/sklearn/linear_model/coordinate_descent.py\u001b[0m in \u001b[0;36mfit\u001b[0;34m(self, X, y, check_input)\u001b[0m\n\u001b[1;32m    750\u001b[0m                           \u001b[0mrandom_state\u001b[0m\u001b[0;34m=\u001b[0m\u001b[0mself\u001b[0m\u001b[0;34m.\u001b[0m\u001b[0mrandom_state\u001b[0m\u001b[0;34m,\u001b[0m\u001b[0;34m\u001b[0m\u001b[0;34m\u001b[0m\u001b[0m\n\u001b[1;32m    751\u001b[0m                           \u001b[0mselection\u001b[0m\u001b[0;34m=\u001b[0m\u001b[0mself\u001b[0m\u001b[0;34m.\u001b[0m\u001b[0mselection\u001b[0m\u001b[0;34m,\u001b[0m\u001b[0;34m\u001b[0m\u001b[0;34m\u001b[0m\u001b[0m\n\u001b[0;32m--> 752\u001b[0;31m                           check_input=False)\n\u001b[0m\u001b[1;32m    753\u001b[0m             \u001b[0mcoef_\u001b[0m\u001b[0;34m[\u001b[0m\u001b[0mk\u001b[0m\u001b[0;34m]\u001b[0m \u001b[0;34m=\u001b[0m \u001b[0mthis_coef\u001b[0m\u001b[0;34m[\u001b[0m\u001b[0;34m:\u001b[0m\u001b[0;34m,\u001b[0m \u001b[0;36m0\u001b[0m\u001b[0;34m]\u001b[0m\u001b[0;34m\u001b[0m\u001b[0;34m\u001b[0m\u001b[0m\n\u001b[1;32m    754\u001b[0m             \u001b[0mdual_gaps_\u001b[0m\u001b[0;34m[\u001b[0m\u001b[0mk\u001b[0m\u001b[0;34m]\u001b[0m \u001b[0;34m=\u001b[0m \u001b[0mthis_dual_gap\u001b[0m\u001b[0;34m[\u001b[0m\u001b[0;36m0\u001b[0m\u001b[0;34m]\u001b[0m\u001b[0;34m\u001b[0m\u001b[0;34m\u001b[0m\u001b[0m\n",
      "\u001b[0;32m~/opt/anaconda3/lib/python3.7/site-packages/sklearn/linear_model/coordinate_descent.py\u001b[0m in \u001b[0;36menet_path\u001b[0;34m(X, y, l1_ratio, eps, n_alphas, alphas, precompute, Xy, copy_X, coef_init, verbose, return_n_iter, positive, check_input, **params)\u001b[0m\n\u001b[1;32m    473\u001b[0m             model = cd_fast.enet_coordinate_descent(\n\u001b[1;32m    474\u001b[0m                 \u001b[0mcoef_\u001b[0m\u001b[0;34m,\u001b[0m \u001b[0ml1_reg\u001b[0m\u001b[0;34m,\u001b[0m \u001b[0ml2_reg\u001b[0m\u001b[0;34m,\u001b[0m \u001b[0mX\u001b[0m\u001b[0;34m,\u001b[0m \u001b[0my\u001b[0m\u001b[0;34m,\u001b[0m \u001b[0mmax_iter\u001b[0m\u001b[0;34m,\u001b[0m \u001b[0mtol\u001b[0m\u001b[0;34m,\u001b[0m \u001b[0mrng\u001b[0m\u001b[0;34m,\u001b[0m \u001b[0mrandom\u001b[0m\u001b[0;34m,\u001b[0m\u001b[0;34m\u001b[0m\u001b[0;34m\u001b[0m\u001b[0m\n\u001b[0;32m--> 475\u001b[0;31m                 positive)\n\u001b[0m\u001b[1;32m    476\u001b[0m         \u001b[0;32melse\u001b[0m\u001b[0;34m:\u001b[0m\u001b[0;34m\u001b[0m\u001b[0;34m\u001b[0m\u001b[0m\n\u001b[1;32m    477\u001b[0m             raise ValueError(\"Precompute should be one of True, False, \"\n",
      "\u001b[0;32msklearn/linear_model/cd_fast.pyx\u001b[0m in \u001b[0;36msklearn.linear_model.cd_fast.enet_coordinate_descent\u001b[0;34m()\u001b[0m\n",
      "\u001b[0;31mKeyboardInterrupt\u001b[0m: "
     ]
    }
   ],
   "source": [
    "# Por convención, GridSearchCV siempre intenta MAXIMIZAR los resultados, por lo que\n",
    "# funciones de coste, como MSE, tienen que ir negadas: https://github.com/scikit-learn/scikit-learn/issues/2439\n",
    "# Por eso aparece neg_mean_squared_error y por eso hay luego un -1 multiplicando\n",
    "\n",
    "alpha_vector = np.logspace(-10,10,25)\n",
    "param_grid = {'alpha': alpha_vector }\n",
    "grid = GridSearchCV(Lasso(), scoring='neg_mean_squared_error', param_grid=param_grid, cv=5)\n",
    "grid.fit(XtrainScaled, y_train)\n",
    "print(\"best mean cross-validation score: {:.3f}\".format(grid.best_score_))\n",
    "print(\"best parameters: {}\".format(grid.best_params_))\n",
    "\n",
    "scores = -1*np.array(grid.cv_results_['mean_test_score'])\n",
    "plt.semilogx(alpha_vector,scores,'-o')\n",
    "plt.xlabel('alpha',fontsize=16)\n",
    "plt.ylabel('5-Fold MSE')\n",
    "plt.ylim((0, 1))\n",
    "plt.show()"
   ]
  },
  {
   "cell_type": "markdown",
   "metadata": {},
   "source": [
    "<p style=\"color:ROYALBLUE\">Vamos a probar con F-Regression y Mutual Info</p>"
   ]
  },
  {
   "cell_type": "code",
   "execution_count": 78,
   "metadata": {},
   "outputs": [
    {
     "data": {
      "image/png": "[encoded data removed]",
      "text/plain": [
       "<Figure size 1440x360 with 2 Axes>"
      ]
     },
     "metadata": {
      "needs_background": "light"
     },
     "output_type": "display_data"
    }
   ],
   "source": [
    "# do calculations\n",
    "f_test, _ = f_regression(XtrainScaled, y_train.ravel())\n",
    "f_test /= np.max(f_test)\n",
    "\n",
    "mi = mutual_info_regression(XtrainScaled, y_train.ravel())\n",
    "mi /= np.max(mi)\n",
    "\n",
    "# do some plotting\n",
    "plt.figure(figsize=(20, 5))\n",
    "\n",
    "plt.subplot(1,2,1)\n",
    "plt.bar(range(XtrainScaled.shape[1]),f_test,  align=\"center\")\n",
    "plt.xticks(range(XtrainScaled.shape[1]),feature_names, rotation = 90)\n",
    "plt.xlabel('features')\n",
    "plt.ylabel('Ranking')\n",
    "plt.title('$F-Test$ score')\n",
    "\n",
    "plt.subplot(1,2,2)\n",
    "plt.bar(range(XtrainScaled.shape[1]),mi, align=\"center\")\n",
    "plt.xticks(range(XtrainScaled.shape[1]),feature_names, rotation = 90)\n",
    "plt.xlabel('features')\n",
    "plt.ylabel('Ranking')\n",
    "plt.title('Mutual information score')\n",
    "\n",
    "plt.show()"
   ]
  },
  {
   "cell_type": "markdown",
   "metadata": {},
   "source": [
    "<p style=\"color:ROYALBLUE\">Vamos a probar DecisionTree.</p>"
   ]
  },
  {
   "cell_type": "code",
   "execution_count": 79,
   "metadata": {},
   "outputs": [
    {
     "name": "stdout",
     "output_type": "stream",
     "text": [
      "best parameters: {'max_depth': 8}\n"
     ]
    },
    {
     "data": {
      "image/png": "[encoded data removed]",
      "text/plain": [
       "<Figure size 432x288 with 1 Axes>"
      ]
     },
     "metadata": {
      "needs_background": "light"
     },
     "output_type": "display_data"
    }
   ],
   "source": [
    "max_depth = range(1,15)\n",
    "parameters = {'max_depth': max_depth}\n",
    "\n",
    "grid = GridSearchCV(DecisionTreeRegressor(), param_grid=parameters, cv=5)\n",
    "grid.fit(XtrainScaled, y_train)\n",
    "\n",
    "print(\"best parameters: {}\".format(grid.best_params_))\n",
    "\n",
    "scores = np.array(grid.cv_results_['mean_test_score'])\n",
    "plt.plot(max_depth, scores, '-o')\n",
    "plt.xlabel('max_depth', fontsize=14)\n",
    "plt.show()"
   ]
  },
  {
   "cell_type": "code",
   "execution_count": 80,
   "metadata": {},
   "outputs": [],
   "source": [
    "max_depth_opt = grid.best_params_['max_depth']\n",
    "\n",
    "reg_tree = DecisionTreeRegressor(max_depth=max_depth_opt).fit(XtrainScaled, y_train)"
   ]
  },
  {
   "cell_type": "code",
   "execution_count": 81,
   "metadata": {},
   "outputs": [
    {
     "data": {
      "image/png": "[encoded data removed]",
      "text/plain": [
       "<Figure size 720x720 with 1 Axes>"
      ]
     },
     "metadata": {
      "needs_background": "light"
     },
     "output_type": "display_data"
    }
   ],
   "source": [
    "importances = reg_tree.feature_importances_\n",
    "importances = importances / np.max(importances)\n",
    "\n",
    "indices = np.argsort(importances)[::-1]\n",
    "\n",
    "plt.figure(figsize=(10,10))\n",
    "plt.barh(range(X_train.shape[1]),importances[indices])\n",
    "plt.yticks(range(X_train.shape[1]),feature_names[indices])\n",
    "plt.show()"
   ]
  },
  {
   "cell_type": "markdown",
   "metadata": {},
   "source": [
    "<p style=\"color:ROYALBLUE\">Vamos a probar Random Forest.</p>\n",
    "\n",
    "<p style=\"color:ROYALBLUE\">¡¡OJO!! Esta celda tarda mucho en ejecutarse, por si quieres evitarlo</p>"
   ]
  },
  {
   "cell_type": "code",
   "execution_count": 82,
   "metadata": {},
   "outputs": [
    {
     "name": "stdout",
     "output_type": "stream",
     "text": [
      "best mean cross-validation score: 0.799\n",
      "best parameters: {'max_depth': 23}\n"
     ]
    },
    {
     "data": {
      "image/png": "[encoded data removed]",
      "text/plain": [
       "<Figure size 432x288 with 1 Axes>"
      ]
     },
     "metadata": {
      "needs_background": "light"
     },
     "output_type": "display_data"
    }
   ],
   "source": [
    "maxDepth = range(1,25)\n",
    "parameters = {'max_depth': maxDepth}\n",
    "grid = GridSearchCV(RandomForestRegressor(random_state=0, n_estimators=200, max_features='sqrt'), param_grid=parameters, cv=5) \n",
    "grid.fit(XtrainScaled, y_train.ravel())\n",
    "\n",
    "\n",
    "print(\"best mean cross-validation score: {:.3f}\".format(grid.best_score_))\n",
    "print(\"best parameters: {}\".format(grid.best_params_))\n",
    "\n",
    "scores = np.array(grid.cv_results_['mean_test_score'])\n",
    "plt.plot(maxDepth,scores,'-o')\n",
    "plt.xlabel('max_depth')\n",
    "plt.ylabel('10-fold ACC')\n",
    "\n",
    "plt.show()"
   ]
  },
  {
   "cell_type": "code",
   "execution_count": 83,
   "metadata": {},
   "outputs": [],
   "source": [
    "# La mejor profundidad que nos da es 23, pero creo que desde 12 la mejora es mínima y así hacemos el modelo mas sencillo\n",
    "bagModel = RandomForestRegressor(max_depth=12,n_estimators=200,max_features='sqrt').fit(X_train,y_train.ravel())"
   ]
  },
  {
   "cell_type": "code",
   "execution_count": 84,
   "metadata": {},
   "outputs": [
    {
     "data": {
      "image/png": "[encoded data removed]",
      "text/plain": [
       "<Figure size 720x720 with 1 Axes>"
      ]
     },
     "metadata": {
      "needs_background": "light"
     },
     "output_type": "display_data"
    }
   ],
   "source": [
    "importances = bagModel.feature_importances_\n",
    "importances = importances / np.max(importances)\n",
    "\n",
    "indices = np.argsort(importances)[::-1]\n",
    "\n",
    "plt.figure(figsize=(10,10))\n",
    "plt.barh(range(X_train.shape[1]),importances[indices])\n",
    "plt.yticks(range(X_train.shape[1]),feature_names[indices])\n",
    "plt.show()"
   ]
  },
  {
   "cell_type": "markdown",
   "metadata": {},
   "source": [
    "<p style=\"color:ROYALBLUE\">Según los análisis realizados anteriormente podemos ver como hay variables que no tienen apenas peso para el modelo, por tanto vamos a prescindir de las siguientes variables:</p>"
   ]
  },
  {
   "cell_type": "code",
   "execution_count": 85,
   "metadata": {},
   "outputs": [],
   "source": [
    "df.drop([\n",
    "    'Cancellation Policy','Number_Rate_Reviews','Host Verifications', 'Review Scores Rating',\n",
    "    'Property Type', 'Beds', 'Features', 'Bedrooms', 'Bathrooms', 'Host Response Rate', 'Security Deposit',\n",
    "    'Host Response Time', 'Latitude', 'Longitude', 'Number of Reviews'\n",
    "    ], \n",
    "    axis=1, inplace=True)"
   ]
  },
  {
   "cell_type": "code",
   "execution_count": 86,
   "metadata": {},
   "outputs": [],
   "source": [
    "data = df.values\n",
    "y_train = data[:,0:1]     # nos quedamos con la 1ª columna, price\n",
    "X_train = data[:,1:]      # nos quedamos con el resto\n",
    "feature_names = df.columns[1:]\n",
    "# Escalamos (con los datos de train)\n",
    "scaler = preprocessing.StandardScaler().fit(X_train)\n",
    "XtrainScaled = scaler.transform(X_train)"
   ]
  },
  {
   "cell_type": "markdown",
   "metadata": {},
   "source": [
    "<p style=\"color:ROYALBLUE\">Ya estamos listos para empezar con nuestros modelos de predicción.</p>\n",
    "<p style=\"color:ROYALBLUE\">Cargaremos el dataset de test y realizaremos las mismas transformaciones que en train.</p>"
   ]
  },
  {
   "cell_type": "code",
   "execution_count": 87,
   "metadata": {},
   "outputs": [],
   "source": [
    "df_test = pd.read_csv('./test.csv', sep=';', decimal='.')"
   ]
  },
  {
   "cell_type": "markdown",
   "metadata": {},
   "source": [
    "## Transformaciones para test"
   ]
  },
  {
   "cell_type": "code",
   "execution_count": 88,
   "metadata": {},
   "outputs": [],
   "source": [
    "# Modificaciones a realizar al dataset de test\n",
    "\n",
    "# Borramos las columnas que hemos razonado anteriormente.\n",
    "df_test.drop([\n",
    "    'ID', 'Listing Url', 'Scrape ID', 'Last Scraped', 'Name', 'Summary', 'Space', 'Description', \n",
    "    'Experiences Offered', 'Neighborhood Overview', 'Notes', 'Transit', 'Access', 'Interaction', \n",
    "    'House Rules', 'Thumbnail Url', 'Medium Url', 'Picture Url', 'XL Picture Url',\n",
    "    'Host ID', 'Host URL', 'Host Name', 'Host Since', 'Host Location', 'Host About', 'Host Acceptance Rate', \n",
    "    'Host Thumbnail Url', 'Host Picture Url', 'Host Neighbourhood', 'Host Listings Count', \n",
    "    'Host Total Listings Count', 'Street', 'Neighbourhood Group Cleansed', 'State', 'Market',\n",
    "    'Smart Location', 'Country Code', 'Country', 'Calendar Updated', 'Has Availability', \n",
    "    'Calendar last Scraped','First Review', 'Last Review', 'Review Scores Accuracy',\n",
    "    'Review Scores Cleanliness', 'Review Scores Checkin','Review Scores Communication', \n",
    "    'Review Scores Location', 'Review Scores Value', 'License', 'Jurisdiction Names',\n",
    "    'Reviews per Month', 'Geolocation', \n",
    "    ], \n",
    "    axis=1, inplace=True)\n",
    "\n",
    "# Escala logaritmica de price\n",
    "df_test['Price'] = np.log10(df_test['Price'])\n",
    "\n",
    "# En la columna host verification nos quedamos con el número de verificaciones del anfitrión\n",
    "df_test['Host Verifications'] = df_test['Host Verifications'].apply(lambda x: len(str(x).split(\",\")))\n",
    "\n",
    "# Rellenamos los datos faltantes de la columna Neighbourhood con los de Neighbourhood Cleansed\n",
    "df_test['Neighbourhood'] = df_test['Neighbourhood'].fillna(df_test['Neighbourhood Cleansed'])\n",
    "\n",
    "# Eliminamos la columna Neighbourhood Cleansed que ya no nos hace falta\n",
    "df_test.drop(['Neighbourhood Cleansed'], axis=1, inplace=True)\n",
    "\n",
    "# En la columna Amenities nos quedamos con el número de comodidades del inmueble\n",
    "df_test['Amenities'] = df_test['Amenities'].apply(lambda x: len(str(x).split(\",\")))\n",
    "\n",
    "# En la columna Features nos quedamos con el número de caractarísticas del inmueble\n",
    "df_test['Features'] = df_test['Features'].apply(lambda x: len(str(x).split(\",\")))\n",
    "\n",
    "# Nos quedamos con los inmuebles de Madrid\n",
    "df_test = df_test[df_test['City'] == \"Madrid\"]\n",
    "\n",
    "# Eliminamos la columna City que ya no nos hace falta\n",
    "df_test.drop(['City'], axis=1, inplace=True)\n",
    "\n",
    "# Borramos las columnas de pies cuadrados, precio semanal y mensual\n",
    "df_test.drop(['Square Feet', 'Weekly Price', 'Monthly Price'], axis=1, inplace=True)\n",
    "\n",
    "# Rellenamos tasa de limpieza y fianza\n",
    "df_test['Security Deposit'] = df_test['Security Deposit'].fillna(value=0)\n",
    "df_test['Cleaning Fee'] = df_test['Cleaning Fee'].fillna(value=0)\n",
    "\n",
    "# Rellenamos el número de baños\n",
    "df_test['Bathrooms'] = df_test['Bathrooms'].fillna(value=1)\n",
    "\n",
    "# Borramos los dormitorios nulos\n",
    "df_test.drop(df_test[df_test['Bedrooms'].isnull()].index, inplace = True)\n",
    "\n",
    "# Rellenamos las camas nulas\n",
    "df_test['Beds'] = df_test['Beds'].fillna(df_test['Bedrooms'])\n",
    "\n",
    "# Borramos los precios nulos\n",
    "df_test.drop(df_test[df_test['Price'].isnull()].index, inplace = True)\n",
    "\n",
    "# Rellenamos la tasa de respuesta con la media obtenida en train\n",
    "df_test[\"Host Response Rate\"].fillna(mean_host_resp, inplace=True)\n",
    "\n",
    "# Rellenamos las revisiones nulas\n",
    "df_test['Review Scores Rating'] = df_test['Review Scores Rating'].fillna(value=0)\n",
    "\n",
    "# Los datos faltantes en ZipCode los rellenamos con unknown\n",
    "df_test['Zipcode'] = df_test['Zipcode'].fillna('unknown')\n",
    "\n",
    "# Los datos faltantes en Host Response Time los rellenamos con unknown\n",
    "df_test['Host Response Time'] = df_test['Host Response Time'].fillna('unknown')\n",
    "\n",
    "# Borramos las columnas de disponibilidad\n",
    "df_test.drop(['Availability 60', 'Availability 90', 'Availability 365'], axis=1, inplace=True)\n",
    "\n",
    "# Creamos nuevas columnas\n",
    "df_test['Number_Rate_Reviews'] = df_test['Number of Reviews'] * df_test['Review Scores Rating']\n",
    "df_test['Bath_for_Beedrooms'] = df_test['Bedrooms'] * df_test['Bathrooms']\n",
    "\n",
    "# Borramos outliers\n",
    "df_test.drop(df[df['Price']>350].index, inplace = True)\n",
    "\n",
    "# Borramos columnas\n",
    "df_test.drop(['Bed Type', 'Minimum Nights', 'Maximum Nights'], axis=1, inplace=True)\n",
    "\n",
    "# Ponemos price la primera\n",
    "columns = ['Price','Host Response Time', 'Host Response Rate', 'Host Verifications',\n",
    "       'Neighbourhood', 'Zipcode', 'Latitude', 'Longitude', 'Property Type',\n",
    "       'Room Type', 'Accommodates', 'Bathrooms', 'Bedrooms', 'Beds',\n",
    "       'Amenities', 'Security Deposit', 'Cleaning Fee',\n",
    "       'Guests Included', 'Extra People', 'Availability 30',\n",
    "       'Number of Reviews', 'Review Scores Rating', 'Cancellation Policy',\n",
    "       'Calculated host listings count', 'Features', 'Number_Rate_Reviews',\n",
    "       'Bath_for_Beedrooms']\n",
    "df_test = df_test[columns]\n",
    "\n",
    "df_test.drop([\n",
    "    'Cancellation Policy','Number_Rate_Reviews','Host Verifications', 'Review Scores Rating',\n",
    "    'Property Type', 'Beds', 'Features', 'Bedrooms', 'Bathrooms', 'Host Response Rate', 'Security Deposit',\n",
    "    'Host Response Time', 'Latitude', 'Longitude', 'Number of Reviews'\n",
    "    ], \n",
    "    axis=1, inplace=True)"
   ]
  },
  {
   "cell_type": "code",
   "execution_count": 89,
   "metadata": {},
   "outputs": [],
   "source": [
    "# Luego, en test, categorizamos con los datos de train!\n",
    "# ESTO ES EN TEST.CSV!\n",
    "categorical_feature_mask = df_test.dtypes==object\n",
    "categorical_cols = df_test.columns[categorical_feature_mask].tolist()\n",
    "for c in categorical_cols:\n",
    "    df_test[c] = df_test[c].map(mean_map[c])"
   ]
  },
  {
   "cell_type": "code",
   "execution_count": 90,
   "metadata": {},
   "outputs": [
    {
     "data": {
      "text/plain": [
       "Price                             False\n",
       "Neighbourhood                      True\n",
       "Zipcode                            True\n",
       "Room Type                         False\n",
       "Accommodates                      False\n",
       "Amenities                         False\n",
       "Cleaning Fee                      False\n",
       "Guests Included                   False\n",
       "Extra People                      False\n",
       "Availability 30                   False\n",
       "Calculated host listings count    False\n",
       "Bath_for_Beedrooms                False\n",
       "dtype: bool"
      ]
     },
     "execution_count": 90,
     "metadata": {},
     "output_type": "execute_result"
    }
   ],
   "source": [
    "df_test.isnull().any()"
   ]
  },
  {
   "cell_type": "code",
   "execution_count": 91,
   "metadata": {},
   "outputs": [
    {
     "data": {
      "text/plain": [
       "1"
      ]
     },
     "execution_count": 91,
     "metadata": {},
     "output_type": "execute_result"
    }
   ],
   "source": [
    "df_test['Neighbourhood'].isnull().sum()"
   ]
  },
  {
   "cell_type": "code",
   "execution_count": 92,
   "metadata": {},
   "outputs": [
    {
     "data": {
      "text/plain": [
       "8"
      ]
     },
     "execution_count": 92,
     "metadata": {},
     "output_type": "execute_result"
    }
   ],
   "source": [
    "df_test['Zipcode'].isnull().sum()"
   ]
  },
  {
   "cell_type": "markdown",
   "metadata": {},
   "source": [
    "<p style=\"color:ROYALBLUE\">En el dataset de test tenemos 9 registros con NA debido al codificado de variables, como es una cantidad insignificante vamos a eliminar esos registros.</p>"
   ]
  },
  {
   "cell_type": "code",
   "execution_count": 93,
   "metadata": {},
   "outputs": [],
   "source": [
    "df_test.drop(df_test[df_test['Neighbourhood'].isnull()].index, inplace = True)\n",
    "df_test.drop(df_test[df_test['Zipcode'].isnull()].index, inplace = True)"
   ]
  },
  {
   "cell_type": "code",
   "execution_count": 94,
   "metadata": {},
   "outputs": [
    {
     "data": {
      "text/html": [
       "<div>\n",
       "<style scoped>\n",
       "    .dataframe tbody tr th:only-of-type {\n",
       "        vertical-align: middle;\n",
       "    }\n",
       "\n",
       "    .dataframe tbody tr th {\n",
       "        vertical-align: top;\n",
       "    }\n",
       "\n",
       "    .dataframe thead th {\n",
       "        text-align: right;\n",
       "    }\n",
       "</style>\n",
       "<table border=\"1\" class=\"dataframe\">\n",
       "  <thead>\n",
       "    <tr style=\"text-align: right;\">\n",
       "      <th></th>\n",
       "      <th>count</th>\n",
       "      <th>mean</th>\n",
       "      <th>std</th>\n",
       "      <th>min</th>\n",
       "      <th>25%</th>\n",
       "      <th>50%</th>\n",
       "      <th>75%</th>\n",
       "      <th>max</th>\n",
       "    </tr>\n",
       "  </thead>\n",
       "  <tbody>\n",
       "    <tr>\n",
       "      <td>Price</td>\n",
       "      <td>2625.0</td>\n",
       "      <td>1.709910</td>\n",
       "      <td>0.291182</td>\n",
       "      <td>0.954243</td>\n",
       "      <td>1.477121</td>\n",
       "      <td>1.707570</td>\n",
       "      <td>1.903090</td>\n",
       "      <td>2.929419</td>\n",
       "    </tr>\n",
       "    <tr>\n",
       "      <td>Neighbourhood</td>\n",
       "      <td>2625.0</td>\n",
       "      <td>65.380354</td>\n",
       "      <td>18.671224</td>\n",
       "      <td>20.428571</td>\n",
       "      <td>53.661972</td>\n",
       "      <td>66.000000</td>\n",
       "      <td>79.171924</td>\n",
       "      <td>140.911111</td>\n",
       "    </tr>\n",
       "    <tr>\n",
       "      <td>Zipcode</td>\n",
       "      <td>2625.0</td>\n",
       "      <td>65.797533</td>\n",
       "      <td>16.710322</td>\n",
       "      <td>29.181818</td>\n",
       "      <td>59.766871</td>\n",
       "      <td>67.590717</td>\n",
       "      <td>74.283099</td>\n",
       "      <td>123.820652</td>\n",
       "    </tr>\n",
       "    <tr>\n",
       "      <td>Room Type</td>\n",
       "      <td>2625.0</td>\n",
       "      <td>66.035060</td>\n",
       "      <td>26.303414</td>\n",
       "      <td>30.129252</td>\n",
       "      <td>34.258160</td>\n",
       "      <td>87.674157</td>\n",
       "      <td>87.674157</td>\n",
       "      <td>87.674157</td>\n",
       "    </tr>\n",
       "    <tr>\n",
       "      <td>Accommodates</td>\n",
       "      <td>2625.0</td>\n",
       "      <td>3.205714</td>\n",
       "      <td>2.000849</td>\n",
       "      <td>1.000000</td>\n",
       "      <td>2.000000</td>\n",
       "      <td>3.000000</td>\n",
       "      <td>4.000000</td>\n",
       "      <td>16.000000</td>\n",
       "    </tr>\n",
       "    <tr>\n",
       "      <td>Amenities</td>\n",
       "      <td>2625.0</td>\n",
       "      <td>14.339810</td>\n",
       "      <td>4.698975</td>\n",
       "      <td>1.000000</td>\n",
       "      <td>11.000000</td>\n",
       "      <td>14.000000</td>\n",
       "      <td>17.000000</td>\n",
       "      <td>30.000000</td>\n",
       "    </tr>\n",
       "    <tr>\n",
       "      <td>Cleaning Fee</td>\n",
       "      <td>2625.0</td>\n",
       "      <td>16.315048</td>\n",
       "      <td>20.817573</td>\n",
       "      <td>0.000000</td>\n",
       "      <td>0.000000</td>\n",
       "      <td>10.000000</td>\n",
       "      <td>29.000000</td>\n",
       "      <td>250.000000</td>\n",
       "    </tr>\n",
       "    <tr>\n",
       "      <td>Guests Included</td>\n",
       "      <td>2625.0</td>\n",
       "      <td>1.599238</td>\n",
       "      <td>1.128956</td>\n",
       "      <td>1.000000</td>\n",
       "      <td>1.000000</td>\n",
       "      <td>1.000000</td>\n",
       "      <td>2.000000</td>\n",
       "      <td>15.000000</td>\n",
       "    </tr>\n",
       "    <tr>\n",
       "      <td>Extra People</td>\n",
       "      <td>2625.0</td>\n",
       "      <td>7.285333</td>\n",
       "      <td>10.301908</td>\n",
       "      <td>0.000000</td>\n",
       "      <td>0.000000</td>\n",
       "      <td>0.000000</td>\n",
       "      <td>14.000000</td>\n",
       "      <td>271.000000</td>\n",
       "    </tr>\n",
       "    <tr>\n",
       "      <td>Availability 30</td>\n",
       "      <td>2625.0</td>\n",
       "      <td>8.725714</td>\n",
       "      <td>8.959396</td>\n",
       "      <td>0.000000</td>\n",
       "      <td>1.000000</td>\n",
       "      <td>6.000000</td>\n",
       "      <td>13.000000</td>\n",
       "      <td>30.000000</td>\n",
       "    </tr>\n",
       "    <tr>\n",
       "      <td>Calculated host listings count</td>\n",
       "      <td>2625.0</td>\n",
       "      <td>7.257905</td>\n",
       "      <td>18.876367</td>\n",
       "      <td>1.000000</td>\n",
       "      <td>1.000000</td>\n",
       "      <td>2.000000</td>\n",
       "      <td>4.000000</td>\n",
       "      <td>145.000000</td>\n",
       "    </tr>\n",
       "    <tr>\n",
       "      <td>Bath_for_Beedrooms</td>\n",
       "      <td>2625.0</td>\n",
       "      <td>1.780952</td>\n",
       "      <td>2.392669</td>\n",
       "      <td>0.000000</td>\n",
       "      <td>1.000000</td>\n",
       "      <td>1.000000</td>\n",
       "      <td>2.000000</td>\n",
       "      <td>65.000000</td>\n",
       "    </tr>\n",
       "  </tbody>\n",
       "</table>\n",
       "</div>"
      ],
      "text/plain": [
       "                                 count       mean        std        min  \\\n",
       "Price                           2625.0   1.709910   0.291182   0.954243   \n",
       "Neighbourhood                   2625.0  65.380354  18.671224  20.428571   \n",
       "Zipcode                         2625.0  65.797533  16.710322  29.181818   \n",
       "Room Type                       2625.0  66.035060  26.303414  30.129252   \n",
       "Accommodates                    2625.0   3.205714   2.000849   1.000000   \n",
       "Amenities                       2625.0  14.339810   4.698975   1.000000   \n",
       "Cleaning Fee                    2625.0  16.315048  20.817573   0.000000   \n",
       "Guests Included                 2625.0   1.599238   1.128956   1.000000   \n",
       "Extra People                    2625.0   7.285333  10.301908   0.000000   \n",
       "Availability 30                 2625.0   8.725714   8.959396   0.000000   \n",
       "Calculated host listings count  2625.0   7.257905  18.876367   1.000000   \n",
       "Bath_for_Beedrooms              2625.0   1.780952   2.392669   0.000000   \n",
       "\n",
       "                                      25%        50%        75%         max  \n",
       "Price                            1.477121   1.707570   1.903090    2.929419  \n",
       "Neighbourhood                   53.661972  66.000000  79.171924  140.911111  \n",
       "Zipcode                         59.766871  67.590717  74.283099  123.820652  \n",
       "Room Type                       34.258160  87.674157  87.674157   87.674157  \n",
       "Accommodates                     2.000000   3.000000   4.000000   16.000000  \n",
       "Amenities                       11.000000  14.000000  17.000000   30.000000  \n",
       "Cleaning Fee                     0.000000  10.000000  29.000000  250.000000  \n",
       "Guests Included                  1.000000   1.000000   2.000000   15.000000  \n",
       "Extra People                     0.000000   0.000000  14.000000  271.000000  \n",
       "Availability 30                  1.000000   6.000000  13.000000   30.000000  \n",
       "Calculated host listings count   1.000000   2.000000   4.000000  145.000000  \n",
       "Bath_for_Beedrooms               1.000000   1.000000   2.000000   65.000000  "
      ]
     },
     "execution_count": 94,
     "metadata": {},
     "output_type": "execute_result"
    }
   ],
   "source": [
    "df_test.describe().T"
   ]
  },
  {
   "cell_type": "code",
   "execution_count": 95,
   "metadata": {},
   "outputs": [],
   "source": [
    "data_test = df_test.values\n",
    "y_test = data_test[:,0:1]     # nos quedamos con la 1ª columna, price\n",
    "X_test = data_test[:,1:]      # nos quedamos con el resto\n",
    "feature_names_test = df_test.columns[1:]\n",
    "\n",
    "# recordad que esta normalización/escalado la realizo con el scaler anterior, basado en los datos de training!\n",
    "XtestScaled = scaler.transform(X_test)"
   ]
  },
  {
   "cell_type": "markdown",
   "metadata": {},
   "source": [
    "<p style=\"color:ROYALBLUE\">Probamos un modelo de regresión lineal.</p>"
   ]
  },
  {
   "cell_type": "code",
   "execution_count": 96,
   "metadata": {},
   "outputs": [
    {
     "name": "stdout",
     "output_type": "stream",
     "text": [
      "Accuracy en train: 0.6866595862881711\n",
      "Accuracy en test: 0.6762394462404511\n"
     ]
    }
   ],
   "source": [
    "lr = LinearRegression().fit(XtrainScaled, y_train)\n",
    "print(\"Accuracy en train:\", lr.score(XtrainScaled, y_train))\n",
    "print(\"Accuracy en test:\", lr.score(XtestScaled, y_test))"
   ]
  },
  {
   "cell_type": "markdown",
   "metadata": {},
   "source": [
    "<p style=\"color:ROYALBLUE\">Probamos el modelo de Ridge.</p>"
   ]
  },
  {
   "cell_type": "code",
   "execution_count": 97,
   "metadata": {},
   "outputs": [
    {
     "name": "stdout",
     "output_type": "stream",
     "text": [
      "best mean cross-validation score: -0.025\n",
      "best parameters: {'alpha': 31.622776601683793}\n"
     ]
    },
    {
     "data": {
      "image/png": "[encoded data removed]",
      "text/plain": [
       "<Figure size 432x288 with 1 Axes>"
      ]
     },
     "metadata": {
      "needs_background": "light"
     },
     "output_type": "display_data"
    }
   ],
   "source": [
    "alpha_vector = np.logspace(-2,10,25)\n",
    "param_grid = {'alpha': alpha_vector }\n",
    "grid = GridSearchCV(Ridge(), scoring='neg_mean_squared_error', param_grid=param_grid, cv=5)\n",
    "grid.fit(XtrainScaled, y_train)\n",
    "print(\"best mean cross-validation score: {:.3f}\".format(grid.best_score_))\n",
    "print(\"best parameters: {}\".format(grid.best_params_))\n",
    "\n",
    "scores = -1*np.array(grid.cv_results_['mean_test_score'])\n",
    "plt.semilogx(alpha_vector,scores,'-o')\n",
    "plt.xlabel('alpha',fontsize=16)\n",
    "plt.ylabel('5-Fold MSE')\n",
    "plt.ylim((0, 1))\n",
    "plt.show()"
   ]
  },
  {
   "cell_type": "code",
   "execution_count": 98,
   "metadata": {},
   "outputs": [],
   "source": [
    "alpha_optimo = grid.best_params_['alpha']\n",
    "ridge = Ridge(alpha=alpha_optimo).fit(XtrainScaled,y_train)"
   ]
  },
  {
   "cell_type": "code",
   "execution_count": 99,
   "metadata": {},
   "outputs": [
    {
     "name": "stdout",
     "output_type": "stream",
     "text": [
      "Accuracy en train: 0.6866561425639791\n",
      "Accuracy en test: 0.6761884008871323\n"
     ]
    }
   ],
   "source": [
    "print(\"Accuracy en train:\", ridge.score(XtrainScaled, y_train))\n",
    "print(\"Accuracy en test:\", ridge.score(XtestScaled, y_test))"
   ]
  },
  {
   "cell_type": "markdown",
   "metadata": {},
   "source": [
    "<p style=\"color:ROYALBLUE\">Probamos el modelo de Lasso.</p>"
   ]
  },
  {
   "cell_type": "code",
   "execution_count": 100,
   "metadata": {},
   "outputs": [
    {
     "name": "stdout",
     "output_type": "stream",
     "text": [
      "best mean cross-validation score: -0.025\n",
      "best parameters: {'alpha': 0.00017782794100389227}\n"
     ]
    },
    {
     "data": {
      "image/png": "[encoded data removed]",
      "text/plain": [
       "<Figure size 432x288 with 1 Axes>"
      ]
     },
     "metadata": {
      "needs_background": "light"
     },
     "output_type": "display_data"
    }
   ],
   "source": [
    "alpha_vector = np.logspace(-10,5,25)\n",
    "param_grid = {'alpha': alpha_vector }\n",
    "grid = GridSearchCV(Lasso(), scoring='neg_mean_squared_error', param_grid=param_grid, cv=5)\n",
    "grid.fit(XtrainScaled, y_train)\n",
    "print(\"best mean cross-validation score: {:.3f}\".format(grid.best_score_))\n",
    "print(\"best parameters: {}\".format(grid.best_params_))\n",
    "\n",
    "scores = -1*np.array(grid.cv_results_['mean_test_score'])\n",
    "plt.semilogx(alpha_vector,scores,'-o')\n",
    "plt.xlabel('alpha',fontsize=16)\n",
    "plt.ylabel('5-Fold MSE')\n",
    "plt.ylim((0, 1))\n",
    "plt.show()"
   ]
  },
  {
   "cell_type": "code",
   "execution_count": 101,
   "metadata": {},
   "outputs": [],
   "source": [
    "alpha_optimo = grid.best_params_['alpha']\n",
    "lasso = Lasso(alpha=alpha_optimo).fit(XtrainScaled,y_train)"
   ]
  },
  {
   "cell_type": "code",
   "execution_count": 102,
   "metadata": {},
   "outputs": [
    {
     "name": "stdout",
     "output_type": "stream",
     "text": [
      "Accuracy en train: 0.6866561425639791\n",
      "Accuracy en test: 0.6761884008871323\n"
     ]
    }
   ],
   "source": [
    "print(\"Accuracy en train:\", ridge.score(XtrainScaled, y_train))\n",
    "print(\"Accuracy en test:\", ridge.score(XtestScaled, y_test))"
   ]
  },
  {
   "cell_type": "markdown",
   "metadata": {},
   "source": [
    "<p style=\"color:ROYALBLUE\">Probamos el árbol de decisión en regresión.</p>"
   ]
  },
  {
   "cell_type": "code",
   "execution_count": 103,
   "metadata": {},
   "outputs": [
    {
     "name": "stdout",
     "output_type": "stream",
     "text": [
      "best parameters: {'max_depth': 7}\n"
     ]
    },
    {
     "data": {
      "image/png": "[encoded data removed]",
      "text/plain": [
       "<Figure size 432x288 with 1 Axes>"
      ]
     },
     "metadata": {
      "needs_background": "light"
     },
     "output_type": "display_data"
    }
   ],
   "source": [
    "max_depth = range(1,15)\n",
    "parameters = {'max_depth': max_depth}\n",
    "\n",
    "grid = GridSearchCV(DecisionTreeRegressor(), param_grid=parameters, cv=5)\n",
    "grid.fit(XtrainScaled, y_train)\n",
    "\n",
    "print(\"best parameters: {}\".format(grid.best_params_))\n",
    "\n",
    "scores = np.array(grid.cv_results_['mean_test_score'])\n",
    "plt.plot(max_depth, scores, '-o')\n",
    "plt.xlabel('max_depth', fontsize=14)\n",
    "plt.show()"
   ]
  },
  {
   "cell_type": "code",
   "execution_count": 104,
   "metadata": {},
   "outputs": [],
   "source": [
    "max_depth_opt = grid.best_params_['max_depth']\n",
    "\n",
    "reg_tree = DecisionTreeRegressor(max_depth=max_depth_opt).fit(XtrainScaled, y_train)"
   ]
  },
  {
   "cell_type": "code",
   "execution_count": 105,
   "metadata": {},
   "outputs": [
    {
     "name": "stdout",
     "output_type": "stream",
     "text": [
      "Accuracy en train: 0.7623939220005888\n",
      "Accuracy en test: 0.7140878725483707\n"
     ]
    }
   ],
   "source": [
    "print(\"Accuracy en train:\", reg_tree.score(XtrainScaled, y_train))\n",
    "print(\"Accuracy en test:\", reg_tree.score(XtestScaled, y_test))"
   ]
  },
  {
   "cell_type": "markdown",
   "metadata": {},
   "source": [
    "<p style=\"color:ROYALBLUE\">Probamos el random forest en regresión.</p>\n",
    "<p style=\"color:ROYALBLUE\">¡¡OJO!! Esta celda también tarda bastante.</p>"
   ]
  },
  {
   "cell_type": "code",
   "execution_count": 107,
   "metadata": {},
   "outputs": [
    {
     "name": "stdout",
     "output_type": "stream",
     "text": [
      "best mean cross-validation score: 0.791\n",
      "best parameters: {'max_depth': 20}\n"
     ]
    },
    {
     "data": {
      "image/png": "[encoded data removed]",
      "text/plain": [
       "<Figure size 432x288 with 1 Axes>"
      ]
     },
     "metadata": {
      "needs_background": "light"
     },
     "output_type": "display_data"
    }
   ],
   "source": [
    "maxDepth = range(1,25)\n",
    "parameters = {'max_depth': maxDepth}\n",
    "grid = GridSearchCV(RandomForestRegressor(random_state=0, n_estimators=200, max_features='sqrt'), param_grid=parameters, cv=5) \n",
    "grid.fit(XtrainScaled, y_train.ravel())\n",
    "\n",
    "\n",
    "print(\"best mean cross-validation score: {:.3f}\".format(grid.best_score_))\n",
    "print(\"best parameters: {}\".format(grid.best_params_))\n",
    "\n",
    "scores = np.array(grid.cv_results_['mean_test_score'])\n",
    "plt.plot(maxDepth,scores,'-o')\n",
    "plt.xlabel('max_depth')\n",
    "plt.ylabel('10-fold ACC')\n",
    "\n",
    "plt.show()"
   ]
  },
  {
   "cell_type": "code",
   "execution_count": 108,
   "metadata": {},
   "outputs": [],
   "source": [
    "# La mejor profundidad que nos da es 20, pero creo que desde 12 la mejora es mínima y así hacemos el modelo mas sencillo\n",
    "bagModel = RandomForestRegressor(max_depth=12,n_estimators=200,max_features='sqrt').fit(XtrainScaled,y_train.ravel())"
   ]
  },
  {
   "cell_type": "code",
   "execution_count": 109,
   "metadata": {},
   "outputs": [
    {
     "name": "stdout",
     "output_type": "stream",
     "text": [
      "Accuracy en train: 0.8689816916701862\n",
      "Accuracy en test: 0.7658587477530464\n"
     ]
    }
   ],
   "source": [
    "print(\"Accuracy en train:\", bagModel.score(XtrainScaled, y_train))\n",
    "print(\"Accuracy en test:\", bagModel.score(XtestScaled, y_test))"
   ]
  },
  {
   "cell_type": "markdown",
   "metadata": {},
   "source": [
    "<p style=\"color:ROYALBLUE\">Viendo la diferencia tan grande que hay entre train y test es mas que probable que se esté produciendo un overfitting, por tanto vamos a bajar la profundidad del árbol.</p>"
   ]
  },
  {
   "cell_type": "code",
   "execution_count": 110,
   "metadata": {},
   "outputs": [
    {
     "name": "stdout",
     "output_type": "stream",
     "text": [
      "Accuracy en train: 0.7929309294511208\n",
      "Accuracy en test: 0.7397399523335637\n"
     ]
    }
   ],
   "source": [
    "bagModel = RandomForestRegressor(max_depth=8,n_estimators=200,max_features='sqrt').fit(XtrainScaled,y_train.ravel())\n",
    "print(\"Accuracy en train:\", bagModel.score(XtrainScaled, y_train))\n",
    "print(\"Accuracy en test:\", bagModel.score(XtestScaled, y_test))"
   ]
  },
  {
   "cell_type": "markdown",
   "metadata": {},
   "source": [
    "<p style=\"color:ROYALBLUE\">Podemos observar como los resultados de regresión lineal, Ridge y Lasso son prácticamente iguales. Con el árbol de decisión ya tenemos una mejora y con el random forest una mejora aún mayor, por tanto y tras todo el análisis podemos concluir que el mejor modelo para predecir el precio sería el RandomForestRegressor que tiene una Accuracy en test de 0,74.</p>"
   ]
  },
  {
   "cell_type": "code",
   "execution_count": null,
   "metadata": {},
   "outputs": [],
   "source": []
  }
 ],
 "metadata": {
  "kernelspec": {
   "display_name": "Python 3",
   "language": "python",
   "name": "python3"
  },
  "language_info": {
   "codemirror_mode": {
    "name": "ipython",
    "version": 3
   },
   "file_extension": ".py",
   "mimetype": "text/x-python",
   "name": "python",
   "nbconvert_exporter": "python",
   "pygments_lexer": "ipython3",
   "version": "3.7.6"
  }
 },
 "nbformat": 4,
 "nbformat_minor": 4
}
